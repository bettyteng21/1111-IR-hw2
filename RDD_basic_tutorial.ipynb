{
  "cells": [
    {
      "cell_type": "markdown",
      "metadata": {
        "id": "view-in-github",
        "colab_type": "text"
      },
      "source": [
        "<a href=\"https://colab.research.google.com/github/bettyteng21/1111-Information-Retrieval/blob/main/RDD_basic_tutorial.ipynb\" target=\"_parent\"><img src=\"https://colab.research.google.com/assets/colab-badge.svg\" alt=\"Open In Colab\"/></a>"
      ]
    },
    {
      "cell_type": "code",
      "execution_count": 1,
      "metadata": {
        "colab": {
          "base_uri": "https://localhost:8080/"
        },
        "id": "cF0hz0LrunvS",
        "outputId": "3e73896b-9baa-476b-d561-19ffa83a8bd9"
      },
      "outputs": [
        {
          "output_type": "stream",
          "name": "stdout",
          "text": [
            "--2022-12-21 06:26:08--  https://www.dropbox.com/s/4jvf5hg8paip699/init_env%20spark%203.1.1.sh?dl=0\n",
            "Resolving www.dropbox.com (www.dropbox.com)... 162.125.4.18, 2620:100:6019:18::a27d:412\n",
            "Connecting to www.dropbox.com (www.dropbox.com)|162.125.4.18|:443... connected.\n",
            "HTTP request sent, awaiting response... 302 Found\n",
            "Location: /s/raw/4jvf5hg8paip699/init_env%20spark%203.1.1.sh [following]\n",
            "--2022-12-21 06:26:08--  https://www.dropbox.com/s/raw/4jvf5hg8paip699/init_env%20spark%203.1.1.sh\n",
            "Reusing existing connection to www.dropbox.com:443.\n",
            "HTTP request sent, awaiting response... 302 Found\n",
            "Location: https://uc7927aeae08c3be2b7e6c8a63d7.dl.dropboxusercontent.com/cd/0/inline/BzBHgfKTG9bDJH7Vf-gpWjRE1jeFAS39q-_-AmzST3mfscgE4qmPS-xgE6HA4QDHgM6jSR5eV7b8rNEHX4fCN45W0EgfKw3ZQn6AFzuDO7zWT965VKlbVCP2kJQQRu7KoQ6-alffBerCXTaO44FcUTC9S5zmriWArD2rc9nD_nNcHA/file# [following]\n",
            "--2022-12-21 06:26:09--  https://uc7927aeae08c3be2b7e6c8a63d7.dl.dropboxusercontent.com/cd/0/inline/BzBHgfKTG9bDJH7Vf-gpWjRE1jeFAS39q-_-AmzST3mfscgE4qmPS-xgE6HA4QDHgM6jSR5eV7b8rNEHX4fCN45W0EgfKw3ZQn6AFzuDO7zWT965VKlbVCP2kJQQRu7KoQ6-alffBerCXTaO44FcUTC9S5zmriWArD2rc9nD_nNcHA/file\n",
            "Resolving uc7927aeae08c3be2b7e6c8a63d7.dl.dropboxusercontent.com (uc7927aeae08c3be2b7e6c8a63d7.dl.dropboxusercontent.com)... 162.125.6.15, 2620:100:6019:15::a27d:40f\n",
            "Connecting to uc7927aeae08c3be2b7e6c8a63d7.dl.dropboxusercontent.com (uc7927aeae08c3be2b7e6c8a63d7.dl.dropboxusercontent.com)|162.125.6.15|:443... connected.\n",
            "HTTP request sent, awaiting response... 200 OK\n",
            "Length: 348 [text/plain]\n",
            "Saving to: ‘init_env.sh’\n",
            "\n",
            "init_env.sh         100%[===================>]     348  --.-KB/s    in 0s      \n",
            "\n",
            "2022-12-21 06:26:09 (66.8 MB/s) - ‘init_env.sh’ saved [348/348]\n",
            "\n",
            "--2022-12-21 06:26:09--  https://archive.apache.org/dist/spark/spark-3.0.3/spark-3.0.3-bin-hadoop2.7.tgz\n",
            "Resolving archive.apache.org (archive.apache.org)... 138.201.131.134, 2a01:4f8:172:2ec5::2\n",
            "Connecting to archive.apache.org (archive.apache.org)|138.201.131.134|:443... connected.\n",
            "HTTP request sent, awaiting response... 200 OK\n",
            "Length: 220400553 (210M) [application/x-gzip]\n",
            "Saving to: ‘spark-3.0.3-bin-hadoop2.7.tgz’\n",
            "\n",
            "spark-3.0.3-bin-had 100%[===================>] 210.19M  2.97MB/s    in 1m 42s  \n",
            "\n",
            "2022-12-21 06:27:52 (2.06 MB/s) - ‘spark-3.0.3-bin-hadoop2.7.tgz’ saved [220400553/220400553]\n",
            "\n",
            "spark-3.0.3-bin-hadoop2.7/\n",
            "spark-3.0.3-bin-hadoop2.7/NOTICE\n",
            "spark-3.0.3-bin-hadoop2.7/kubernetes/\n",
            "spark-3.0.3-bin-hadoop2.7/kubernetes/tests/\n",
            "spark-3.0.3-bin-hadoop2.7/kubernetes/tests/worker_memory_check.py\n",
            "spark-3.0.3-bin-hadoop2.7/kubernetes/tests/py_container_checks.py\n",
            "spark-3.0.3-bin-hadoop2.7/kubernetes/tests/pyfiles.py\n",
            "spark-3.0.3-bin-hadoop2.7/kubernetes/dockerfiles/\n",
            "spark-3.0.3-bin-hadoop2.7/kubernetes/dockerfiles/spark/\n",
            "spark-3.0.3-bin-hadoop2.7/kubernetes/dockerfiles/spark/entrypoint.sh\n",
            "spark-3.0.3-bin-hadoop2.7/kubernetes/dockerfiles/spark/bindings/\n",
            "spark-3.0.3-bin-hadoop2.7/kubernetes/dockerfiles/spark/bindings/R/\n",
            "spark-3.0.3-bin-hadoop2.7/kubernetes/dockerfiles/spark/bindings/R/Dockerfile\n",
            "spark-3.0.3-bin-hadoop2.7/kubernetes/dockerfiles/spark/bindings/python/\n",
            "spark-3.0.3-bin-hadoop2.7/kubernetes/dockerfiles/spark/bindings/python/Dockerfile\n",
            "spark-3.0.3-bin-hadoop2.7/kubernetes/dockerfiles/spark/Dockerfile\n",
            "spark-3.0.3-bin-hadoop2.7/jars/\n",
            "spark-3.0.3-bin-hadoop2.7/jars/jackson-xc-1.9.13.jar\n",
            "spark-3.0.3-bin-hadoop2.7/jars/commons-digester-1.8.jar\n",
            "spark-3.0.3-bin-hadoop2.7/jars/api-util-1.0.0-M20.jar\n",
            "spark-3.0.3-bin-hadoop2.7/jars/hive-vector-code-gen-2.3.7.jar\n",
            "spark-3.0.3-bin-hadoop2.7/jars/derby-10.12.1.1.jar\n",
            "spark-3.0.3-bin-hadoop2.7/jars/commons-beanutils-1.9.4.jar\n",
            "spark-3.0.3-bin-hadoop2.7/jars/httpcore-4.4.12.jar\n",
            "spark-3.0.3-bin-hadoop2.7/jars/hadoop-yarn-api-2.7.4.jar\n",
            "spark-3.0.3-bin-hadoop2.7/jars/scala-library-2.12.10.jar\n",
            "spark-3.0.3-bin-hadoop2.7/jars/parquet-format-2.4.0.jar\n",
            "spark-3.0.3-bin-hadoop2.7/jars/kryo-shaded-4.0.2.jar\n",
            "spark-3.0.3-bin-hadoop2.7/jars/xercesImpl-2.12.0.jar\n",
            "spark-3.0.3-bin-hadoop2.7/jars/commons-logging-1.1.3.jar\n",
            "spark-3.0.3-bin-hadoop2.7/jars/okio-1.15.0.jar\n",
            "spark-3.0.3-bin-hadoop2.7/jars/commons-compiler-3.0.16.jar\n",
            "spark-3.0.3-bin-hadoop2.7/jars/jdo-api-3.0.1.jar\n",
            "spark-3.0.3-bin-hadoop2.7/jars/spire-macros_2.12-0.17.0-M1.jar\n",
            "spark-3.0.3-bin-hadoop2.7/jars/arrow-memory-0.15.1.jar\n",
            "spark-3.0.3-bin-hadoop2.7/jars/JLargeArrays-1.5.jar\n",
            "spark-3.0.3-bin-hadoop2.7/jars/jsp-api-2.1.jar\n",
            "spark-3.0.3-bin-hadoop2.7/jars/logging-interceptor-3.12.6.jar\n",
            "spark-3.0.3-bin-hadoop2.7/jars/javax.servlet-api-3.1.0.jar\n",
            "spark-3.0.3-bin-hadoop2.7/jars/jcl-over-slf4j-1.7.30.jar\n",
            "spark-3.0.3-bin-hadoop2.7/jars/hive-cli-2.3.7.jar\n",
            "spark-3.0.3-bin-hadoop2.7/jars/apacheds-i18n-2.0.0-M15.jar\n",
            "spark-3.0.3-bin-hadoop2.7/jars/parquet-common-1.10.1.jar\n",
            "spark-3.0.3-bin-hadoop2.7/jars/stax-api-1.0.1.jar\n",
            "spark-3.0.3-bin-hadoop2.7/jars/jackson-dataformat-yaml-2.10.0.jar\n",
            "spark-3.0.3-bin-hadoop2.7/jars/algebra_2.12-2.0.0-M2.jar\n",
            "spark-3.0.3-bin-hadoop2.7/jars/spark-graphx_2.12-3.0.3.jar\n",
            "spark-3.0.3-bin-hadoop2.7/jars/hadoop-annotations-2.7.4.jar\n",
            "spark-3.0.3-bin-hadoop2.7/jars/guice-servlet-3.0.jar\n",
            "spark-3.0.3-bin-hadoop2.7/jars/kubernetes-client-4.9.2.jar\n",
            "spark-3.0.3-bin-hadoop2.7/jars/spire-util_2.12-0.17.0-M1.jar\n",
            "spark-3.0.3-bin-hadoop2.7/jars/jakarta.activation-api-1.2.1.jar\n",
            "spark-3.0.3-bin-hadoop2.7/jars/spark-network-shuffle_2.12-3.0.3.jar\n",
            "spark-3.0.3-bin-hadoop2.7/jars/jline-2.14.6.jar\n",
            "spark-3.0.3-bin-hadoop2.7/jars/breeze_2.12-1.0.jar\n",
            "spark-3.0.3-bin-hadoop2.7/jars/metrics-jvm-4.1.1.jar\n",
            "spark-3.0.3-bin-hadoop2.7/jars/dropwizard-metrics-hadoop-metrics2-reporter-0.1.2.jar\n",
            "spark-3.0.3-bin-hadoop2.7/jars/spark-launcher_2.12-3.0.3.jar\n",
            "spark-3.0.3-bin-hadoop2.7/jars/machinist_2.12-0.6.8.jar\n",
            "spark-3.0.3-bin-hadoop2.7/jars/scala-compiler-2.12.10.jar\n",
            "spark-3.0.3-bin-hadoop2.7/jars/commons-pool-1.5.4.jar\n",
            "spark-3.0.3-bin-hadoop2.7/jars/arrow-format-0.15.1.jar\n",
            "spark-3.0.3-bin-hadoop2.7/jars/spark-mllib_2.12-3.0.3.jar\n",
            "spark-3.0.3-bin-hadoop2.7/jars/jta-1.1.jar\n",
            "spark-3.0.3-bin-hadoop2.7/jars/spark-yarn_2.12-3.0.3.jar\n",
            "spark-3.0.3-bin-hadoop2.7/jars/istack-commons-runtime-3.0.8.jar\n",
            "spark-3.0.3-bin-hadoop2.7/jars/metrics-graphite-4.1.1.jar\n",
            "spark-3.0.3-bin-hadoop2.7/jars/hadoop-hdfs-2.7.4.jar\n",
            "spark-3.0.3-bin-hadoop2.7/jars/commons-collections-3.2.2.jar\n",
            "spark-3.0.3-bin-hadoop2.7/jars/audience-annotations-0.5.0.jar\n",
            "spark-3.0.3-bin-hadoop2.7/jars/jpam-1.1.jar\n",
            "spark-3.0.3-bin-hadoop2.7/jars/jakarta.annotation-api-1.3.5.jar\n",
            "spark-3.0.3-bin-hadoop2.7/jars/xmlenc-0.52.jar\n",
            "spark-3.0.3-bin-hadoop2.7/jars/api-asn1-api-1.0.0-M20.jar\n",
            "spark-3.0.3-bin-hadoop2.7/jars/py4j-0.10.9.jar\n",
            "spark-3.0.3-bin-hadoop2.7/jars/hadoop-mapreduce-client-common-2.7.4.jar\n",
            "spark-3.0.3-bin-hadoop2.7/jars/spire-platform_2.12-0.17.0-M1.jar\n",
            "spark-3.0.3-bin-hadoop2.7/jars/avro-1.8.2.jar\n",
            "spark-3.0.3-bin-hadoop2.7/jars/spark-core_2.12-3.0.3.jar\n",
            "spark-3.0.3-bin-hadoop2.7/jars/curator-client-2.7.1.jar\n",
            "spark-3.0.3-bin-hadoop2.7/jars/antlr4-runtime-4.7.1.jar\n",
            "spark-3.0.3-bin-hadoop2.7/jars/javax.inject-1.jar\n",
            "spark-3.0.3-bin-hadoop2.7/jars/spark-kubernetes_2.12-3.0.3.jar\n",
            "spark-3.0.3-bin-hadoop2.7/jars/jersey-media-jaxb-2.30.jar\n",
            "spark-3.0.3-bin-hadoop2.7/jars/commons-lang3-3.9.jar\n",
            "spark-3.0.3-bin-hadoop2.7/jars/javax.jdo-3.2.0-m3.jar\n",
            "spark-3.0.3-bin-hadoop2.7/jars/hadoop-auth-2.7.4.jar\n",
            "spark-3.0.3-bin-hadoop2.7/jars/commons-io-2.4.jar\n",
            "spark-3.0.3-bin-hadoop2.7/jars/objenesis-2.5.1.jar\n",
            "spark-3.0.3-bin-hadoop2.7/jars/paranamer-2.8.jar\n",
            "spark-3.0.3-bin-hadoop2.7/jars/cats-kernel_2.12-2.0.0-M4.jar\n",
            "spark-3.0.3-bin-hadoop2.7/jars/flatbuffers-java-1.9.0.jar\n",
            "spark-3.0.3-bin-hadoop2.7/jars/jersey-server-2.30.jar\n",
            "spark-3.0.3-bin-hadoop2.7/jars/stream-2.9.6.jar\n",
            "spark-3.0.3-bin-hadoop2.7/jars/datanucleus-api-jdo-4.2.4.jar\n",
            "spark-3.0.3-bin-hadoop2.7/jars/gson-2.2.4.jar\n",
            "spark-3.0.3-bin-hadoop2.7/jars/xml-apis-1.4.01.jar\n",
            "spark-3.0.3-bin-hadoop2.7/jars/apacheds-kerberos-codec-2.0.0-M15.jar\n",
            "spark-3.0.3-bin-hadoop2.7/jars/hadoop-mapreduce-client-shuffle-2.7.4.jar\n",
            "spark-3.0.3-bin-hadoop2.7/jars/spark-hive_2.12-3.0.3.jar\n",
            "spark-3.0.3-bin-hadoop2.7/jars/hive-jdbc-2.3.7.jar\n",
            "spark-3.0.3-bin-hadoop2.7/jars/hive-exec-2.3.7-core.jar\n",
            "spark-3.0.3-bin-hadoop2.7/jars/opencsv-2.3.jar\n",
            "spark-3.0.3-bin-hadoop2.7/jars/spark-sketch_2.12-3.0.3.jar\n",
            "spark-3.0.3-bin-hadoop2.7/jars/avro-mapred-1.8.2-hadoop2.jar\n",
            "spark-3.0.3-bin-hadoop2.7/jars/jsr305-3.0.0.jar\n",
            "spark-3.0.3-bin-hadoop2.7/jars/univocity-parsers-2.9.0.jar\n",
            "spark-3.0.3-bin-hadoop2.7/jars/macro-compat_2.12-1.1.1.jar\n",
            "spark-3.0.3-bin-hadoop2.7/jars/commons-dbcp-1.4.jar\n",
            "spark-3.0.3-bin-hadoop2.7/jars/jersey-container-servlet-core-2.30.jar\n",
            "spark-3.0.3-bin-hadoop2.7/jars/orc-core-1.5.10.jar\n",
            "spark-3.0.3-bin-hadoop2.7/jars/hk2-api-2.6.1.jar\n",
            "spark-3.0.3-bin-hadoop2.7/jars/parquet-jackson-1.10.1.jar\n",
            "spark-3.0.3-bin-hadoop2.7/jars/mesos-1.4.0-shaded-protobuf.jar\n",
            "spark-3.0.3-bin-hadoop2.7/jars/chill-java-0.9.5.jar\n",
            "spark-3.0.3-bin-hadoop2.7/jars/spark-tags_2.12-3.0.3-tests.jar\n",
            "spark-3.0.3-bin-hadoop2.7/jars/automaton-1.11-8.jar\n",
            "spark-3.0.3-bin-hadoop2.7/jars/commons-lang-2.6.jar\n",
            "spark-3.0.3-bin-hadoop2.7/jars/jackson-annotations-2.10.0.jar\n",
            "spark-3.0.3-bin-hadoop2.7/jars/hk2-utils-2.6.1.jar\n",
            "spark-3.0.3-bin-hadoop2.7/jars/spark-network-common_2.12-3.0.3.jar\n",
            "spark-3.0.3-bin-hadoop2.7/jars/spark-repl_2.12-3.0.3.jar\n",
            "spark-3.0.3-bin-hadoop2.7/jars/velocity-1.5.jar\n",
            "spark-3.0.3-bin-hadoop2.7/jars/htrace-core-3.1.0-incubating.jar\n",
            "spark-3.0.3-bin-hadoop2.7/jars/jul-to-slf4j-1.7.30.jar\n",
            "spark-3.0.3-bin-hadoop2.7/jars/JTransforms-3.1.jar\n",
            "spark-3.0.3-bin-hadoop2.7/jars/json4s-ast_2.12-3.6.6.jar\n",
            "spark-3.0.3-bin-hadoop2.7/jars/jersey-client-2.30.jar\n",
            "spark-3.0.3-bin-hadoop2.7/jars/httpclient-4.5.6.jar\n",
            "spark-3.0.3-bin-hadoop2.7/jars/jetty-sslengine-6.1.26.jar\n",
            "spark-3.0.3-bin-hadoop2.7/jars/spark-kvstore_2.12-3.0.3.jar\n",
            "spark-3.0.3-bin-hadoop2.7/jars/spire_2.12-0.17.0-M1.jar\n",
            "spark-3.0.3-bin-hadoop2.7/jars/jersey-hk2-2.30.jar\n",
            "spark-3.0.3-bin-hadoop2.7/jars/commons-math3-3.4.1.jar\n",
            "spark-3.0.3-bin-hadoop2.7/jars/xbean-asm7-shaded-4.15.jar\n",
            "spark-3.0.3-bin-hadoop2.7/jars/jakarta.validation-api-2.0.2.jar\n",
            "spark-3.0.3-bin-hadoop2.7/jars/parquet-encoding-1.10.1.jar\n",
            "spark-3.0.3-bin-hadoop2.7/jars/snappy-java-1.1.8.2.jar\n",
            "spark-3.0.3-bin-hadoop2.7/jars/slf4j-log4j12-1.7.30.jar\n",
            "spark-3.0.3-bin-hadoop2.7/jars/hadoop-mapreduce-client-app-2.7.4.jar\n",
            "spark-3.0.3-bin-hadoop2.7/jars/zstd-jni-1.4.4-3.jar\n",
            "spark-3.0.3-bin-hadoop2.7/jars/slf4j-api-1.7.30.jar\n",
            "spark-3.0.3-bin-hadoop2.7/jars/hive-shims-0.23-2.3.7.jar\n",
            "spark-3.0.3-bin-hadoop2.7/jars/guava-14.0.1.jar\n",
            "spark-3.0.3-bin-hadoop2.7/jars/stax-api-1.0-2.jar\n",
            "spark-3.0.3-bin-hadoop2.7/jars/zjsonpatch-0.3.0.jar\n",
            "spark-3.0.3-bin-hadoop2.7/jars/hive-storage-api-2.7.1.jar\n",
            "spark-3.0.3-bin-hadoop2.7/jars/shapeless_2.12-2.3.3.jar\n",
            "spark-3.0.3-bin-hadoop2.7/jars/kubernetes-model-common-4.9.2.jar\n",
            "spark-3.0.3-bin-hadoop2.7/jars/oro-2.0.8.jar\n",
            "spark-3.0.3-bin-hadoop2.7/jars/hadoop-yarn-client-2.7.4.jar\n",
            "spark-3.0.3-bin-hadoop2.7/jars/libfb303-0.9.3.jar\n",
            "spark-3.0.3-bin-hadoop2.7/jars/core-1.1.2.jar\n",
            "spark-3.0.3-bin-hadoop2.7/jars/jersey-container-servlet-2.30.jar\n",
            "spark-3.0.3-bin-hadoop2.7/jars/datanucleus-rdbms-4.1.19.jar\n",
            "spark-3.0.3-bin-hadoop2.7/jars/super-csv-2.2.0.jar\n",
            "spark-3.0.3-bin-hadoop2.7/jars/compress-lzf-1.0.3.jar\n",
            "spark-3.0.3-bin-hadoop2.7/jars/jackson-module-paranamer-2.10.0.jar\n",
            "spark-3.0.3-bin-hadoop2.7/jars/aopalliance-1.0.jar\n",
            "spark-3.0.3-bin-hadoop2.7/jars/osgi-resource-locator-1.0.3.jar\n",
            "spark-3.0.3-bin-hadoop2.7/jars/jackson-module-scala_2.12-2.10.0.jar\n",
            "spark-3.0.3-bin-hadoop2.7/jars/hive-shims-2.3.7.jar\n",
            "spark-3.0.3-bin-hadoop2.7/jars/hadoop-yarn-server-common-2.7.4.jar\n",
            "spark-3.0.3-bin-hadoop2.7/jars/json-1.8.jar\n",
            "spark-3.0.3-bin-hadoop2.7/jars/antlr-runtime-3.5.2.jar\n",
            "spark-3.0.3-bin-hadoop2.7/jars/threeten-extra-1.5.0.jar\n",
            "spark-3.0.3-bin-hadoop2.7/jars/jetty-6.1.26.jar\n",
            "spark-3.0.3-bin-hadoop2.7/jars/spark-tags_2.12-3.0.3.jar\n",
            "spark-3.0.3-bin-hadoop2.7/jars/jackson-module-jaxb-annotations-2.10.0.jar\n",
            "spark-3.0.3-bin-hadoop2.7/jars/jersey-common-2.30.jar\n",
            "spark-3.0.3-bin-hadoop2.7/jars/aircompressor-0.10.jar\n",
            "spark-3.0.3-bin-hadoop2.7/jars/lz4-java-1.7.1.jar\n",
            "spark-3.0.3-bin-hadoop2.7/jars/hadoop-client-2.7.4.jar\n",
            "spark-3.0.3-bin-hadoop2.7/jars/activation-1.1.1.jar\n",
            "spark-3.0.3-bin-hadoop2.7/jars/shims-0.7.45.jar\n",
            "spark-3.0.3-bin-hadoop2.7/jars/commons-crypto-1.1.0.jar\n",
            "spark-3.0.3-bin-hadoop2.7/jars/spark-mesos_2.12-3.0.3.jar\n",
            "spark-3.0.3-bin-hadoop2.7/jars/libthrift-0.12.0.jar\n",
            "spark-3.0.3-bin-hadoop2.7/jars/orc-mapreduce-1.5.10.jar\n",
            "spark-3.0.3-bin-hadoop2.7/jars/HikariCP-2.5.1.jar\n",
            "spark-3.0.3-bin-hadoop2.7/jars/generex-1.0.2.jar\n",
            "spark-3.0.3-bin-hadoop2.7/jars/okhttp-3.12.6.jar\n",
            "spark-3.0.3-bin-hadoop2.7/jars/breeze-macros_2.12-1.0.jar\n",
            "spark-3.0.3-bin-hadoop2.7/jars/leveldbjni-all-1.8.jar\n",
            "spark-3.0.3-bin-hadoop2.7/jars/jaxb-runtime-2.3.2.jar\n",
            "spark-3.0.3-bin-hadoop2.7/jars/commons-httpclient-3.1.jar\n",
            "spark-3.0.3-bin-hadoop2.7/jars/jackson-core-asl-1.9.13.jar\n",
            "spark-3.0.3-bin-hadoop2.7/jars/scala-xml_2.12-1.2.0.jar\n",
            "spark-3.0.3-bin-hadoop2.7/jars/hk2-locator-2.6.1.jar\n",
            "spark-3.0.3-bin-hadoop2.7/jars/hadoop-common-2.7.4.jar\n",
            "spark-3.0.3-bin-hadoop2.7/jars/curator-recipes-2.7.1.jar\n",
            "spark-3.0.3-bin-hadoop2.7/jars/jackson-mapper-asl-1.9.13.jar\n",
            "spark-3.0.3-bin-hadoop2.7/jars/hive-common-2.3.7.jar\n",
            "spark-3.0.3-bin-hadoop2.7/jars/xz-1.5.jar\n",
            "spark-3.0.3-bin-hadoop2.7/jars/ST4-4.0.4.jar\n",
            "spark-3.0.3-bin-hadoop2.7/jars/hive-shims-scheduler-2.3.7.jar\n",
            "spark-3.0.3-bin-hadoop2.7/jars/spark-unsafe_2.12-3.0.3.jar\n",
            "spark-3.0.3-bin-hadoop2.7/jars/parquet-hadoop-1.10.1.jar\n",
            "spark-3.0.3-bin-hadoop2.7/jars/chill_2.12-0.9.5.jar\n",
            "spark-3.0.3-bin-hadoop2.7/jars/commons-configuration-1.6.jar\n",
            "spark-3.0.3-bin-hadoop2.7/jars/jackson-databind-2.10.0.jar\n",
            "spark-3.0.3-bin-hadoop2.7/jars/spark-hive-thriftserver_2.12-3.0.3.jar\n",
            "spark-3.0.3-bin-hadoop2.7/jars/scala-reflect-2.12.10.jar\n",
            "spark-3.0.3-bin-hadoop2.7/jars/joda-time-2.10.5.jar\n",
            "spark-3.0.3-bin-hadoop2.7/jars/minlog-1.3.0.jar\n",
            "spark-3.0.3-bin-hadoop2.7/jars/jakarta.ws.rs-api-2.1.6.jar\n",
            "spark-3.0.3-bin-hadoop2.7/jars/orc-shims-1.5.10.jar\n",
            "spark-3.0.3-bin-hadoop2.7/jars/aopalliance-repackaged-2.6.1.jar\n",
            "spark-3.0.3-bin-hadoop2.7/jars/commons-compress-1.20.jar\n",
            "spark-3.0.3-bin-hadoop2.7/jars/bonecp-0.8.0.RELEASE.jar\n",
            "spark-3.0.3-bin-hadoop2.7/jars/jodd-core-3.5.2.jar\n",
            "spark-3.0.3-bin-hadoop2.7/jars/hadoop-yarn-server-web-proxy-2.7.4.jar\n",
            "spark-3.0.3-bin-hadoop2.7/jars/jackson-core-2.10.0.jar\n",
            "spark-3.0.3-bin-hadoop2.7/jars/protobuf-java-2.5.0.jar\n",
            "spark-3.0.3-bin-hadoop2.7/jars/commons-net-3.1.jar\n",
            "spark-3.0.3-bin-hadoop2.7/jars/hadoop-mapreduce-client-jobclient-2.7.4.jar\n",
            "spark-3.0.3-bin-hadoop2.7/jars/datanucleus-core-4.1.17.jar\n",
            "spark-3.0.3-bin-hadoop2.7/jars/jackson-jaxrs-1.9.13.jar\n",
            "spark-3.0.3-bin-hadoop2.7/jars/janino-3.0.16.jar\n",
            "spark-3.0.3-bin-hadoop2.7/jars/hive-shims-common-2.3.7.jar\n",
            "spark-3.0.3-bin-hadoop2.7/jars/javolution-5.5.1.jar\n",
            "spark-3.0.3-bin-hadoop2.7/jars/transaction-api-1.1.jar\n",
            "spark-3.0.3-bin-hadoop2.7/jars/spark-streaming_2.12-3.0.3.jar\n",
            "spark-3.0.3-bin-hadoop2.7/jars/jackson-datatype-jsr310-2.10.3.jar\n",
            "spark-3.0.3-bin-hadoop2.7/jars/spark-mllib-local_2.12-3.0.3.jar\n",
            "spark-3.0.3-bin-hadoop2.7/jars/jaxb-api-2.2.2.jar\n",
            "spark-3.0.3-bin-hadoop2.7/jars/commons-cli-1.2.jar\n",
            "spark-3.0.3-bin-hadoop2.7/jars/jakarta.inject-2.6.1.jar\n",
            "spark-3.0.3-bin-hadoop2.7/jars/metrics-jmx-4.1.1.jar\n",
            "spark-3.0.3-bin-hadoop2.7/jars/arrow-vector-0.15.1.jar\n",
            "spark-3.0.3-bin-hadoop2.7/jars/jakarta.xml.bind-api-2.3.2.jar\n",
            "spark-3.0.3-bin-hadoop2.7/jars/commons-codec-1.10.jar\n",
            "spark-3.0.3-bin-hadoop2.7/jars/spark-catalyst_2.12-3.0.3.jar\n",
            "spark-3.0.3-bin-hadoop2.7/jars/hadoop-yarn-common-2.7.4.jar\n",
            "spark-3.0.3-bin-hadoop2.7/jars/curator-framework-2.7.1.jar\n",
            "spark-3.0.3-bin-hadoop2.7/jars/arpack_combined_all-0.1.jar\n",
            "spark-3.0.3-bin-hadoop2.7/jars/hive-metastore-2.3.7.jar\n",
            "spark-3.0.3-bin-hadoop2.7/jars/hive-beeline-2.3.7.jar\n",
            "spark-3.0.3-bin-hadoop2.7/jars/metrics-core-4.1.1.jar\n",
            "spark-3.0.3-bin-hadoop2.7/jars/hive-llap-common-2.3.7.jar\n",
            "spark-3.0.3-bin-hadoop2.7/jars/netty-all-4.1.47.Final.jar\n",
            "spark-3.0.3-bin-hadoop2.7/jars/javassist-3.25.0-GA.jar\n",
            "spark-3.0.3-bin-hadoop2.7/jars/scala-collection-compat_2.12-2.1.1.jar\n",
            "spark-3.0.3-bin-hadoop2.7/jars/spark-sql_2.12-3.0.3.jar\n",
            "spark-3.0.3-bin-hadoop2.7/jars/parquet-column-1.10.1.jar\n",
            "spark-3.0.3-bin-hadoop2.7/jars/jetty-util-6.1.26.jar\n",
            "spark-3.0.3-bin-hadoop2.7/jars/kubernetes-model-4.9.2.jar\n",
            "spark-3.0.3-bin-hadoop2.7/jars/avro-ipc-1.8.2.jar\n",
            "spark-3.0.3-bin-hadoop2.7/jars/guice-3.0.jar\n",
            "spark-3.0.3-bin-hadoop2.7/jars/commons-text-1.6.jar\n",
            "spark-3.0.3-bin-hadoop2.7/jars/json4s-scalap_2.12-3.6.6.jar\n",
            "spark-3.0.3-bin-hadoop2.7/jars/metrics-json-4.1.1.jar\n",
            "spark-3.0.3-bin-hadoop2.7/jars/snakeyaml-1.24.jar\n",
            "spark-3.0.3-bin-hadoop2.7/jars/json4s-jackson_2.12-3.6.6.jar\n",
            "spark-3.0.3-bin-hadoop2.7/jars/ivy-2.4.0.jar\n",
            "spark-3.0.3-bin-hadoop2.7/jars/hadoop-mapreduce-client-core-2.7.4.jar\n",
            "spark-3.0.3-bin-hadoop2.7/jars/json4s-core_2.12-3.6.6.jar\n",
            "spark-3.0.3-bin-hadoop2.7/jars/pyrolite-4.30.jar\n",
            "spark-3.0.3-bin-hadoop2.7/jars/log4j-1.2.17.jar\n",
            "spark-3.0.3-bin-hadoop2.7/jars/hive-serde-2.3.7.jar\n",
            "spark-3.0.3-bin-hadoop2.7/jars/scala-parser-combinators_2.12-1.1.2.jar\n",
            "spark-3.0.3-bin-hadoop2.7/jars/RoaringBitmap-0.7.45.jar\n",
            "spark-3.0.3-bin-hadoop2.7/jars/zookeeper-3.4.14.jar\n",
            "spark-3.0.3-bin-hadoop2.7/data/\n",
            "spark-3.0.3-bin-hadoop2.7/data/mllib/\n",
            "spark-3.0.3-bin-hadoop2.7/data/mllib/sample_lda_data.txt\n",
            "spark-3.0.3-bin-hadoop2.7/data/mllib/sample_libsvm_data.txt\n",
            "spark-3.0.3-bin-hadoop2.7/data/mllib/sample_svm_data.txt\n",
            "spark-3.0.3-bin-hadoop2.7/data/mllib/sample_multiclass_classification_data.txt\n",
            "spark-3.0.3-bin-hadoop2.7/data/mllib/sample_linear_regression_data.txt\n",
            "spark-3.0.3-bin-hadoop2.7/data/mllib/sample_lda_libsvm_data.txt\n",
            "spark-3.0.3-bin-hadoop2.7/data/mllib/sample_fpgrowth.txt\n",
            "spark-3.0.3-bin-hadoop2.7/data/mllib/sample_binary_classification_data.txt\n",
            "spark-3.0.3-bin-hadoop2.7/data/mllib/sample_isotonic_regression_libsvm_data.txt\n",
            "spark-3.0.3-bin-hadoop2.7/data/mllib/iris_libsvm.txt\n",
            "spark-3.0.3-bin-hadoop2.7/data/mllib/sample_movielens_data.txt\n",
            "spark-3.0.3-bin-hadoop2.7/data/mllib/als/\n",
            "spark-3.0.3-bin-hadoop2.7/data/mllib/als/test.data\n",
            "spark-3.0.3-bin-hadoop2.7/data/mllib/als/sample_movielens_ratings.txt\n",
            "spark-3.0.3-bin-hadoop2.7/data/mllib/sample_kmeans_data.txt\n",
            "spark-3.0.3-bin-hadoop2.7/data/mllib/pic_data.txt\n",
            "spark-3.0.3-bin-hadoop2.7/data/mllib/images/\n",
            "spark-3.0.3-bin-hadoop2.7/data/mllib/images/origin/\n",
            "spark-3.0.3-bin-hadoop2.7/data/mllib/images/origin/kittens/\n",
            "spark-3.0.3-bin-hadoop2.7/data/mllib/images/origin/kittens/54893.jpg\n",
            "spark-3.0.3-bin-hadoop2.7/data/mllib/images/origin/kittens/not-image.txt\n",
            "spark-3.0.3-bin-hadoop2.7/data/mllib/images/origin/kittens/DP802813.jpg\n",
            "spark-3.0.3-bin-hadoop2.7/data/mllib/images/origin/kittens/29.5.a_b_EGDP022204.jpg\n",
            "spark-3.0.3-bin-hadoop2.7/data/mllib/images/origin/kittens/DP153539.jpg\n",
            "spark-3.0.3-bin-hadoop2.7/data/mllib/images/origin/license.txt\n",
            "spark-3.0.3-bin-hadoop2.7/data/mllib/images/origin/multi-channel/\n",
            "spark-3.0.3-bin-hadoop2.7/data/mllib/images/origin/multi-channel/BGRA.png\n",
            "spark-3.0.3-bin-hadoop2.7/data/mllib/images/origin/multi-channel/BGRA_alpha_60.png\n",
            "spark-3.0.3-bin-hadoop2.7/data/mllib/images/origin/multi-channel/grayscale.jpg\n",
            "spark-3.0.3-bin-hadoop2.7/data/mllib/images/origin/multi-channel/chr30.4.184.jpg\n",
            "spark-3.0.3-bin-hadoop2.7/data/mllib/images/partitioned/\n",
            "spark-3.0.3-bin-hadoop2.7/data/mllib/images/partitioned/cls=multichannel/\n",
            "spark-3.0.3-bin-hadoop2.7/data/mllib/images/partitioned/cls=multichannel/date=2018-01/\n",
            "spark-3.0.3-bin-hadoop2.7/data/mllib/images/partitioned/cls=multichannel/date=2018-01/BGRA.png\n",
            "spark-3.0.3-bin-hadoop2.7/data/mllib/images/partitioned/cls=multichannel/date=2018-01/BGRA_alpha_60.png\n",
            "spark-3.0.3-bin-hadoop2.7/data/mllib/images/partitioned/cls=multichannel/date=2018-02/\n",
            "spark-3.0.3-bin-hadoop2.7/data/mllib/images/partitioned/cls=multichannel/date=2018-02/grayscale.jpg\n",
            "spark-3.0.3-bin-hadoop2.7/data/mllib/images/partitioned/cls=multichannel/date=2018-02/chr30.4.184.jpg\n",
            "spark-3.0.3-bin-hadoop2.7/data/mllib/images/partitioned/cls=kittens/\n",
            "spark-3.0.3-bin-hadoop2.7/data/mllib/images/partitioned/cls=kittens/date=2018-01/\n",
            "spark-3.0.3-bin-hadoop2.7/data/mllib/images/partitioned/cls=kittens/date=2018-01/not-image.txt\n",
            "spark-3.0.3-bin-hadoop2.7/data/mllib/images/partitioned/cls=kittens/date=2018-01/29.5.a_b_EGDP022204.jpg\n",
            "spark-3.0.3-bin-hadoop2.7/data/mllib/images/partitioned/cls=kittens/date=2018-02/\n",
            "spark-3.0.3-bin-hadoop2.7/data/mllib/images/partitioned/cls=kittens/date=2018-02/54893.jpg\n",
            "spark-3.0.3-bin-hadoop2.7/data/mllib/images/partitioned/cls=kittens/date=2018-02/DP802813.jpg\n",
            "spark-3.0.3-bin-hadoop2.7/data/mllib/images/partitioned/cls=kittens/date=2018-02/DP153539.jpg\n",
            "spark-3.0.3-bin-hadoop2.7/data/mllib/images/license.txt\n",
            "spark-3.0.3-bin-hadoop2.7/data/mllib/ridge-data/\n",
            "spark-3.0.3-bin-hadoop2.7/data/mllib/ridge-data/lpsa.data\n",
            "spark-3.0.3-bin-hadoop2.7/data/mllib/kmeans_data.txt\n",
            "spark-3.0.3-bin-hadoop2.7/data/mllib/streaming_kmeans_data_test.txt\n",
            "spark-3.0.3-bin-hadoop2.7/data/mllib/pagerank_data.txt\n",
            "spark-3.0.3-bin-hadoop2.7/data/mllib/gmm_data.txt\n",
            "spark-3.0.3-bin-hadoop2.7/data/graphx/\n",
            "spark-3.0.3-bin-hadoop2.7/data/graphx/users.txt\n",
            "spark-3.0.3-bin-hadoop2.7/data/graphx/followers.txt\n",
            "spark-3.0.3-bin-hadoop2.7/data/streaming/\n",
            "spark-3.0.3-bin-hadoop2.7/data/streaming/AFINN-111.txt\n",
            "spark-3.0.3-bin-hadoop2.7/R/\n",
            "spark-3.0.3-bin-hadoop2.7/R/lib/\n",
            "spark-3.0.3-bin-hadoop2.7/R/lib/sparkr.zip\n",
            "spark-3.0.3-bin-hadoop2.7/R/lib/SparkR/\n",
            "spark-3.0.3-bin-hadoop2.7/R/lib/SparkR/tests/\n",
            "spark-3.0.3-bin-hadoop2.7/R/lib/SparkR/tests/testthat/\n",
            "spark-3.0.3-bin-hadoop2.7/R/lib/SparkR/tests/testthat/test_basic.R\n",
            "spark-3.0.3-bin-hadoop2.7/R/lib/SparkR/DESCRIPTION\n",
            "spark-3.0.3-bin-hadoop2.7/R/lib/SparkR/profile/\n",
            "spark-3.0.3-bin-hadoop2.7/R/lib/SparkR/profile/shell.R\n",
            "spark-3.0.3-bin-hadoop2.7/R/lib/SparkR/profile/general.R\n",
            "spark-3.0.3-bin-hadoop2.7/R/lib/SparkR/INDEX\n",
            "spark-3.0.3-bin-hadoop2.7/R/lib/SparkR/Meta/\n",
            "spark-3.0.3-bin-hadoop2.7/R/lib/SparkR/Meta/features.rds\n",
            "spark-3.0.3-bin-hadoop2.7/R/lib/SparkR/Meta/links.rds\n",
            "spark-3.0.3-bin-hadoop2.7/R/lib/SparkR/Meta/nsInfo.rds\n",
            "spark-3.0.3-bin-hadoop2.7/R/lib/SparkR/Meta/package.rds\n",
            "spark-3.0.3-bin-hadoop2.7/R/lib/SparkR/Meta/Rd.rds\n",
            "spark-3.0.3-bin-hadoop2.7/R/lib/SparkR/Meta/hsearch.rds\n",
            "spark-3.0.3-bin-hadoop2.7/R/lib/SparkR/help/\n",
            "spark-3.0.3-bin-hadoop2.7/R/lib/SparkR/help/SparkR.rdb\n",
            "spark-3.0.3-bin-hadoop2.7/R/lib/SparkR/help/aliases.rds\n",
            "spark-3.0.3-bin-hadoop2.7/R/lib/SparkR/help/SparkR.rdx\n",
            "spark-3.0.3-bin-hadoop2.7/R/lib/SparkR/help/AnIndex\n",
            "spark-3.0.3-bin-hadoop2.7/R/lib/SparkR/help/paths.rds\n",
            "spark-3.0.3-bin-hadoop2.7/R/lib/SparkR/R/\n",
            "spark-3.0.3-bin-hadoop2.7/R/lib/SparkR/R/SparkR.rdb\n",
            "spark-3.0.3-bin-hadoop2.7/R/lib/SparkR/R/SparkR.rdx\n",
            "spark-3.0.3-bin-hadoop2.7/R/lib/SparkR/R/SparkR\n",
            "spark-3.0.3-bin-hadoop2.7/R/lib/SparkR/NAMESPACE\n",
            "spark-3.0.3-bin-hadoop2.7/R/lib/SparkR/html/\n",
            "spark-3.0.3-bin-hadoop2.7/R/lib/SparkR/html/00Index.html\n",
            "spark-3.0.3-bin-hadoop2.7/R/lib/SparkR/html/R.css\n",
            "spark-3.0.3-bin-hadoop2.7/R/lib/SparkR/worker/\n",
            "spark-3.0.3-bin-hadoop2.7/R/lib/SparkR/worker/worker.R\n",
            "spark-3.0.3-bin-hadoop2.7/R/lib/SparkR/worker/daemon.R\n",
            "spark-3.0.3-bin-hadoop2.7/README.md\n",
            "spark-3.0.3-bin-hadoop2.7/RELEASE\n",
            "spark-3.0.3-bin-hadoop2.7/yarn/\n",
            "spark-3.0.3-bin-hadoop2.7/yarn/spark-3.0.3-yarn-shuffle.jar\n",
            "spark-3.0.3-bin-hadoop2.7/LICENSE\n",
            "spark-3.0.3-bin-hadoop2.7/sbin/\n",
            "spark-3.0.3-bin-hadoop2.7/sbin/stop-mesos-shuffle-service.sh\n",
            "spark-3.0.3-bin-hadoop2.7/sbin/start-master.sh\n",
            "spark-3.0.3-bin-hadoop2.7/sbin/spark-config.sh\n",
            "spark-3.0.3-bin-hadoop2.7/sbin/start-history-server.sh\n",
            "spark-3.0.3-bin-hadoop2.7/sbin/start-slaves.sh\n",
            "spark-3.0.3-bin-hadoop2.7/sbin/spark-daemon.sh\n",
            "spark-3.0.3-bin-hadoop2.7/sbin/stop-mesos-dispatcher.sh\n",
            "spark-3.0.3-bin-hadoop2.7/sbin/start-mesos-shuffle-service.sh\n",
            "spark-3.0.3-bin-hadoop2.7/sbin/slaves.sh\n",
            "spark-3.0.3-bin-hadoop2.7/sbin/stop-history-server.sh\n",
            "spark-3.0.3-bin-hadoop2.7/sbin/start-thriftserver.sh\n",
            "spark-3.0.3-bin-hadoop2.7/sbin/stop-thriftserver.sh\n",
            "spark-3.0.3-bin-hadoop2.7/sbin/start-slave.sh\n",
            "spark-3.0.3-bin-hadoop2.7/sbin/start-all.sh\n",
            "spark-3.0.3-bin-hadoop2.7/sbin/stop-slave.sh\n",
            "spark-3.0.3-bin-hadoop2.7/sbin/spark-daemons.sh\n",
            "spark-3.0.3-bin-hadoop2.7/sbin/stop-slaves.sh\n",
            "spark-3.0.3-bin-hadoop2.7/sbin/stop-all.sh\n",
            "spark-3.0.3-bin-hadoop2.7/sbin/start-mesos-dispatcher.sh\n",
            "spark-3.0.3-bin-hadoop2.7/sbin/stop-master.sh\n",
            "spark-3.0.3-bin-hadoop2.7/examples/\n",
            "spark-3.0.3-bin-hadoop2.7/examples/src/\n",
            "spark-3.0.3-bin-hadoop2.7/examples/src/main/\n",
            "spark-3.0.3-bin-hadoop2.7/examples/src/main/r/\n",
            "spark-3.0.3-bin-hadoop2.7/examples/src/main/r/ml/\n",
            "spark-3.0.3-bin-hadoop2.7/examples/src/main/r/ml/survreg.R\n",
            "spark-3.0.3-bin-hadoop2.7/examples/src/main/r/ml/glm.R\n",
            "spark-3.0.3-bin-hadoop2.7/examples/src/main/r/ml/prefixSpan.R\n",
            "spark-3.0.3-bin-hadoop2.7/examples/src/main/r/ml/powerIterationClustering.R\n",
            "spark-3.0.3-bin-hadoop2.7/examples/src/main/r/ml/lda.R\n",
            "spark-3.0.3-bin-hadoop2.7/examples/src/main/r/ml/kstest.R\n",
            "spark-3.0.3-bin-hadoop2.7/examples/src/main/r/ml/isoreg.R\n",
            "spark-3.0.3-bin-hadoop2.7/examples/src/main/r/ml/ml.R\n",
            "spark-3.0.3-bin-hadoop2.7/examples/src/main/r/ml/naiveBayes.R\n",
            "spark-3.0.3-bin-hadoop2.7/examples/src/main/r/ml/mlp.R\n",
            "spark-3.0.3-bin-hadoop2.7/examples/src/main/r/ml/als.R\n",
            "spark-3.0.3-bin-hadoop2.7/examples/src/main/r/ml/kmeans.R\n",
            "spark-3.0.3-bin-hadoop2.7/examples/src/main/r/ml/svmLinear.R\n",
            "spark-3.0.3-bin-hadoop2.7/examples/src/main/r/ml/logit.R\n",
            "spark-3.0.3-bin-hadoop2.7/examples/src/main/r/ml/randomForest.R\n",
            "spark-3.0.3-bin-hadoop2.7/examples/src/main/r/ml/gbt.R\n",
            "spark-3.0.3-bin-hadoop2.7/examples/src/main/r/ml/decisionTree.R\n",
            "spark-3.0.3-bin-hadoop2.7/examples/src/main/r/ml/gaussianMixture.R\n",
            "spark-3.0.3-bin-hadoop2.7/examples/src/main/r/ml/bisectingKmeans.R\n",
            "spark-3.0.3-bin-hadoop2.7/examples/src/main/r/ml/fpm.R\n",
            "spark-3.0.3-bin-hadoop2.7/examples/src/main/r/dataframe.R\n",
            "spark-3.0.3-bin-hadoop2.7/examples/src/main/r/RSparkSQLExample.R\n",
            "spark-3.0.3-bin-hadoop2.7/examples/src/main/r/data-manipulation.R\n",
            "spark-3.0.3-bin-hadoop2.7/examples/src/main/r/streaming/\n",
            "spark-3.0.3-bin-hadoop2.7/examples/src/main/r/streaming/structured_network_wordcount.R\n",
            "spark-3.0.3-bin-hadoop2.7/examples/src/main/scala/\n",
            "spark-3.0.3-bin-hadoop2.7/examples/src/main/scala/org/\n",
            "spark-3.0.3-bin-hadoop2.7/examples/src/main/scala/org/apache/\n",
            "spark-3.0.3-bin-hadoop2.7/examples/src/main/scala/org/apache/spark/\n",
            "spark-3.0.3-bin-hadoop2.7/examples/src/main/scala/org/apache/spark/examples/\n",
            "spark-3.0.3-bin-hadoop2.7/examples/src/main/scala/org/apache/spark/examples/SparkPageRank.scala\n",
            "spark-3.0.3-bin-hadoop2.7/examples/src/main/scala/org/apache/spark/examples/SkewedGroupByTest.scala\n",
            "spark-3.0.3-bin-hadoop2.7/examples/src/main/scala/org/apache/spark/examples/AccumulatorMetricsTest.scala\n",
            "spark-3.0.3-bin-hadoop2.7/examples/src/main/scala/org/apache/spark/examples/HdfsTest.scala\n",
            "spark-3.0.3-bin-hadoop2.7/examples/src/main/scala/org/apache/spark/examples/ml/\n",
            "spark-3.0.3-bin-hadoop2.7/examples/src/main/scala/org/apache/spark/examples/ml/Word2VecExample.scala\n",
            "spark-3.0.3-bin-hadoop2.7/examples/src/main/scala/org/apache/spark/examples/ml/DeveloperApiExample.scala\n",
            "spark-3.0.3-bin-hadoop2.7/examples/src/main/scala/org/apache/spark/examples/ml/MinHashLSHExample.scala\n",
            "spark-3.0.3-bin-hadoop2.7/examples/src/main/scala/org/apache/spark/examples/ml/IndexToStringExample.scala\n",
            "spark-3.0.3-bin-hadoop2.7/examples/src/main/scala/org/apache/spark/examples/ml/BisectingKMeansExample.scala\n",
            "spark-3.0.3-bin-hadoop2.7/examples/src/main/scala/org/apache/spark/examples/ml/CorrelationExample.scala\n",
            "spark-3.0.3-bin-hadoop2.7/examples/src/main/scala/org/apache/spark/examples/ml/MulticlassLogisticRegressionWithElasticNetExample.scala\n",
            "spark-3.0.3-bin-hadoop2.7/examples/src/main/scala/org/apache/spark/examples/ml/VectorSizeHintExample.scala\n",
            "spark-3.0.3-bin-hadoop2.7/examples/src/main/scala/org/apache/spark/examples/ml/NGramExample.scala\n",
            "spark-3.0.3-bin-hadoop2.7/examples/src/main/scala/org/apache/spark/examples/ml/BucketedRandomProjectionLSHExample.scala\n",
            "spark-3.0.3-bin-hadoop2.7/examples/src/main/scala/org/apache/spark/examples/ml/BinarizerExample.scala\n",
            "spark-3.0.3-bin-hadoop2.7/examples/src/main/scala/org/apache/spark/examples/ml/RandomForestExample.scala\n",
            "spark-3.0.3-bin-hadoop2.7/examples/src/main/scala/org/apache/spark/examples/ml/StandardScalerExample.scala\n",
            "spark-3.0.3-bin-hadoop2.7/examples/src/main/scala/org/apache/spark/examples/ml/LogisticRegressionExample.scala\n",
            "spark-3.0.3-bin-hadoop2.7/examples/src/main/scala/org/apache/spark/examples/ml/FeatureHasherExample.scala\n",
            "spark-3.0.3-bin-hadoop2.7/examples/src/main/scala/org/apache/spark/examples/ml/OneVsRestExample.scala\n",
            "spark-3.0.3-bin-hadoop2.7/examples/src/main/scala/org/apache/spark/examples/ml/StopWordsRemoverExample.scala\n",
            "spark-3.0.3-bin-hadoop2.7/examples/src/main/scala/org/apache/spark/examples/ml/LinearSVCExample.scala\n",
            "spark-3.0.3-bin-hadoop2.7/examples/src/main/scala/org/apache/spark/examples/ml/GaussianMixtureExample.scala\n",
            "spark-3.0.3-bin-hadoop2.7/examples/src/main/scala/org/apache/spark/examples/ml/MaxAbsScalerExample.scala\n",
            "spark-3.0.3-bin-hadoop2.7/examples/src/main/scala/org/apache/spark/examples/ml/GBTExample.scala\n",
            "spark-3.0.3-bin-hadoop2.7/examples/src/main/scala/org/apache/spark/examples/ml/IsotonicRegressionExample.scala\n",
            "spark-3.0.3-bin-hadoop2.7/examples/src/main/scala/org/apache/spark/examples/ml/ModelSelectionViaCrossValidationExample.scala\n",
            "spark-3.0.3-bin-hadoop2.7/examples/src/main/scala/org/apache/spark/examples/ml/EstimatorTransformerParamExample.scala\n",
            "spark-3.0.3-bin-hadoop2.7/examples/src/main/scala/org/apache/spark/examples/ml/DecisionTreeRegressionExample.scala\n",
            "spark-3.0.3-bin-hadoop2.7/examples/src/main/scala/org/apache/spark/examples/ml/RandomForestRegressorExample.scala\n",
            "spark-3.0.3-bin-hadoop2.7/examples/src/main/scala/org/apache/spark/examples/ml/PrefixSpanExample.scala\n",
            "spark-3.0.3-bin-hadoop2.7/examples/src/main/scala/org/apache/spark/examples/ml/KMeansExample.scala\n",
            "spark-3.0.3-bin-hadoop2.7/examples/src/main/scala/org/apache/spark/examples/ml/ModelSelectionViaTrainValidationSplitExample.scala\n",
            "spark-3.0.3-bin-hadoop2.7/examples/src/main/scala/org/apache/spark/examples/ml/LogisticRegressionSummaryExample.scala\n",
            "spark-3.0.3-bin-hadoop2.7/examples/src/main/scala/org/apache/spark/examples/ml/MultilayerPerceptronClassifierExample.scala\n",
            "spark-3.0.3-bin-hadoop2.7/examples/src/main/scala/org/apache/spark/examples/ml/PCAExample.scala\n",
            "spark-3.0.3-bin-hadoop2.7/examples/src/main/scala/org/apache/spark/examples/ml/DCTExample.scala\n",
            "spark-3.0.3-bin-hadoop2.7/examples/src/main/scala/org/apache/spark/examples/ml/FPGrowthExample.scala\n",
            "spark-3.0.3-bin-hadoop2.7/examples/src/main/scala/org/apache/spark/examples/ml/ElementwiseProductExample.scala\n",
            "spark-3.0.3-bin-hadoop2.7/examples/src/main/scala/org/apache/spark/examples/ml/GeneralizedLinearRegressionExample.scala\n",
            "spark-3.0.3-bin-hadoop2.7/examples/src/main/scala/org/apache/spark/examples/ml/CountVectorizerExample.scala\n",
            "spark-3.0.3-bin-hadoop2.7/examples/src/main/scala/org/apache/spark/examples/ml/MinMaxScalerExample.scala\n",
            "spark-3.0.3-bin-hadoop2.7/examples/src/main/scala/org/apache/spark/examples/ml/ChiSquareTestExample.scala\n",
            "spark-3.0.3-bin-hadoop2.7/examples/src/main/scala/org/apache/spark/examples/ml/LogisticRegressionWithElasticNetExample.scala\n",
            "spark-3.0.3-bin-hadoop2.7/examples/src/main/scala/org/apache/spark/examples/ml/FMRegressorExample.scala\n",
            "spark-3.0.3-bin-hadoop2.7/examples/src/main/scala/org/apache/spark/examples/ml/VectorSlicerExample.scala\n",
            "spark-3.0.3-bin-hadoop2.7/examples/src/main/scala/org/apache/spark/examples/ml/LinearRegressionExample.scala\n",
            "spark-3.0.3-bin-hadoop2.7/examples/src/main/scala/org/apache/spark/examples/ml/StringIndexerExample.scala\n",
            "spark-3.0.3-bin-hadoop2.7/examples/src/main/scala/org/apache/spark/examples/ml/GradientBoostedTreeRegressorExample.scala\n",
            "spark-3.0.3-bin-hadoop2.7/examples/src/main/scala/org/apache/spark/examples/ml/ALSExample.scala\n",
            "spark-3.0.3-bin-hadoop2.7/examples/src/main/scala/org/apache/spark/examples/ml/DecisionTreeClassificationExample.scala\n",
            "spark-3.0.3-bin-hadoop2.7/examples/src/main/scala/org/apache/spark/examples/ml/PolynomialExpansionExample.scala\n",
            "spark-3.0.3-bin-hadoop2.7/examples/src/main/scala/org/apache/spark/examples/ml/FMClassifierExample.scala\n",
            "spark-3.0.3-bin-hadoop2.7/examples/src/main/scala/org/apache/spark/examples/ml/UnaryTransformerExample.scala\n",
            "spark-3.0.3-bin-hadoop2.7/examples/src/main/scala/org/apache/spark/examples/ml/ImputerExample.scala\n",
            "spark-3.0.3-bin-hadoop2.7/examples/src/main/scala/org/apache/spark/examples/ml/TokenizerExample.scala\n",
            "spark-3.0.3-bin-hadoop2.7/examples/src/main/scala/org/apache/spark/examples/ml/DecisionTreeExample.scala\n",
            "spark-3.0.3-bin-hadoop2.7/examples/src/main/scala/org/apache/spark/examples/ml/GradientBoostedTreeClassifierExample.scala\n",
            "spark-3.0.3-bin-hadoop2.7/examples/src/main/scala/org/apache/spark/examples/ml/PowerIterationClusteringExample.scala\n",
            "spark-3.0.3-bin-hadoop2.7/examples/src/main/scala/org/apache/spark/examples/ml/SQLTransformerExample.scala\n",
            "spark-3.0.3-bin-hadoop2.7/examples/src/main/scala/org/apache/spark/examples/ml/SummarizerExample.scala\n",
            "spark-3.0.3-bin-hadoop2.7/examples/src/main/scala/org/apache/spark/examples/ml/DataFrameExample.scala\n",
            "spark-3.0.3-bin-hadoop2.7/examples/src/main/scala/org/apache/spark/examples/ml/BucketizerExample.scala\n",
            "spark-3.0.3-bin-hadoop2.7/examples/src/main/scala/org/apache/spark/examples/ml/TfIdfExample.scala\n",
            "spark-3.0.3-bin-hadoop2.7/examples/src/main/scala/org/apache/spark/examples/ml/AFTSurvivalRegressionExample.scala\n",
            "spark-3.0.3-bin-hadoop2.7/examples/src/main/scala/org/apache/spark/examples/ml/QuantileDiscretizerExample.scala\n",
            "spark-3.0.3-bin-hadoop2.7/examples/src/main/scala/org/apache/spark/examples/ml/OneHotEncoderExample.scala\n",
            "spark-3.0.3-bin-hadoop2.7/examples/src/main/scala/org/apache/spark/examples/ml/PipelineExample.scala\n",
            "spark-3.0.3-bin-hadoop2.7/examples/src/main/scala/org/apache/spark/examples/ml/InteractionExample.scala\n",
            "spark-3.0.3-bin-hadoop2.7/examples/src/main/scala/org/apache/spark/examples/ml/LDAExample.scala\n",
            "spark-3.0.3-bin-hadoop2.7/examples/src/main/scala/org/apache/spark/examples/ml/RFormulaExample.scala\n",
            "spark-3.0.3-bin-hadoop2.7/examples/src/main/scala/org/apache/spark/examples/ml/VectorIndexerExample.scala\n",
            "spark-3.0.3-bin-hadoop2.7/examples/src/main/scala/org/apache/spark/examples/ml/VectorAssemblerExample.scala\n",
            "spark-3.0.3-bin-hadoop2.7/examples/src/main/scala/org/apache/spark/examples/ml/NormalizerExample.scala\n",
            "spark-3.0.3-bin-hadoop2.7/examples/src/main/scala/org/apache/spark/examples/ml/ChiSqSelectorExample.scala\n",
            "spark-3.0.3-bin-hadoop2.7/examples/src/main/scala/org/apache/spark/examples/ml/NaiveBayesExample.scala\n",
            "spark-3.0.3-bin-hadoop2.7/examples/src/main/scala/org/apache/spark/examples/ml/RandomForestClassifierExample.scala\n",
            "spark-3.0.3-bin-hadoop2.7/examples/src/main/scala/org/apache/spark/examples/ml/LinearRegressionWithElasticNetExample.scala\n",
            "spark-3.0.3-bin-hadoop2.7/examples/src/main/scala/org/apache/spark/examples/ml/RobustScalerExample.scala\n",
            "spark-3.0.3-bin-hadoop2.7/examples/src/main/scala/org/apache/spark/examples/LogQuery.scala\n",
            "spark-3.0.3-bin-hadoop2.7/examples/src/main/scala/org/apache/spark/examples/SparkRemoteFileTest.scala\n",
            "spark-3.0.3-bin-hadoop2.7/examples/src/main/scala/org/apache/spark/examples/ExceptionHandlingTest.scala\n",
            "spark-3.0.3-bin-hadoop2.7/examples/src/main/scala/org/apache/spark/examples/pythonconverters/\n",
            "spark-3.0.3-bin-hadoop2.7/examples/src/main/scala/org/apache/spark/examples/pythonconverters/AvroConverters.scala\n",
            "spark-3.0.3-bin-hadoop2.7/examples/src/main/scala/org/apache/spark/examples/BroadcastTest.scala\n",
            "spark-3.0.3-bin-hadoop2.7/examples/src/main/scala/org/apache/spark/examples/SparkHdfsLR.scala\n",
            "spark-3.0.3-bin-hadoop2.7/examples/src/main/scala/org/apache/spark/examples/mllib/\n",
            "spark-3.0.3-bin-hadoop2.7/examples/src/main/scala/org/apache/spark/examples/mllib/Word2VecExample.scala\n",
            "spark-3.0.3-bin-hadoop2.7/examples/src/main/scala/org/apache/spark/examples/mllib/GradientBoostedTreesRunner.scala\n",
            "spark-3.0.3-bin-hadoop2.7/examples/src/main/scala/org/apache/spark/examples/mllib/RandomRDDGeneration.scala\n",
            "spark-3.0.3-bin-hadoop2.7/examples/src/main/scala/org/apache/spark/examples/mllib/PMMLModelExportExample.scala\n",
            "spark-3.0.3-bin-hadoop2.7/examples/src/main/scala/org/apache/spark/examples/mllib/BisectingKMeansExample.scala\n",
            "spark-3.0.3-bin-hadoop2.7/examples/src/main/scala/org/apache/spark/examples/mllib/DecisionTreeRunner.scala\n",
            "spark-3.0.3-bin-hadoop2.7/examples/src/main/scala/org/apache/spark/examples/mllib/MultiLabelMetricsExample.scala\n",
            "spark-3.0.3-bin-hadoop2.7/examples/src/main/scala/org/apache/spark/examples/mllib/CorrelationsExample.scala\n",
            "spark-3.0.3-bin-hadoop2.7/examples/src/main/scala/org/apache/spark/examples/mllib/LBFGSExample.scala\n",
            "spark-3.0.3-bin-hadoop2.7/examples/src/main/scala/org/apache/spark/examples/mllib/TFIDFExample.scala\n",
            "spark-3.0.3-bin-hadoop2.7/examples/src/main/scala/org/apache/spark/examples/mllib/StandardScalerExample.scala\n",
            "spark-3.0.3-bin-hadoop2.7/examples/src/main/scala/org/apache/spark/examples/mllib/LogisticRegressionWithLBFGSExample.scala\n",
            "spark-3.0.3-bin-hadoop2.7/examples/src/main/scala/org/apache/spark/examples/mllib/StreamingTestExample.scala\n",
            "spark-3.0.3-bin-hadoop2.7/examples/src/main/scala/org/apache/spark/examples/mllib/BinaryClassification.scala\n",
            "spark-3.0.3-bin-hadoop2.7/examples/src/main/scala/org/apache/spark/examples/mllib/DenseKMeans.scala\n",
            "spark-3.0.3-bin-hadoop2.7/examples/src/main/scala/org/apache/spark/examples/mllib/GradientBoostingClassificationExample.scala\n",
            "spark-3.0.3-bin-hadoop2.7/examples/src/main/scala/org/apache/spark/examples/mllib/RankingMetricsExample.scala\n",
            "spark-3.0.3-bin-hadoop2.7/examples/src/main/scala/org/apache/spark/examples/mllib/GaussianMixtureExample.scala\n",
            "spark-3.0.3-bin-hadoop2.7/examples/src/main/scala/org/apache/spark/examples/mllib/MultivariateSummarizer.scala\n",
            "spark-3.0.3-bin-hadoop2.7/examples/src/main/scala/org/apache/spark/examples/mllib/IsotonicRegressionExample.scala\n",
            "spark-3.0.3-bin-hadoop2.7/examples/src/main/scala/org/apache/spark/examples/mllib/PCAOnSourceVectorExample.scala\n",
            "spark-3.0.3-bin-hadoop2.7/examples/src/main/scala/org/apache/spark/examples/mllib/Correlations.scala\n",
            "spark-3.0.3-bin-hadoop2.7/examples/src/main/scala/org/apache/spark/examples/mllib/HypothesisTestingExample.scala\n",
            "spark-3.0.3-bin-hadoop2.7/examples/src/main/scala/org/apache/spark/examples/mllib/DecisionTreeRegressionExample.scala\n",
            "spark-3.0.3-bin-hadoop2.7/examples/src/main/scala/org/apache/spark/examples/mllib/AssociationRulesExample.scala\n",
            "spark-3.0.3-bin-hadoop2.7/examples/src/main/scala/org/apache/spark/examples/mllib/StreamingLogisticRegression.scala\n",
            "spark-3.0.3-bin-hadoop2.7/examples/src/main/scala/org/apache/spark/examples/mllib/SVDExample.scala\n",
            "spark-3.0.3-bin-hadoop2.7/examples/src/main/scala/org/apache/spark/examples/mllib/PrefixSpanExample.scala\n",
            "spark-3.0.3-bin-hadoop2.7/examples/src/main/scala/org/apache/spark/examples/mllib/KMeansExample.scala\n",
            "spark-3.0.3-bin-hadoop2.7/examples/src/main/scala/org/apache/spark/examples/mllib/SparseNaiveBayes.scala\n",
            "spark-3.0.3-bin-hadoop2.7/examples/src/main/scala/org/apache/spark/examples/mllib/AbstractParams.scala\n",
            "spark-3.0.3-bin-hadoop2.7/examples/src/main/scala/org/apache/spark/examples/mllib/BinaryClassificationMetricsExample.scala\n",
            "spark-3.0.3-bin-hadoop2.7/examples/src/main/scala/org/apache/spark/examples/mllib/SampledRDDs.scala\n",
            "spark-3.0.3-bin-hadoop2.7/examples/src/main/scala/org/apache/spark/examples/mllib/FPGrowthExample.scala\n",
            "spark-3.0.3-bin-hadoop2.7/examples/src/main/scala/org/apache/spark/examples/mllib/ElementwiseProductExample.scala\n",
            "spark-3.0.3-bin-hadoop2.7/examples/src/main/scala/org/apache/spark/examples/mllib/RecommendationExample.scala\n",
            "spark-3.0.3-bin-hadoop2.7/examples/src/main/scala/org/apache/spark/examples/mllib/TallSkinnySVD.scala\n",
            "spark-3.0.3-bin-hadoop2.7/examples/src/main/scala/org/apache/spark/examples/mllib/HypothesisTestingKolmogorovSmirnovTestExample.scala\n",
            "spark-3.0.3-bin-hadoop2.7/examples/src/main/scala/org/apache/spark/examples/mllib/GradientBoostingRegressionExample.scala\n",
            "spark-3.0.3-bin-hadoop2.7/examples/src/main/scala/org/apache/spark/examples/mllib/StreamingKMeansExample.scala\n",
            "spark-3.0.3-bin-hadoop2.7/examples/src/main/scala/org/apache/spark/examples/mllib/CosineSimilarity.scala\n",
            "spark-3.0.3-bin-hadoop2.7/examples/src/main/scala/org/apache/spark/examples/mllib/RandomForestRegressionExample.scala\n",
            "spark-3.0.3-bin-hadoop2.7/examples/src/main/scala/org/apache/spark/examples/mllib/StreamingLinearRegressionExample.scala\n",
            "spark-3.0.3-bin-hadoop2.7/examples/src/main/scala/org/apache/spark/examples/mllib/StratifiedSamplingExample.scala\n",
            "spark-3.0.3-bin-hadoop2.7/examples/src/main/scala/org/apache/spark/examples/mllib/DecisionTreeClassificationExample.scala\n",
            "spark-3.0.3-bin-hadoop2.7/examples/src/main/scala/org/apache/spark/examples/mllib/TallSkinnyPCA.scala\n",
            "spark-3.0.3-bin-hadoop2.7/examples/src/main/scala/org/apache/spark/examples/mllib/RandomForestClassificationExample.scala\n",
            "spark-3.0.3-bin-hadoop2.7/examples/src/main/scala/org/apache/spark/examples/mllib/SimpleFPGrowth.scala\n",
            "spark-3.0.3-bin-hadoop2.7/examples/src/main/scala/org/apache/spark/examples/mllib/LatentDirichletAllocationExample.scala\n",
            "spark-3.0.3-bin-hadoop2.7/examples/src/main/scala/org/apache/spark/examples/mllib/KernelDensityEstimationExample.scala\n",
            "spark-3.0.3-bin-hadoop2.7/examples/src/main/scala/org/apache/spark/examples/mllib/PowerIterationClusteringExample.scala\n",
            "spark-3.0.3-bin-hadoop2.7/examples/src/main/scala/org/apache/spark/examples/mllib/SVMWithSGDExample.scala\n",
            "spark-3.0.3-bin-hadoop2.7/examples/src/main/scala/org/apache/spark/examples/mllib/LDAExample.scala\n",
            "spark-3.0.3-bin-hadoop2.7/examples/src/main/scala/org/apache/spark/examples/mllib/MovieLensALS.scala\n",
            "spark-3.0.3-bin-hadoop2.7/examples/src/main/scala/org/apache/spark/examples/mllib/NormalizerExample.scala\n",
            "spark-3.0.3-bin-hadoop2.7/examples/src/main/scala/org/apache/spark/examples/mllib/MulticlassMetricsExample.scala\n",
            "spark-3.0.3-bin-hadoop2.7/examples/src/main/scala/org/apache/spark/examples/mllib/ChiSqSelectorExample.scala\n",
            "spark-3.0.3-bin-hadoop2.7/examples/src/main/scala/org/apache/spark/examples/mllib/SummaryStatisticsExample.scala\n",
            "spark-3.0.3-bin-hadoop2.7/examples/src/main/scala/org/apache/spark/examples/mllib/PCAOnRowMatrixExample.scala\n",
            "spark-3.0.3-bin-hadoop2.7/examples/src/main/scala/org/apache/spark/examples/mllib/NaiveBayesExample.scala\n",
            "spark-3.0.3-bin-hadoop2.7/examples/src/main/scala/org/apache/spark/examples/SparkTC.scala\n",
            "spark-3.0.3-bin-hadoop2.7/examples/src/main/scala/org/apache/spark/examples/DriverSubmissionTest.scala\n",
            "spark-3.0.3-bin-hadoop2.7/examples/src/main/scala/org/apache/spark/examples/MultiBroadcastTest.scala\n",
            "spark-3.0.3-bin-hadoop2.7/examples/src/main/scala/org/apache/spark/examples/SparkLR.scala\n",
            "spark-3.0.3-bin-hadoop2.7/examples/src/main/scala/org/apache/spark/examples/SparkPi.scala\n",
            "spark-3.0.3-bin-hadoop2.7/examples/src/main/scala/org/apache/spark/examples/graphx/\n",
            "spark-3.0.3-bin-hadoop2.7/examples/src/main/scala/org/apache/spark/examples/graphx/ConnectedComponentsExample.scala\n",
            "spark-3.0.3-bin-hadoop2.7/examples/src/main/scala/org/apache/spark/examples/graphx/LiveJournalPageRank.scala\n",
            "spark-3.0.3-bin-hadoop2.7/examples/src/main/scala/org/apache/spark/examples/graphx/AggregateMessagesExample.scala\n",
            "spark-3.0.3-bin-hadoop2.7/examples/src/main/scala/org/apache/spark/examples/graphx/SSSPExample.scala\n",
            "spark-3.0.3-bin-hadoop2.7/examples/src/main/scala/org/apache/spark/examples/graphx/SynthBenchmark.scala\n",
            "spark-3.0.3-bin-hadoop2.7/examples/src/main/scala/org/apache/spark/examples/graphx/TriangleCountingExample.scala\n",
            "spark-3.0.3-bin-hadoop2.7/examples/src/main/scala/org/apache/spark/examples/graphx/PageRankExample.scala\n",
            "spark-3.0.3-bin-hadoop2.7/examples/src/main/scala/org/apache/spark/examples/graphx/ComprehensiveExample.scala\n",
            "spark-3.0.3-bin-hadoop2.7/examples/src/main/scala/org/apache/spark/examples/graphx/Analytics.scala\n",
            "spark-3.0.3-bin-hadoop2.7/examples/src/main/scala/org/apache/spark/examples/SparkKMeans.scala\n",
            "spark-3.0.3-bin-hadoop2.7/examples/src/main/scala/org/apache/spark/examples/streaming/\n",
            "spark-3.0.3-bin-hadoop2.7/examples/src/main/scala/org/apache/spark/examples/streaming/clickstream/\n",
            "spark-3.0.3-bin-hadoop2.7/examples/src/main/scala/org/apache/spark/examples/streaming/clickstream/PageViewGenerator.scala\n",
            "spark-3.0.3-bin-hadoop2.7/examples/src/main/scala/org/apache/spark/examples/streaming/clickstream/PageViewStream.scala\n",
            "spark-3.0.3-bin-hadoop2.7/examples/src/main/scala/org/apache/spark/examples/streaming/DirectKafkaWordCount.scala\n",
            "spark-3.0.3-bin-hadoop2.7/examples/src/main/scala/org/apache/spark/examples/streaming/HdfsWordCount.scala\n",
            "spark-3.0.3-bin-hadoop2.7/examples/src/main/scala/org/apache/spark/examples/streaming/DirectKerberizedKafkaWordCount.scala\n",
            "spark-3.0.3-bin-hadoop2.7/examples/src/main/scala/org/apache/spark/examples/streaming/RecoverableNetworkWordCount.scala\n",
            "spark-3.0.3-bin-hadoop2.7/examples/src/main/scala/org/apache/spark/examples/streaming/NetworkWordCount.scala\n",
            "spark-3.0.3-bin-hadoop2.7/examples/src/main/scala/org/apache/spark/examples/streaming/QueueStream.scala\n",
            "spark-3.0.3-bin-hadoop2.7/examples/src/main/scala/org/apache/spark/examples/streaming/SqlNetworkWordCount.scala\n",
            "spark-3.0.3-bin-hadoop2.7/examples/src/main/scala/org/apache/spark/examples/streaming/CustomReceiver.scala\n",
            "spark-3.0.3-bin-hadoop2.7/examples/src/main/scala/org/apache/spark/examples/streaming/RawNetworkGrep.scala\n",
            "spark-3.0.3-bin-hadoop2.7/examples/src/main/scala/org/apache/spark/examples/streaming/StatefulNetworkWordCount.scala\n",
            "spark-3.0.3-bin-hadoop2.7/examples/src/main/scala/org/apache/spark/examples/streaming/StreamingExamples.scala\n",
            "spark-3.0.3-bin-hadoop2.7/examples/src/main/scala/org/apache/spark/examples/LocalLR.scala\n",
            "spark-3.0.3-bin-hadoop2.7/examples/src/main/scala/org/apache/spark/examples/LocalKMeans.scala\n",
            "spark-3.0.3-bin-hadoop2.7/examples/src/main/scala/org/apache/spark/examples/GroupByTest.scala\n",
            "spark-3.0.3-bin-hadoop2.7/examples/src/main/scala/org/apache/spark/examples/LocalALS.scala\n",
            "spark-3.0.3-bin-hadoop2.7/examples/src/main/scala/org/apache/spark/examples/sql/\n",
            "spark-3.0.3-bin-hadoop2.7/examples/src/main/scala/org/apache/spark/examples/sql/SimpleTypedAggregator.scala\n",
            "spark-3.0.3-bin-hadoop2.7/examples/src/main/scala/org/apache/spark/examples/sql/UserDefinedUntypedAggregation.scala\n",
            "spark-3.0.3-bin-hadoop2.7/examples/src/main/scala/org/apache/spark/examples/sql/hive/\n",
            "spark-3.0.3-bin-hadoop2.7/examples/src/main/scala/org/apache/spark/examples/sql/hive/SparkHiveExample.scala\n",
            "spark-3.0.3-bin-hadoop2.7/examples/src/main/scala/org/apache/spark/examples/sql/RDDRelation.scala\n",
            "spark-3.0.3-bin-hadoop2.7/examples/src/main/scala/org/apache/spark/examples/sql/SparkSQLExample.scala\n",
            "spark-3.0.3-bin-hadoop2.7/examples/src/main/scala/org/apache/spark/examples/sql/SQLDataSourceExample.scala\n",
            "spark-3.0.3-bin-hadoop2.7/examples/src/main/scala/org/apache/spark/examples/sql/streaming/\n",
            "spark-3.0.3-bin-hadoop2.7/examples/src/main/scala/org/apache/spark/examples/sql/streaming/StructuredKerberizedKafkaWordCount.scala\n",
            "spark-3.0.3-bin-hadoop2.7/examples/src/main/scala/org/apache/spark/examples/sql/streaming/StructuredNetworkWordCount.scala\n",
            "spark-3.0.3-bin-hadoop2.7/examples/src/main/scala/org/apache/spark/examples/sql/streaming/StructuredNetworkWordCountWindowed.scala\n",
            "spark-3.0.3-bin-hadoop2.7/examples/src/main/scala/org/apache/spark/examples/sql/streaming/StructuredKafkaWordCount.scala\n",
            "spark-3.0.3-bin-hadoop2.7/examples/src/main/scala/org/apache/spark/examples/sql/streaming/StructuredSessionization.scala\n",
            "spark-3.0.3-bin-hadoop2.7/examples/src/main/scala/org/apache/spark/examples/sql/UserDefinedTypedAggregation.scala\n",
            "spark-3.0.3-bin-hadoop2.7/examples/src/main/scala/org/apache/spark/examples/sql/UserDefinedScalar.scala\n",
            "spark-3.0.3-bin-hadoop2.7/examples/src/main/scala/org/apache/spark/examples/SimpleSkewedGroupByTest.scala\n",
            "spark-3.0.3-bin-hadoop2.7/examples/src/main/scala/org/apache/spark/examples/LocalFileLR.scala\n",
            "spark-3.0.3-bin-hadoop2.7/examples/src/main/scala/org/apache/spark/examples/LocalPi.scala\n",
            "spark-3.0.3-bin-hadoop2.7/examples/src/main/scala/org/apache/spark/examples/DFSReadWriteTest.scala\n",
            "spark-3.0.3-bin-hadoop2.7/examples/src/main/scala/org/apache/spark/examples/SparkALS.scala\n",
            "spark-3.0.3-bin-hadoop2.7/examples/src/main/resources/\n",
            "spark-3.0.3-bin-hadoop2.7/examples/src/main/resources/people.json\n",
            "spark-3.0.3-bin-hadoop2.7/examples/src/main/resources/users.avro\n",
            "spark-3.0.3-bin-hadoop2.7/examples/src/main/resources/people.csv\n",
            "spark-3.0.3-bin-hadoop2.7/examples/src/main/resources/users.parquet\n",
            "spark-3.0.3-bin-hadoop2.7/examples/src/main/resources/users.orc\n",
            "spark-3.0.3-bin-hadoop2.7/examples/src/main/resources/dir1/\n",
            "spark-3.0.3-bin-hadoop2.7/examples/src/main/resources/dir1/file1.parquet\n",
            "spark-3.0.3-bin-hadoop2.7/examples/src/main/resources/dir1/dir2/\n",
            "spark-3.0.3-bin-hadoop2.7/examples/src/main/resources/dir1/dir2/file2.parquet\n",
            "spark-3.0.3-bin-hadoop2.7/examples/src/main/resources/dir1/file3.json\n",
            "spark-3.0.3-bin-hadoop2.7/examples/src/main/resources/user.avsc\n",
            "spark-3.0.3-bin-hadoop2.7/examples/src/main/resources/full_user.avsc\n",
            "spark-3.0.3-bin-hadoop2.7/examples/src/main/resources/kv1.txt\n",
            "spark-3.0.3-bin-hadoop2.7/examples/src/main/resources/people.txt\n",
            "spark-3.0.3-bin-hadoop2.7/examples/src/main/resources/employees.json\n",
            "spark-3.0.3-bin-hadoop2.7/examples/src/main/java/\n",
            "spark-3.0.3-bin-hadoop2.7/examples/src/main/java/org/\n",
            "spark-3.0.3-bin-hadoop2.7/examples/src/main/java/org/apache/\n",
            "spark-3.0.3-bin-hadoop2.7/examples/src/main/java/org/apache/spark/\n",
            "spark-3.0.3-bin-hadoop2.7/examples/src/main/java/org/apache/spark/examples/\n",
            "spark-3.0.3-bin-hadoop2.7/examples/src/main/java/org/apache/spark/examples/ml/\n",
            "spark-3.0.3-bin-hadoop2.7/examples/src/main/java/org/apache/spark/examples/ml/JavaStringIndexerExample.java\n",
            "spark-3.0.3-bin-hadoop2.7/examples/src/main/java/org/apache/spark/examples/ml/JavaChiSqSelectorExample.java\n",
            "spark-3.0.3-bin-hadoop2.7/examples/src/main/java/org/apache/spark/examples/ml/JavaLabeledDocument.java\n",
            "spark-3.0.3-bin-hadoop2.7/examples/src/main/java/org/apache/spark/examples/ml/JavaLogisticRegressionWithElasticNetExample.java\n",
            "spark-3.0.3-bin-hadoop2.7/examples/src/main/java/org/apache/spark/examples/ml/JavaPolynomialExpansionExample.java\n",
            "spark-3.0.3-bin-hadoop2.7/examples/src/main/java/org/apache/spark/examples/ml/JavaTfIdfExample.java\n",
            "spark-3.0.3-bin-hadoop2.7/examples/src/main/java/org/apache/spark/examples/ml/JavaBucketizerExample.java\n",
            "spark-3.0.3-bin-hadoop2.7/examples/src/main/java/org/apache/spark/examples/ml/JavaLogisticRegressionSummaryExample.java\n",
            "spark-3.0.3-bin-hadoop2.7/examples/src/main/java/org/apache/spark/examples/ml/JavaSummarizerExample.java\n",
            "spark-3.0.3-bin-hadoop2.7/examples/src/main/java/org/apache/spark/examples/ml/JavaQuantileDiscretizerExample.java\n",
            "spark-3.0.3-bin-hadoop2.7/examples/src/main/java/org/apache/spark/examples/ml/JavaBinarizerExample.java\n",
            "spark-3.0.3-bin-hadoop2.7/examples/src/main/java/org/apache/spark/examples/ml/JavaOneHotEncoderExample.java\n",
            "spark-3.0.3-bin-hadoop2.7/examples/src/main/java/org/apache/spark/examples/ml/JavaStandardScalerExample.java\n",
            "spark-3.0.3-bin-hadoop2.7/examples/src/main/java/org/apache/spark/examples/ml/JavaDCTExample.java\n",
            "spark-3.0.3-bin-hadoop2.7/examples/src/main/java/org/apache/spark/examples/ml/JavaDecisionTreeRegressionExample.java\n",
            "spark-3.0.3-bin-hadoop2.7/examples/src/main/java/org/apache/spark/examples/ml/JavaRandomForestClassifierExample.java\n",
            "spark-3.0.3-bin-hadoop2.7/examples/src/main/java/org/apache/spark/examples/ml/JavaOneVsRestExample.java\n",
            "spark-3.0.3-bin-hadoop2.7/examples/src/main/java/org/apache/spark/examples/ml/JavaGeneralizedLinearRegressionExample.java\n",
            "spark-3.0.3-bin-hadoop2.7/examples/src/main/java/org/apache/spark/examples/ml/JavaGaussianMixtureExample.java\n",
            "spark-3.0.3-bin-hadoop2.7/examples/src/main/java/org/apache/spark/examples/ml/JavaWord2VecExample.java\n",
            "spark-3.0.3-bin-hadoop2.7/examples/src/main/java/org/apache/spark/examples/ml/JavaNormalizerExample.java\n",
            "spark-3.0.3-bin-hadoop2.7/examples/src/main/java/org/apache/spark/examples/ml/JavaLDAExample.java\n",
            "spark-3.0.3-bin-hadoop2.7/examples/src/main/java/org/apache/spark/examples/ml/JavaCountVectorizerExample.java\n",
            "spark-3.0.3-bin-hadoop2.7/examples/src/main/java/org/apache/spark/examples/ml/JavaMultilayerPerceptronClassifierExample.java\n",
            "spark-3.0.3-bin-hadoop2.7/examples/src/main/java/org/apache/spark/examples/ml/JavaMinMaxScalerExample.java\n",
            "spark-3.0.3-bin-hadoop2.7/examples/src/main/java/org/apache/spark/examples/ml/JavaCorrelationExample.java\n",
            "spark-3.0.3-bin-hadoop2.7/examples/src/main/java/org/apache/spark/examples/ml/JavaNGramExample.java\n",
            "spark-3.0.3-bin-hadoop2.7/examples/src/main/java/org/apache/spark/examples/ml/JavaImputerExample.java\n",
            "spark-3.0.3-bin-hadoop2.7/examples/src/main/java/org/apache/spark/examples/ml/JavaMinHashLSHExample.java\n",
            "spark-3.0.3-bin-hadoop2.7/examples/src/main/java/org/apache/spark/examples/ml/JavaVectorSizeHintExample.java\n",
            "spark-3.0.3-bin-hadoop2.7/examples/src/main/java/org/apache/spark/examples/ml/JavaFMClassifierExample.java\n",
            "spark-3.0.3-bin-hadoop2.7/examples/src/main/java/org/apache/spark/examples/ml/JavaFeatureHasherExample.java\n",
            "spark-3.0.3-bin-hadoop2.7/examples/src/main/java/org/apache/spark/examples/ml/JavaModelSelectionViaTrainValidationSplitExample.java\n",
            "spark-3.0.3-bin-hadoop2.7/examples/src/main/java/org/apache/spark/examples/ml/JavaSQLTransformerExample.java\n",
            "spark-3.0.3-bin-hadoop2.7/examples/src/main/java/org/apache/spark/examples/ml/JavaKMeansExample.java\n",
            "spark-3.0.3-bin-hadoop2.7/examples/src/main/java/org/apache/spark/examples/ml/JavaVectorAssemblerExample.java\n",
            "spark-3.0.3-bin-hadoop2.7/examples/src/main/java/org/apache/spark/examples/ml/JavaGradientBoostedTreeRegressorExample.java\n",
            "spark-3.0.3-bin-hadoop2.7/examples/src/main/java/org/apache/spark/examples/ml/JavaPrefixSpanExample.java\n",
            "spark-3.0.3-bin-hadoop2.7/examples/src/main/java/org/apache/spark/examples/ml/JavaFMRegressorExample.java\n",
            "spark-3.0.3-bin-hadoop2.7/examples/src/main/java/org/apache/spark/examples/ml/JavaNaiveBayesExample.java\n",
            "spark-3.0.3-bin-hadoop2.7/examples/src/main/java/org/apache/spark/examples/ml/JavaMulticlassLogisticRegressionWithElasticNetExample.java\n",
            "spark-3.0.3-bin-hadoop2.7/examples/src/main/java/org/apache/spark/examples/ml/JavaModelSelectionViaCrossValidationExample.java\n",
            "spark-3.0.3-bin-hadoop2.7/examples/src/main/java/org/apache/spark/examples/ml/JavaDocument.java\n",
            "spark-3.0.3-bin-hadoop2.7/examples/src/main/java/org/apache/spark/examples/ml/JavaGradientBoostedTreeClassifierExample.java\n",
            "spark-3.0.3-bin-hadoop2.7/examples/src/main/java/org/apache/spark/examples/ml/JavaRandomForestRegressorExample.java\n",
            "spark-3.0.3-bin-hadoop2.7/examples/src/main/java/org/apache/spark/examples/ml/JavaAFTSurvivalRegressionExample.java\n",
            "spark-3.0.3-bin-hadoop2.7/examples/src/main/java/org/apache/spark/examples/ml/JavaIsotonicRegressionExample.java\n",
            "spark-3.0.3-bin-hadoop2.7/examples/src/main/java/org/apache/spark/examples/ml/JavaElementwiseProductExample.java\n",
            "spark-3.0.3-bin-hadoop2.7/examples/src/main/java/org/apache/spark/examples/ml/JavaALSExample.java\n",
            "spark-3.0.3-bin-hadoop2.7/examples/src/main/java/org/apache/spark/examples/ml/JavaBucketedRandomProjectionLSHExample.java\n",
            "spark-3.0.3-bin-hadoop2.7/examples/src/main/java/org/apache/spark/examples/ml/JavaVectorSlicerExample.java\n",
            "spark-3.0.3-bin-hadoop2.7/examples/src/main/java/org/apache/spark/examples/ml/JavaTokenizerExample.java\n",
            "spark-3.0.3-bin-hadoop2.7/examples/src/main/java/org/apache/spark/examples/ml/JavaRFormulaExample.java\n",
            "spark-3.0.3-bin-hadoop2.7/examples/src/main/java/org/apache/spark/examples/ml/JavaEstimatorTransformerParamExample.java\n",
            "spark-3.0.3-bin-hadoop2.7/examples/src/main/java/org/apache/spark/examples/ml/JavaPowerIterationClusteringExample.java\n",
            "spark-3.0.3-bin-hadoop2.7/examples/src/main/java/org/apache/spark/examples/ml/JavaBisectingKMeansExample.java\n",
            "spark-3.0.3-bin-hadoop2.7/examples/src/main/java/org/apache/spark/examples/ml/JavaMaxAbsScalerExample.java\n",
            "spark-3.0.3-bin-hadoop2.7/examples/src/main/java/org/apache/spark/examples/ml/JavaDecisionTreeClassificationExample.java\n",
            "spark-3.0.3-bin-hadoop2.7/examples/src/main/java/org/apache/spark/examples/ml/JavaPCAExample.java\n",
            "spark-3.0.3-bin-hadoop2.7/examples/src/main/java/org/apache/spark/examples/ml/JavaPipelineExample.java\n",
            "spark-3.0.3-bin-hadoop2.7/examples/src/main/java/org/apache/spark/examples/ml/JavaStopWordsRemoverExample.java\n",
            "spark-3.0.3-bin-hadoop2.7/examples/src/main/java/org/apache/spark/examples/ml/JavaIndexToStringExample.java\n",
            "spark-3.0.3-bin-hadoop2.7/examples/src/main/java/org/apache/spark/examples/ml/JavaFPGrowthExample.java\n",
            "spark-3.0.3-bin-hadoop2.7/examples/src/main/java/org/apache/spark/examples/ml/JavaVectorIndexerExample.java\n",
            "spark-3.0.3-bin-hadoop2.7/examples/src/main/java/org/apache/spark/examples/ml/JavaInteractionExample.java\n",
            "spark-3.0.3-bin-hadoop2.7/examples/src/main/java/org/apache/spark/examples/ml/JavaChiSquareTestExample.java\n",
            "spark-3.0.3-bin-hadoop2.7/examples/src/main/java/org/apache/spark/examples/ml/JavaRobustScalerExample.java\n",
            "spark-3.0.3-bin-hadoop2.7/examples/src/main/java/org/apache/spark/examples/ml/JavaLinearRegressionWithElasticNetExample.java\n",
            "spark-3.0.3-bin-hadoop2.7/examples/src/main/java/org/apache/spark/examples/ml/JavaLinearSVCExample.java\n",
            "spark-3.0.3-bin-hadoop2.7/examples/src/main/java/org/apache/spark/examples/JavaWordCount.java\n",
            "spark-3.0.3-bin-hadoop2.7/examples/src/main/java/org/apache/spark/examples/JavaHdfsLR.java\n",
            "spark-3.0.3-bin-hadoop2.7/examples/src/main/java/org/apache/spark/examples/JavaStatusTrackerDemo.java\n",
            "spark-3.0.3-bin-hadoop2.7/examples/src/main/java/org/apache/spark/examples/mllib/\n",
            "spark-3.0.3-bin-hadoop2.7/examples/src/main/java/org/apache/spark/examples/mllib/JavaChiSqSelectorExample.java\n",
            "spark-3.0.3-bin-hadoop2.7/examples/src/main/java/org/apache/spark/examples/mllib/JavaHypothesisTestingKolmogorovSmirnovTestExample.java\n",
            "spark-3.0.3-bin-hadoop2.7/examples/src/main/java/org/apache/spark/examples/mllib/JavaRandomForestRegressionExample.java\n",
            "spark-3.0.3-bin-hadoop2.7/examples/src/main/java/org/apache/spark/examples/mllib/JavaSimpleFPGrowth.java\n",
            "spark-3.0.3-bin-hadoop2.7/examples/src/main/java/org/apache/spark/examples/mllib/JavaRandomForestClassificationExample.java\n",
            "spark-3.0.3-bin-hadoop2.7/examples/src/main/java/org/apache/spark/examples/mllib/JavaMulticlassClassificationMetricsExample.java\n",
            "spark-3.0.3-bin-hadoop2.7/examples/src/main/java/org/apache/spark/examples/mllib/JavaKernelDensityEstimationExample.java\n",
            "spark-3.0.3-bin-hadoop2.7/examples/src/main/java/org/apache/spark/examples/mllib/JavaSummaryStatisticsExample.java\n",
            "spark-3.0.3-bin-hadoop2.7/examples/src/main/java/org/apache/spark/examples/mllib/JavaDecisionTreeRegressionExample.java\n",
            "spark-3.0.3-bin-hadoop2.7/examples/src/main/java/org/apache/spark/examples/mllib/JavaGradientBoostingClassificationExample.java\n",
            "spark-3.0.3-bin-hadoop2.7/examples/src/main/java/org/apache/spark/examples/mllib/JavaGaussianMixtureExample.java\n",
            "spark-3.0.3-bin-hadoop2.7/examples/src/main/java/org/apache/spark/examples/mllib/JavaStratifiedSamplingExample.java\n",
            "spark-3.0.3-bin-hadoop2.7/examples/src/main/java/org/apache/spark/examples/mllib/JavaSVDExample.java\n",
            "spark-3.0.3-bin-hadoop2.7/examples/src/main/java/org/apache/spark/examples/mllib/JavaAssociationRulesExample.java\n",
            "spark-3.0.3-bin-hadoop2.7/examples/src/main/java/org/apache/spark/examples/mllib/JavaALS.java\n",
            "spark-3.0.3-bin-hadoop2.7/examples/src/main/java/org/apache/spark/examples/mllib/JavaKMeansExample.java\n",
            "spark-3.0.3-bin-hadoop2.7/examples/src/main/java/org/apache/spark/examples/mllib/JavaSVMWithSGDExample.java\n",
            "spark-3.0.3-bin-hadoop2.7/examples/src/main/java/org/apache/spark/examples/mllib/JavaPrefixSpanExample.java\n",
            "spark-3.0.3-bin-hadoop2.7/examples/src/main/java/org/apache/spark/examples/mllib/JavaNaiveBayesExample.java\n",
            "spark-3.0.3-bin-hadoop2.7/examples/src/main/java/org/apache/spark/examples/mllib/JavaLogisticRegressionWithLBFGSExample.java\n",
            "spark-3.0.3-bin-hadoop2.7/examples/src/main/java/org/apache/spark/examples/mllib/JavaLBFGSExample.java\n",
            "spark-3.0.3-bin-hadoop2.7/examples/src/main/java/org/apache/spark/examples/mllib/JavaGradientBoostingRegressionExample.java\n",
            "spark-3.0.3-bin-hadoop2.7/examples/src/main/java/org/apache/spark/examples/mllib/JavaRankingMetricsExample.java\n",
            "spark-3.0.3-bin-hadoop2.7/examples/src/main/java/org/apache/spark/examples/mllib/JavaIsotonicRegressionExample.java\n",
            "spark-3.0.3-bin-hadoop2.7/examples/src/main/java/org/apache/spark/examples/mllib/JavaElementwiseProductExample.java\n",
            "spark-3.0.3-bin-hadoop2.7/examples/src/main/java/org/apache/spark/examples/mllib/JavaCorrelationsExample.java\n",
            "spark-3.0.3-bin-hadoop2.7/examples/src/main/java/org/apache/spark/examples/mllib/JavaPowerIterationClusteringExample.java\n",
            "spark-3.0.3-bin-hadoop2.7/examples/src/main/java/org/apache/spark/examples/mllib/JavaBisectingKMeansExample.java\n",
            "spark-3.0.3-bin-hadoop2.7/examples/src/main/java/org/apache/spark/examples/mllib/JavaDecisionTreeClassificationExample.java\n",
            "spark-3.0.3-bin-hadoop2.7/examples/src/main/java/org/apache/spark/examples/mllib/JavaPCAExample.java\n",
            "spark-3.0.3-bin-hadoop2.7/examples/src/main/java/org/apache/spark/examples/mllib/JavaRecommendationExample.java\n",
            "spark-3.0.3-bin-hadoop2.7/examples/src/main/java/org/apache/spark/examples/mllib/JavaLatentDirichletAllocationExample.java\n",
            "spark-3.0.3-bin-hadoop2.7/examples/src/main/java/org/apache/spark/examples/mllib/JavaHypothesisTestingExample.java\n",
            "spark-3.0.3-bin-hadoop2.7/examples/src/main/java/org/apache/spark/examples/mllib/JavaMultiLabelClassificationMetricsExample.java\n",
            "spark-3.0.3-bin-hadoop2.7/examples/src/main/java/org/apache/spark/examples/mllib/JavaBinaryClassificationMetricsExample.java\n",
            "spark-3.0.3-bin-hadoop2.7/examples/src/main/java/org/apache/spark/examples/mllib/JavaStreamingTestExample.java\n",
            "spark-3.0.3-bin-hadoop2.7/examples/src/main/java/org/apache/spark/examples/JavaPageRank.java\n",
            "spark-3.0.3-bin-hadoop2.7/examples/src/main/java/org/apache/spark/examples/JavaLogQuery.java\n",
            "spark-3.0.3-bin-hadoop2.7/examples/src/main/java/org/apache/spark/examples/streaming/\n",
            "spark-3.0.3-bin-hadoop2.7/examples/src/main/java/org/apache/spark/examples/streaming/JavaStatefulNetworkWordCount.java\n",
            "spark-3.0.3-bin-hadoop2.7/examples/src/main/java/org/apache/spark/examples/streaming/JavaCustomReceiver.java\n",
            "spark-3.0.3-bin-hadoop2.7/examples/src/main/java/org/apache/spark/examples/streaming/JavaRecord.java\n",
            "spark-3.0.3-bin-hadoop2.7/examples/src/main/java/org/apache/spark/examples/streaming/JavaNetworkWordCount.java\n",
            "spark-3.0.3-bin-hadoop2.7/examples/src/main/java/org/apache/spark/examples/streaming/JavaDirectKerberizedKafkaWordCount.java\n",
            "spark-3.0.3-bin-hadoop2.7/examples/src/main/java/org/apache/spark/examples/streaming/JavaDirectKafkaWordCount.java\n",
            "spark-3.0.3-bin-hadoop2.7/examples/src/main/java/org/apache/spark/examples/streaming/JavaSqlNetworkWordCount.java\n",
            "spark-3.0.3-bin-hadoop2.7/examples/src/main/java/org/apache/spark/examples/streaming/JavaRecoverableNetworkWordCount.java\n",
            "spark-3.0.3-bin-hadoop2.7/examples/src/main/java/org/apache/spark/examples/streaming/JavaQueueStream.java\n",
            "spark-3.0.3-bin-hadoop2.7/examples/src/main/java/org/apache/spark/examples/JavaSparkPi.java\n",
            "spark-3.0.3-bin-hadoop2.7/examples/src/main/java/org/apache/spark/examples/sql/\n",
            "spark-3.0.3-bin-hadoop2.7/examples/src/main/java/org/apache/spark/examples/sql/JavaUserDefinedScalar.java\n",
            "spark-3.0.3-bin-hadoop2.7/examples/src/main/java/org/apache/spark/examples/sql/hive/\n",
            "spark-3.0.3-bin-hadoop2.7/examples/src/main/java/org/apache/spark/examples/sql/hive/JavaSparkHiveExample.java\n",
            "spark-3.0.3-bin-hadoop2.7/examples/src/main/java/org/apache/spark/examples/sql/JavaUserDefinedTypedAggregation.java\n",
            "spark-3.0.3-bin-hadoop2.7/examples/src/main/java/org/apache/spark/examples/sql/JavaSQLDataSourceExample.java\n",
            "spark-3.0.3-bin-hadoop2.7/examples/src/main/java/org/apache/spark/examples/sql/JavaSparkSQLExample.java\n",
            "spark-3.0.3-bin-hadoop2.7/examples/src/main/java/org/apache/spark/examples/sql/JavaUserDefinedUntypedAggregation.java\n",
            "spark-3.0.3-bin-hadoop2.7/examples/src/main/java/org/apache/spark/examples/sql/streaming/\n",
            "spark-3.0.3-bin-hadoop2.7/examples/src/main/java/org/apache/spark/examples/sql/streaming/JavaStructuredKafkaWordCount.java\n",
            "spark-3.0.3-bin-hadoop2.7/examples/src/main/java/org/apache/spark/examples/sql/streaming/JavaStructuredNetworkWordCountWindowed.java\n",
            "spark-3.0.3-bin-hadoop2.7/examples/src/main/java/org/apache/spark/examples/sql/streaming/JavaStructuredSessionization.java\n",
            "spark-3.0.3-bin-hadoop2.7/examples/src/main/java/org/apache/spark/examples/sql/streaming/JavaStructuredNetworkWordCount.java\n",
            "spark-3.0.3-bin-hadoop2.7/examples/src/main/java/org/apache/spark/examples/sql/streaming/JavaStructuredKerberizedKafkaWordCount.java\n",
            "spark-3.0.3-bin-hadoop2.7/examples/src/main/java/org/apache/spark/examples/JavaTC.java\n",
            "spark-3.0.3-bin-hadoop2.7/examples/src/main/scripts/\n",
            "spark-3.0.3-bin-hadoop2.7/examples/src/main/scripts/getGpusResources.sh\n",
            "spark-3.0.3-bin-hadoop2.7/examples/src/main/python/\n",
            "spark-3.0.3-bin-hadoop2.7/examples/src/main/python/kmeans.py\n",
            "spark-3.0.3-bin-hadoop2.7/examples/src/main/python/ml/\n",
            "spark-3.0.3-bin-hadoop2.7/examples/src/main/python/ml/dct_example.py\n",
            "spark-3.0.3-bin-hadoop2.7/examples/src/main/python/ml/count_vectorizer_example.py\n",
            "spark-3.0.3-bin-hadoop2.7/examples/src/main/python/ml/chisq_selector_example.py\n",
            "spark-3.0.3-bin-hadoop2.7/examples/src/main/python/ml/gradient_boosted_tree_regressor_example.py\n",
            "spark-3.0.3-bin-hadoop2.7/examples/src/main/python/ml/tf_idf_example.py\n",
            "spark-3.0.3-bin-hadoop2.7/examples/src/main/python/ml/cross_validator.py\n",
            "spark-3.0.3-bin-hadoop2.7/examples/src/main/python/ml/linear_regression_with_elastic_net.py\n",
            "spark-3.0.3-bin-hadoop2.7/examples/src/main/python/ml/normalizer_example.py\n",
            "spark-3.0.3-bin-hadoop2.7/examples/src/main/python/ml/fm_regressor_example.py\n",
            "spark-3.0.3-bin-hadoop2.7/examples/src/main/python/ml/polynomial_expansion_example.py\n",
            "spark-3.0.3-bin-hadoop2.7/examples/src/main/python/ml/pipeline_example.py\n",
            "spark-3.0.3-bin-hadoop2.7/examples/src/main/python/ml/generalized_linear_regression_example.py\n",
            "spark-3.0.3-bin-hadoop2.7/examples/src/main/python/ml/multilayer_perceptron_classification.py\n",
            "spark-3.0.3-bin-hadoop2.7/examples/src/main/python/ml/bisecting_k_means_example.py\n",
            "spark-3.0.3-bin-hadoop2.7/examples/src/main/python/ml/chi_square_test_example.py\n",
            "spark-3.0.3-bin-hadoop2.7/examples/src/main/python/ml/train_validation_split.py\n",
            "spark-3.0.3-bin-hadoop2.7/examples/src/main/python/ml/stopwords_remover_example.py\n",
            "spark-3.0.3-bin-hadoop2.7/examples/src/main/python/ml/linearsvc.py\n",
            "spark-3.0.3-bin-hadoop2.7/examples/src/main/python/ml/lda_example.py\n",
            "spark-3.0.3-bin-hadoop2.7/examples/src/main/python/ml/random_forest_regressor_example.py\n",
            "spark-3.0.3-bin-hadoop2.7/examples/src/main/python/ml/vector_assembler_example.py\n",
            "spark-3.0.3-bin-hadoop2.7/examples/src/main/python/ml/word2vec_example.py\n",
            "spark-3.0.3-bin-hadoop2.7/examples/src/main/python/ml/string_indexer_example.py\n",
            "spark-3.0.3-bin-hadoop2.7/examples/src/main/python/ml/decision_tree_classification_example.py\n",
            "spark-3.0.3-bin-hadoop2.7/examples/src/main/python/ml/index_to_string_example.py\n",
            "spark-3.0.3-bin-hadoop2.7/examples/src/main/python/ml/bucketizer_example.py\n",
            "spark-3.0.3-bin-hadoop2.7/examples/src/main/python/ml/vector_size_hint_example.py\n",
            "spark-3.0.3-bin-hadoop2.7/examples/src/main/python/ml/vector_indexer_example.py\n",
            "spark-3.0.3-bin-hadoop2.7/examples/src/main/python/ml/tokenizer_example.py\n",
            "spark-3.0.3-bin-hadoop2.7/examples/src/main/python/ml/robust_scaler_example.py\n",
            "spark-3.0.3-bin-hadoop2.7/examples/src/main/python/ml/standard_scaler_example.py\n",
            "spark-3.0.3-bin-hadoop2.7/examples/src/main/python/ml/kmeans_example.py\n",
            "spark-3.0.3-bin-hadoop2.7/examples/src/main/python/ml/power_iteration_clustering_example.py\n",
            "spark-3.0.3-bin-hadoop2.7/examples/src/main/python/ml/naive_bayes_example.py\n",
            "spark-3.0.3-bin-hadoop2.7/examples/src/main/python/ml/pca_example.py\n",
            "spark-3.0.3-bin-hadoop2.7/examples/src/main/python/ml/aft_survival_regression.py\n",
            "spark-3.0.3-bin-hadoop2.7/examples/src/main/python/ml/min_max_scaler_example.py\n",
            "spark-3.0.3-bin-hadoop2.7/examples/src/main/python/ml/elementwise_product_example.py\n",
            "spark-3.0.3-bin-hadoop2.7/examples/src/main/python/ml/dataframe_example.py\n",
            "spark-3.0.3-bin-hadoop2.7/examples/src/main/python/ml/n_gram_example.py\n",
            "spark-3.0.3-bin-hadoop2.7/examples/src/main/python/ml/rformula_example.py\n",
            "spark-3.0.3-bin-hadoop2.7/examples/src/main/python/ml/one_vs_rest_example.py\n",
            "spark-3.0.3-bin-hadoop2.7/examples/src/main/python/ml/als_example.py\n",
            "spark-3.0.3-bin-hadoop2.7/examples/src/main/python/ml/onehot_encoder_example.py\n",
            "spark-3.0.3-bin-hadoop2.7/examples/src/main/python/ml/vector_slicer_example.py\n",
            "spark-3.0.3-bin-hadoop2.7/examples/src/main/python/ml/logistic_regression_with_elastic_net.py\n",
            "spark-3.0.3-bin-hadoop2.7/examples/src/main/python/ml/sql_transformer.py\n",
            "spark-3.0.3-bin-hadoop2.7/examples/src/main/python/ml/multiclass_logistic_regression_with_elastic_net.py\n",
            "spark-3.0.3-bin-hadoop2.7/examples/src/main/python/ml/summarizer_example.py\n",
            "spark-3.0.3-bin-hadoop2.7/examples/src/main/python/ml/quantile_discretizer_example.py\n",
            "spark-3.0.3-bin-hadoop2.7/examples/src/main/python/ml/feature_hasher_example.py\n",
            "spark-3.0.3-bin-hadoop2.7/examples/src/main/python/ml/imputer_example.py\n",
            "spark-3.0.3-bin-hadoop2.7/examples/src/main/python/ml/bucketed_random_projection_lsh_example.py\n",
            "spark-3.0.3-bin-hadoop2.7/examples/src/main/python/ml/estimator_transformer_param_example.py\n",
            "spark-3.0.3-bin-hadoop2.7/examples/src/main/python/ml/gradient_boosted_tree_classifier_example.py\n",
            "spark-3.0.3-bin-hadoop2.7/examples/src/main/python/ml/logistic_regression_summary_example.py\n",
            "spark-3.0.3-bin-hadoop2.7/examples/src/main/python/ml/decision_tree_regression_example.py\n",
            "spark-3.0.3-bin-hadoop2.7/examples/src/main/python/ml/fm_classifier_example.py\n",
            "spark-3.0.3-bin-hadoop2.7/examples/src/main/python/ml/gaussian_mixture_example.py\n",
            "spark-3.0.3-bin-hadoop2.7/examples/src/main/python/ml/fpgrowth_example.py\n",
            "spark-3.0.3-bin-hadoop2.7/examples/src/main/python/ml/random_forest_classifier_example.py\n",
            "spark-3.0.3-bin-hadoop2.7/examples/src/main/python/ml/correlation_example.py\n",
            "spark-3.0.3-bin-hadoop2.7/examples/src/main/python/ml/min_hash_lsh_example.py\n",
            "spark-3.0.3-bin-hadoop2.7/examples/src/main/python/ml/binarizer_example.py\n",
            "spark-3.0.3-bin-hadoop2.7/examples/src/main/python/ml/prefixspan_example.py\n",
            "spark-3.0.3-bin-hadoop2.7/examples/src/main/python/ml/max_abs_scaler_example.py\n",
            "spark-3.0.3-bin-hadoop2.7/examples/src/main/python/ml/isotonic_regression_example.py\n",
            "spark-3.0.3-bin-hadoop2.7/examples/src/main/python/ml/interaction_example.py\n",
            "spark-3.0.3-bin-hadoop2.7/examples/src/main/python/logistic_regression.py\n",
            "spark-3.0.3-bin-hadoop2.7/examples/src/main/python/als.py\n",
            "spark-3.0.3-bin-hadoop2.7/examples/src/main/python/mllib/\n",
            "spark-3.0.3-bin-hadoop2.7/examples/src/main/python/mllib/word2vec.py\n",
            "spark-3.0.3-bin-hadoop2.7/examples/src/main/python/mllib/correlations_example.py\n",
            "spark-3.0.3-bin-hadoop2.7/examples/src/main/python/mllib/gradient_boosting_classification_example.py\n",
            "spark-3.0.3-bin-hadoop2.7/examples/src/main/python/mllib/kernel_density_estimation_example.py\n",
            "spark-3.0.3-bin-hadoop2.7/examples/src/main/python/mllib/hypothesis_testing_example.py\n",
            "spark-3.0.3-bin-hadoop2.7/examples/src/main/python/mllib/svd_example.py\n",
            "spark-3.0.3-bin-hadoop2.7/examples/src/main/python/mllib/kmeans.py\n",
            "spark-3.0.3-bin-hadoop2.7/examples/src/main/python/mllib/latent_dirichlet_allocation_example.py\n",
            "spark-3.0.3-bin-hadoop2.7/examples/src/main/python/mllib/tf_idf_example.py\n",
            "spark-3.0.3-bin-hadoop2.7/examples/src/main/python/mllib/correlations.py\n",
            "spark-3.0.3-bin-hadoop2.7/examples/src/main/python/mllib/random_forest_regression_example.py\n",
            "spark-3.0.3-bin-hadoop2.7/examples/src/main/python/mllib/normalizer_example.py\n",
            "spark-3.0.3-bin-hadoop2.7/examples/src/main/python/mllib/logistic_regression.py\n",
            "spark-3.0.3-bin-hadoop2.7/examples/src/main/python/mllib/multi_label_metrics_example.py\n",
            "spark-3.0.3-bin-hadoop2.7/examples/src/main/python/mllib/gradient_boosting_regression_example.py\n",
            "spark-3.0.3-bin-hadoop2.7/examples/src/main/python/mllib/random_forest_classification_example.py\n",
            "spark-3.0.3-bin-hadoop2.7/examples/src/main/python/mllib/streaming_linear_regression_example.py\n",
            "spark-3.0.3-bin-hadoop2.7/examples/src/main/python/mllib/sampled_rdds.py\n",
            "spark-3.0.3-bin-hadoop2.7/examples/src/main/python/mllib/bisecting_k_means_example.py\n",
            "spark-3.0.3-bin-hadoop2.7/examples/src/main/python/mllib/logistic_regression_with_lbfgs_example.py\n",
            "spark-3.0.3-bin-hadoop2.7/examples/src/main/python/mllib/k_means_example.py\n",
            "spark-3.0.3-bin-hadoop2.7/examples/src/main/python/mllib/streaming_k_means_example.py\n",
            "spark-3.0.3-bin-hadoop2.7/examples/src/main/python/mllib/word2vec_example.py\n",
            "spark-3.0.3-bin-hadoop2.7/examples/src/main/python/mllib/multi_class_metrics_example.py\n",
            "spark-3.0.3-bin-hadoop2.7/examples/src/main/python/mllib/decision_tree_classification_example.py\n",
            "spark-3.0.3-bin-hadoop2.7/examples/src/main/python/mllib/summary_statistics_example.py\n",
            "spark-3.0.3-bin-hadoop2.7/examples/src/main/python/mllib/binary_classification_metrics_example.py\n",
            "spark-3.0.3-bin-hadoop2.7/examples/src/main/python/mllib/standard_scaler_example.py\n",
            "spark-3.0.3-bin-hadoop2.7/examples/src/main/python/mllib/power_iteration_clustering_example.py\n",
            "spark-3.0.3-bin-hadoop2.7/examples/src/main/python/mllib/gaussian_mixture_model.py\n",
            "spark-3.0.3-bin-hadoop2.7/examples/src/main/python/mllib/regression_metrics_example.py\n",
            "spark-3.0.3-bin-hadoop2.7/examples/src/main/python/mllib/naive_bayes_example.py\n",
            "spark-3.0.3-bin-hadoop2.7/examples/src/main/python/mllib/elementwise_product_example.py\n",
            "spark-3.0.3-bin-hadoop2.7/examples/src/main/python/mllib/linear_regression_with_sgd_example.py\n",
            "spark-3.0.3-bin-hadoop2.7/examples/src/main/python/mllib/pca_rowmatrix_example.py\n",
            "spark-3.0.3-bin-hadoop2.7/examples/src/main/python/mllib/hypothesis_testing_kolmogorov_smirnov_test_example.py\n",
            "spark-3.0.3-bin-hadoop2.7/examples/src/main/python/mllib/random_rdd_generation.py\n",
            "spark-3.0.3-bin-hadoop2.7/examples/src/main/python/mllib/decision_tree_regression_example.py\n",
            "spark-3.0.3-bin-hadoop2.7/examples/src/main/python/mllib/gaussian_mixture_example.py\n",
            "spark-3.0.3-bin-hadoop2.7/examples/src/main/python/mllib/recommendation_example.py\n",
            "spark-3.0.3-bin-hadoop2.7/examples/src/main/python/mllib/fpgrowth_example.py\n",
            "spark-3.0.3-bin-hadoop2.7/examples/src/main/python/mllib/ranking_metrics_example.py\n",
            "spark-3.0.3-bin-hadoop2.7/examples/src/main/python/mllib/svm_with_sgd_example.py\n",
            "spark-3.0.3-bin-hadoop2.7/examples/src/main/python/mllib/isotonic_regression_example.py\n",
            "spark-3.0.3-bin-hadoop2.7/examples/src/main/python/mllib/stratified_sampling_example.py\n",
            "spark-3.0.3-bin-hadoop2.7/examples/src/main/python/wordcount.py\n",
            "spark-3.0.3-bin-hadoop2.7/examples/src/main/python/status_api_demo.py\n",
            "spark-3.0.3-bin-hadoop2.7/examples/src/main/python/pagerank.py\n",
            "spark-3.0.3-bin-hadoop2.7/examples/src/main/python/sort.py\n",
            "spark-3.0.3-bin-hadoop2.7/examples/src/main/python/transitive_closure.py\n",
            "spark-3.0.3-bin-hadoop2.7/examples/src/main/python/avro_inputformat.py\n",
            "spark-3.0.3-bin-hadoop2.7/examples/src/main/python/pi.py\n",
            "spark-3.0.3-bin-hadoop2.7/examples/src/main/python/streaming/\n",
            "spark-3.0.3-bin-hadoop2.7/examples/src/main/python/streaming/queue_stream.py\n",
            "spark-3.0.3-bin-hadoop2.7/examples/src/main/python/streaming/stateful_network_wordcount.py\n",
            "spark-3.0.3-bin-hadoop2.7/examples/src/main/python/streaming/network_wordjoinsentiments.py\n",
            "spark-3.0.3-bin-hadoop2.7/examples/src/main/python/streaming/sql_network_wordcount.py\n",
            "spark-3.0.3-bin-hadoop2.7/examples/src/main/python/streaming/network_wordcount.py\n",
            "spark-3.0.3-bin-hadoop2.7/examples/src/main/python/streaming/hdfs_wordcount.py\n",
            "spark-3.0.3-bin-hadoop2.7/examples/src/main/python/streaming/recoverable_network_wordcount.py\n",
            "spark-3.0.3-bin-hadoop2.7/examples/src/main/python/sql/\n",
            "spark-3.0.3-bin-hadoop2.7/examples/src/main/python/sql/datasource.py\n",
            "spark-3.0.3-bin-hadoop2.7/examples/src/main/python/sql/hive.py\n",
            "spark-3.0.3-bin-hadoop2.7/examples/src/main/python/sql/arrow.py\n",
            "spark-3.0.3-bin-hadoop2.7/examples/src/main/python/sql/streaming/\n",
            "spark-3.0.3-bin-hadoop2.7/examples/src/main/python/sql/streaming/structured_network_wordcount_windowed.py\n",
            "spark-3.0.3-bin-hadoop2.7/examples/src/main/python/sql/streaming/structured_network_wordcount.py\n",
            "spark-3.0.3-bin-hadoop2.7/examples/src/main/python/sql/streaming/structured_kafka_wordcount.py\n",
            "spark-3.0.3-bin-hadoop2.7/examples/src/main/python/sql/basic.py\n",
            "spark-3.0.3-bin-hadoop2.7/examples/src/main/python/parquet_inputformat.py\n",
            "spark-3.0.3-bin-hadoop2.7/examples/jars/\n",
            "spark-3.0.3-bin-hadoop2.7/examples/jars/spark-examples_2.12-3.0.3.jar\n",
            "spark-3.0.3-bin-hadoop2.7/examples/jars/scopt_2.12-3.7.1.jar\n",
            "spark-3.0.3-bin-hadoop2.7/conf/\n",
            "spark-3.0.3-bin-hadoop2.7/conf/slaves.template\n",
            "spark-3.0.3-bin-hadoop2.7/conf/metrics.properties.template\n",
            "spark-3.0.3-bin-hadoop2.7/conf/fairscheduler.xml.template\n",
            "spark-3.0.3-bin-hadoop2.7/conf/log4j.properties.template\n",
            "spark-3.0.3-bin-hadoop2.7/conf/spark-defaults.conf.template\n",
            "spark-3.0.3-bin-hadoop2.7/conf/spark-env.sh.template\n",
            "spark-3.0.3-bin-hadoop2.7/bin/\n",
            "spark-3.0.3-bin-hadoop2.7/bin/sparkR.cmd\n",
            "spark-3.0.3-bin-hadoop2.7/bin/sparkR\n",
            "spark-3.0.3-bin-hadoop2.7/bin/spark-submit\n",
            "spark-3.0.3-bin-hadoop2.7/bin/pyspark2.cmd\n",
            "spark-3.0.3-bin-hadoop2.7/bin/spark-class\n",
            "spark-3.0.3-bin-hadoop2.7/bin/pyspark.cmd\n",
            "spark-3.0.3-bin-hadoop2.7/bin/spark-submit2.cmd\n",
            "spark-3.0.3-bin-hadoop2.7/bin/load-spark-env.cmd\n",
            "spark-3.0.3-bin-hadoop2.7/bin/spark-sql\n",
            "spark-3.0.3-bin-hadoop2.7/bin/docker-image-tool.sh\n",
            "spark-3.0.3-bin-hadoop2.7/bin/find-spark-home.cmd\n",
            "spark-3.0.3-bin-hadoop2.7/bin/load-spark-env.sh\n",
            "spark-3.0.3-bin-hadoop2.7/bin/pyspark\n",
            "spark-3.0.3-bin-hadoop2.7/bin/spark-shell.cmd\n",
            "spark-3.0.3-bin-hadoop2.7/bin/spark-shell2.cmd\n",
            "spark-3.0.3-bin-hadoop2.7/bin/spark-submit.cmd\n",
            "spark-3.0.3-bin-hadoop2.7/bin/beeline.cmd\n",
            "spark-3.0.3-bin-hadoop2.7/bin/find-spark-home\n",
            "spark-3.0.3-bin-hadoop2.7/bin/spark-class.cmd\n",
            "spark-3.0.3-bin-hadoop2.7/bin/sparkR2.cmd\n",
            "spark-3.0.3-bin-hadoop2.7/bin/beeline\n",
            "spark-3.0.3-bin-hadoop2.7/bin/spark-class2.cmd\n",
            "spark-3.0.3-bin-hadoop2.7/bin/spark-sql.cmd\n",
            "spark-3.0.3-bin-hadoop2.7/bin/run-example\n",
            "spark-3.0.3-bin-hadoop2.7/bin/spark-shell\n",
            "spark-3.0.3-bin-hadoop2.7/bin/run-example.cmd\n",
            "spark-3.0.3-bin-hadoop2.7/bin/spark-sql2.cmd\n",
            "spark-3.0.3-bin-hadoop2.7/python/\n",
            "spark-3.0.3-bin-hadoop2.7/python/.gitignore\n",
            "spark-3.0.3-bin-hadoop2.7/python/run-tests-with-coverage\n",
            "spark-3.0.3-bin-hadoop2.7/python/pylintrc\n",
            "spark-3.0.3-bin-hadoop2.7/python/MANIFEST.in\n",
            "spark-3.0.3-bin-hadoop2.7/python/README.md\n",
            "spark-3.0.3-bin-hadoop2.7/python/test_coverage/\n",
            "spark-3.0.3-bin-hadoop2.7/python/test_coverage/coverage_daemon.py\n",
            "spark-3.0.3-bin-hadoop2.7/python/test_coverage/conf/\n",
            "spark-3.0.3-bin-hadoop2.7/python/test_coverage/conf/spark-defaults.conf\n",
            "spark-3.0.3-bin-hadoop2.7/python/test_coverage/sitecustomize.py\n",
            "spark-3.0.3-bin-hadoop2.7/python/run-tests.py\n",
            "spark-3.0.3-bin-hadoop2.7/python/setup.py\n",
            "spark-3.0.3-bin-hadoop2.7/python/test_support/\n",
            "spark-3.0.3-bin-hadoop2.7/python/test_support/userlibrary.py\n",
            "spark-3.0.3-bin-hadoop2.7/python/test_support/hello/\n",
            "spark-3.0.3-bin-hadoop2.7/python/test_support/hello/sub_hello/\n",
            "spark-3.0.3-bin-hadoop2.7/python/test_support/hello/sub_hello/sub_hello.txt\n",
            "spark-3.0.3-bin-hadoop2.7/python/test_support/hello/hello.txt\n",
            "spark-3.0.3-bin-hadoop2.7/python/test_support/userlib-0.1.zip\n",
            "spark-3.0.3-bin-hadoop2.7/python/test_support/SimpleHTTPServer.py\n",
            "spark-3.0.3-bin-hadoop2.7/python/test_support/sql/\n",
            "spark-3.0.3-bin-hadoop2.7/python/test_support/sql/people.json\n",
            "spark-3.0.3-bin-hadoop2.7/python/test_support/sql/people_array.json\n",
            "spark-3.0.3-bin-hadoop2.7/python/test_support/sql/people_array_utf16le.json\n",
            "spark-3.0.3-bin-hadoop2.7/python/test_support/sql/text-test.txt\n",
            "spark-3.0.3-bin-hadoop2.7/python/test_support/sql/ages.csv\n",
            "spark-3.0.3-bin-hadoop2.7/python/test_support/sql/parquet_partitioned/\n",
            "spark-3.0.3-bin-hadoop2.7/python/test_support/sql/parquet_partitioned/year=2015/\n",
            "spark-3.0.3-bin-hadoop2.7/python/test_support/sql/parquet_partitioned/year=2015/month=10/\n",
            "spark-3.0.3-bin-hadoop2.7/python/test_support/sql/parquet_partitioned/year=2015/month=10/day=26/\n",
            "spark-3.0.3-bin-hadoop2.7/python/test_support/sql/parquet_partitioned/year=2015/month=10/day=26/.part-r-00005.gz.parquet.crc\n",
            "spark-3.0.3-bin-hadoop2.7/python/test_support/sql/parquet_partitioned/year=2015/month=10/day=26/part-r-00005.gz.parquet\n",
            "spark-3.0.3-bin-hadoop2.7/python/test_support/sql/parquet_partitioned/year=2015/month=10/day=25/\n",
            "spark-3.0.3-bin-hadoop2.7/python/test_support/sql/parquet_partitioned/year=2015/month=10/day=25/.part-r-00002.gz.parquet.crc\n",
            "spark-3.0.3-bin-hadoop2.7/python/test_support/sql/parquet_partitioned/year=2015/month=10/day=25/.part-r-00004.gz.parquet.crc\n",
            "spark-3.0.3-bin-hadoop2.7/python/test_support/sql/parquet_partitioned/year=2015/month=10/day=25/part-r-00004.gz.parquet\n",
            "spark-3.0.3-bin-hadoop2.7/python/test_support/sql/parquet_partitioned/year=2015/month=10/day=25/part-r-00002.gz.parquet\n",
            "spark-3.0.3-bin-hadoop2.7/python/test_support/sql/parquet_partitioned/year=2015/month=9/\n",
            "spark-3.0.3-bin-hadoop2.7/python/test_support/sql/parquet_partitioned/year=2015/month=9/day=1/\n",
            "spark-3.0.3-bin-hadoop2.7/python/test_support/sql/parquet_partitioned/year=2015/month=9/day=1/.part-r-00007.gz.parquet.crc\n",
            "spark-3.0.3-bin-hadoop2.7/python/test_support/sql/parquet_partitioned/year=2015/month=9/day=1/part-r-00007.gz.parquet\n",
            "spark-3.0.3-bin-hadoop2.7/python/test_support/sql/parquet_partitioned/_metadata\n",
            "spark-3.0.3-bin-hadoop2.7/python/test_support/sql/parquet_partitioned/year=2014/\n",
            "spark-3.0.3-bin-hadoop2.7/python/test_support/sql/parquet_partitioned/year=2014/month=9/\n",
            "spark-3.0.3-bin-hadoop2.7/python/test_support/sql/parquet_partitioned/year=2014/month=9/day=1/\n",
            "spark-3.0.3-bin-hadoop2.7/python/test_support/sql/parquet_partitioned/year=2014/month=9/day=1/.part-r-00008.gz.parquet.crc\n",
            "spark-3.0.3-bin-hadoop2.7/python/test_support/sql/parquet_partitioned/year=2014/month=9/day=1/part-r-00008.gz.parquet\n",
            "spark-3.0.3-bin-hadoop2.7/python/test_support/sql/parquet_partitioned/_common_metadata\n",
            "spark-3.0.3-bin-hadoop2.7/python/test_support/sql/parquet_partitioned/_SUCCESS\n",
            "spark-3.0.3-bin-hadoop2.7/python/test_support/sql/orc_partitioned/\n",
            "spark-3.0.3-bin-hadoop2.7/python/test_support/sql/orc_partitioned/b=1/\n",
            "spark-3.0.3-bin-hadoop2.7/python/test_support/sql/orc_partitioned/b=1/c=1/\n",
            "spark-3.0.3-bin-hadoop2.7/python/test_support/sql/orc_partitioned/b=1/c=1/part-r-00000-829af031-b970-49d6-ad39-30460a0be2c8.orc\n",
            "spark-3.0.3-bin-hadoop2.7/python/test_support/sql/orc_partitioned/b=1/c=1/.part-r-00000-829af031-b970-49d6-ad39-30460a0be2c8.orc.crc\n",
            "spark-3.0.3-bin-hadoop2.7/python/test_support/sql/orc_partitioned/b=0/\n",
            "spark-3.0.3-bin-hadoop2.7/python/test_support/sql/orc_partitioned/b=0/c=0/\n",
            "spark-3.0.3-bin-hadoop2.7/python/test_support/sql/orc_partitioned/b=0/c=0/part-r-00000-829af031-b970-49d6-ad39-30460a0be2c8.orc\n",
            "spark-3.0.3-bin-hadoop2.7/python/test_support/sql/orc_partitioned/b=0/c=0/.part-r-00000-829af031-b970-49d6-ad39-30460a0be2c8.orc.crc\n",
            "spark-3.0.3-bin-hadoop2.7/python/test_support/sql/orc_partitioned/_SUCCESS\n",
            "spark-3.0.3-bin-hadoop2.7/python/test_support/sql/ages_newlines.csv\n",
            "spark-3.0.3-bin-hadoop2.7/python/test_support/sql/streaming/\n",
            "spark-3.0.3-bin-hadoop2.7/python/test_support/sql/streaming/text-test.txt\n",
            "spark-3.0.3-bin-hadoop2.7/python/test_support/sql/people1.json\n",
            "spark-3.0.3-bin-hadoop2.7/python/pyspark/\n",
            "spark-3.0.3-bin-hadoop2.7/python/pyspark/tests/\n",
            "spark-3.0.3-bin-hadoop2.7/python/pyspark/tests/test_rddbarrier.py\n",
            "spark-3.0.3-bin-hadoop2.7/python/pyspark/tests/test_worker.py\n",
            "spark-3.0.3-bin-hadoop2.7/python/pyspark/tests/test_serializers.py\n",
            "spark-3.0.3-bin-hadoop2.7/python/pyspark/tests/test_util.py\n",
            "spark-3.0.3-bin-hadoop2.7/python/pyspark/tests/test_rdd.py\n",
            "spark-3.0.3-bin-hadoop2.7/python/pyspark/tests/__init__.py\n",
            "spark-3.0.3-bin-hadoop2.7/python/pyspark/tests/test_broadcast.py\n",
            "spark-3.0.3-bin-hadoop2.7/python/pyspark/tests/test_appsubmit.py\n",
            "spark-3.0.3-bin-hadoop2.7/python/pyspark/tests/test_profiler.py\n",
            "spark-3.0.3-bin-hadoop2.7/python/pyspark/tests/test_pin_thread.py\n",
            "spark-3.0.3-bin-hadoop2.7/python/pyspark/tests/test_shuffle.py\n",
            "spark-3.0.3-bin-hadoop2.7/python/pyspark/tests/test_join.py\n",
            "spark-3.0.3-bin-hadoop2.7/python/pyspark/tests/test_taskcontext.py\n",
            "spark-3.0.3-bin-hadoop2.7/python/pyspark/tests/test_context.py\n",
            "spark-3.0.3-bin-hadoop2.7/python/pyspark/tests/test_readwrite.py\n",
            "spark-3.0.3-bin-hadoop2.7/python/pyspark/tests/test_conf.py\n",
            "spark-3.0.3-bin-hadoop2.7/python/pyspark/tests/test_daemon.py\n",
            "spark-3.0.3-bin-hadoop2.7/python/pyspark/testing/\n",
            "spark-3.0.3-bin-hadoop2.7/python/pyspark/testing/mlutils.py\n",
            "spark-3.0.3-bin-hadoop2.7/python/pyspark/testing/__init__.py\n",
            "spark-3.0.3-bin-hadoop2.7/python/pyspark/testing/mllibutils.py\n",
            "spark-3.0.3-bin-hadoop2.7/python/pyspark/testing/utils.py\n",
            "spark-3.0.3-bin-hadoop2.7/python/pyspark/testing/sqlutils.py\n",
            "spark-3.0.3-bin-hadoop2.7/python/pyspark/testing/streamingutils.py\n",
            "spark-3.0.3-bin-hadoop2.7/python/pyspark/accumulators.py\n",
            "spark-3.0.3-bin-hadoop2.7/python/pyspark/rddsampler.py\n",
            "spark-3.0.3-bin-hadoop2.7/python/pyspark/ml/\n",
            "spark-3.0.3-bin-hadoop2.7/python/pyspark/ml/tests/\n",
            "spark-3.0.3-bin-hadoop2.7/python/pyspark/ml/tests/test_algorithms.py\n",
            "spark-3.0.3-bin-hadoop2.7/python/pyspark/ml/tests/test_evaluation.py\n",
            "spark-3.0.3-bin-hadoop2.7/python/pyspark/ml/tests/test_util.py\n",
            "spark-3.0.3-bin-hadoop2.7/python/pyspark/ml/tests/test_feature.py\n",
            "spark-3.0.3-bin-hadoop2.7/python/pyspark/ml/tests/test_pipeline.py\n",
            "spark-3.0.3-bin-hadoop2.7/python/pyspark/ml/tests/test_wrapper.py\n",
            "spark-3.0.3-bin-hadoop2.7/python/pyspark/ml/tests/__init__.py\n",
            "spark-3.0.3-bin-hadoop2.7/python/pyspark/ml/tests/test_tuning.py\n",
            "spark-3.0.3-bin-hadoop2.7/python/pyspark/ml/tests/test_persistence.py\n",
            "spark-3.0.3-bin-hadoop2.7/python/pyspark/ml/tests/test_param.py\n",
            "spark-3.0.3-bin-hadoop2.7/python/pyspark/ml/tests/test_training_summary.py\n",
            "spark-3.0.3-bin-hadoop2.7/python/pyspark/ml/tests/test_linalg.py\n",
            "spark-3.0.3-bin-hadoop2.7/python/pyspark/ml/tests/test_image.py\n",
            "spark-3.0.3-bin-hadoop2.7/python/pyspark/ml/tests/test_stat.py\n",
            "spark-3.0.3-bin-hadoop2.7/python/pyspark/ml/tests/test_base.py\n",
            "spark-3.0.3-bin-hadoop2.7/python/pyspark/ml/functions.py\n",
            "spark-3.0.3-bin-hadoop2.7/python/pyspark/ml/tuning.py\n",
            "spark-3.0.3-bin-hadoop2.7/python/pyspark/ml/pipeline.py\n",
            "spark-3.0.3-bin-hadoop2.7/python/pyspark/ml/base.py\n",
            "spark-3.0.3-bin-hadoop2.7/python/pyspark/ml/feature.py\n",
            "spark-3.0.3-bin-hadoop2.7/python/pyspark/ml/__init__.py\n",
            "spark-3.0.3-bin-hadoop2.7/python/pyspark/ml/stat.py\n",
            "spark-3.0.3-bin-hadoop2.7/python/pyspark/ml/image.py\n",
            "spark-3.0.3-bin-hadoop2.7/python/pyspark/ml/classification.py\n",
            "spark-3.0.3-bin-hadoop2.7/python/pyspark/ml/recommendation.py\n",
            "spark-3.0.3-bin-hadoop2.7/python/pyspark/ml/regression.py\n",
            "spark-3.0.3-bin-hadoop2.7/python/pyspark/ml/param/\n",
            "spark-3.0.3-bin-hadoop2.7/python/pyspark/ml/param/_shared_params_code_gen.py\n",
            "spark-3.0.3-bin-hadoop2.7/python/pyspark/ml/param/__init__.py\n",
            "spark-3.0.3-bin-hadoop2.7/python/pyspark/ml/param/shared.py\n",
            "spark-3.0.3-bin-hadoop2.7/python/pyspark/ml/tree.py\n",
            "spark-3.0.3-bin-hadoop2.7/python/pyspark/ml/fpm.py\n",
            "spark-3.0.3-bin-hadoop2.7/python/pyspark/ml/wrapper.py\n",
            "spark-3.0.3-bin-hadoop2.7/python/pyspark/ml/clustering.py\n",
            "spark-3.0.3-bin-hadoop2.7/python/pyspark/ml/common.py\n",
            "spark-3.0.3-bin-hadoop2.7/python/pyspark/ml/linalg/\n",
            "spark-3.0.3-bin-hadoop2.7/python/pyspark/ml/linalg/__init__.py\n",
            "spark-3.0.3-bin-hadoop2.7/python/pyspark/ml/evaluation.py\n",
            "spark-3.0.3-bin-hadoop2.7/python/pyspark/ml/util.py\n",
            "spark-3.0.3-bin-hadoop2.7/python/pyspark/find_spark_home.py\n",
            "spark-3.0.3-bin-hadoop2.7/python/pyspark/heapq3.py\n",
            "spark-3.0.3-bin-hadoop2.7/python/pyspark/serializers.py\n",
            "spark-3.0.3-bin-hadoop2.7/python/pyspark/java_gateway.py\n",
            "spark-3.0.3-bin-hadoop2.7/python/pyspark/traceback_utils.py\n",
            "spark-3.0.3-bin-hadoop2.7/python/pyspark/conf.py\n",
            "spark-3.0.3-bin-hadoop2.7/python/pyspark/__init__.py\n",
            "spark-3.0.3-bin-hadoop2.7/python/pyspark/mllib/\n",
            "spark-3.0.3-bin-hadoop2.7/python/pyspark/mllib/tests/\n",
            "spark-3.0.3-bin-hadoop2.7/python/pyspark/mllib/tests/test_algorithms.py\n",
            "spark-3.0.3-bin-hadoop2.7/python/pyspark/mllib/tests/test_streaming_algorithms.py\n",
            "spark-3.0.3-bin-hadoop2.7/python/pyspark/mllib/tests/test_util.py\n",
            "spark-3.0.3-bin-hadoop2.7/python/pyspark/mllib/tests/test_feature.py\n",
            "spark-3.0.3-bin-hadoop2.7/python/pyspark/mllib/tests/__init__.py\n",
            "spark-3.0.3-bin-hadoop2.7/python/pyspark/mllib/tests/test_linalg.py\n",
            "spark-3.0.3-bin-hadoop2.7/python/pyspark/mllib/tests/test_stat.py\n",
            "spark-3.0.3-bin-hadoop2.7/python/pyspark/mllib/feature.py\n",
            "spark-3.0.3-bin-hadoop2.7/python/pyspark/mllib/__init__.py\n",
            "spark-3.0.3-bin-hadoop2.7/python/pyspark/mllib/classification.py\n",
            "spark-3.0.3-bin-hadoop2.7/python/pyspark/mllib/recommendation.py\n",
            "spark-3.0.3-bin-hadoop2.7/python/pyspark/mllib/regression.py\n",
            "spark-3.0.3-bin-hadoop2.7/python/pyspark/mllib/tree.py\n",
            "spark-3.0.3-bin-hadoop2.7/python/pyspark/mllib/fpm.py\n",
            "spark-3.0.3-bin-hadoop2.7/python/pyspark/mllib/random.py\n",
            "spark-3.0.3-bin-hadoop2.7/python/pyspark/mllib/stat/\n",
            "spark-3.0.3-bin-hadoop2.7/python/pyspark/mllib/stat/distribution.py\n",
            "spark-3.0.3-bin-hadoop2.7/python/pyspark/mllib/stat/__init__.py\n",
            "spark-3.0.3-bin-hadoop2.7/python/pyspark/mllib/stat/KernelDensity.py\n",
            "spark-3.0.3-bin-hadoop2.7/python/pyspark/mllib/stat/test.py\n",
            "spark-3.0.3-bin-hadoop2.7/python/pyspark/mllib/stat/_statistics.py\n",
            "spark-3.0.3-bin-hadoop2.7/python/pyspark/mllib/clustering.py\n",
            "spark-3.0.3-bin-hadoop2.7/python/pyspark/mllib/common.py\n",
            "spark-3.0.3-bin-hadoop2.7/python/pyspark/mllib/linalg/\n",
            "spark-3.0.3-bin-hadoop2.7/python/pyspark/mllib/linalg/__init__.py\n",
            "spark-3.0.3-bin-hadoop2.7/python/pyspark/mllib/linalg/distributed.py\n",
            "spark-3.0.3-bin-hadoop2.7/python/pyspark/mllib/evaluation.py\n",
            "spark-3.0.3-bin-hadoop2.7/python/pyspark/mllib/util.py\n",
            "spark-3.0.3-bin-hadoop2.7/python/pyspark/resultiterable.py\n",
            "spark-3.0.3-bin-hadoop2.7/python/pyspark/profiler.py\n",
            "spark-3.0.3-bin-hadoop2.7/python/pyspark/statcounter.py\n",
            "spark-3.0.3-bin-hadoop2.7/python/pyspark/join.py\n",
            "spark-3.0.3-bin-hadoop2.7/python/pyspark/daemon.py\n",
            "spark-3.0.3-bin-hadoop2.7/python/pyspark/rdd.py\n",
            "spark-3.0.3-bin-hadoop2.7/python/pyspark/context.py\n",
            "spark-3.0.3-bin-hadoop2.7/python/pyspark/cloudpickle.py\n",
            "spark-3.0.3-bin-hadoop2.7/python/pyspark/version.py\n",
            "spark-3.0.3-bin-hadoop2.7/python/pyspark/resource.py\n",
            "spark-3.0.3-bin-hadoop2.7/python/pyspark/files.py\n",
            "spark-3.0.3-bin-hadoop2.7/python/pyspark/worker.py\n",
            "spark-3.0.3-bin-hadoop2.7/python/pyspark/shell.py\n",
            "spark-3.0.3-bin-hadoop2.7/python/pyspark/streaming/\n",
            "spark-3.0.3-bin-hadoop2.7/python/pyspark/streaming/tests/\n",
            "spark-3.0.3-bin-hadoop2.7/python/pyspark/streaming/tests/test_listener.py\n",
            "spark-3.0.3-bin-hadoop2.7/python/pyspark/streaming/tests/test_kinesis.py\n",
            "spark-3.0.3-bin-hadoop2.7/python/pyspark/streaming/tests/__init__.py\n",
            "spark-3.0.3-bin-hadoop2.7/python/pyspark/streaming/tests/test_dstream.py\n",
            "spark-3.0.3-bin-hadoop2.7/python/pyspark/streaming/tests/test_context.py\n",
            "spark-3.0.3-bin-hadoop2.7/python/pyspark/streaming/dstream.py\n",
            "spark-3.0.3-bin-hadoop2.7/python/pyspark/streaming/__init__.py\n",
            "spark-3.0.3-bin-hadoop2.7/python/pyspark/streaming/kinesis.py\n",
            "spark-3.0.3-bin-hadoop2.7/python/pyspark/streaming/listener.py\n",
            "spark-3.0.3-bin-hadoop2.7/python/pyspark/streaming/context.py\n",
            "spark-3.0.3-bin-hadoop2.7/python/pyspark/streaming/util.py\n",
            "spark-3.0.3-bin-hadoop2.7/python/pyspark/status.py\n",
            "spark-3.0.3-bin-hadoop2.7/python/pyspark/sql/\n",
            "spark-3.0.3-bin-hadoop2.7/python/pyspark/sql/tests/\n",
            "spark-3.0.3-bin-hadoop2.7/python/pyspark/sql/tests/test_functions.py\n",
            "spark-3.0.3-bin-hadoop2.7/python/pyspark/sql/tests/test_readwriter.py\n",
            "spark-3.0.3-bin-hadoop2.7/python/pyspark/sql/tests/test_utils.py\n",
            "spark-3.0.3-bin-hadoop2.7/python/pyspark/sql/tests/test_pandas_grouped_map.py\n",
            "spark-3.0.3-bin-hadoop2.7/python/pyspark/sql/tests/test_dataframe.py\n",
            "spark-3.0.3-bin-hadoop2.7/python/pyspark/sql/tests/test_pandas_map.py\n",
            "spark-3.0.3-bin-hadoop2.7/python/pyspark/sql/tests/test_udf.py\n",
            "spark-3.0.3-bin-hadoop2.7/python/pyspark/sql/tests/test_streaming.py\n",
            "spark-3.0.3-bin-hadoop2.7/python/pyspark/sql/tests/__init__.py\n",
            "spark-3.0.3-bin-hadoop2.7/python/pyspark/sql/tests/test_serde.py\n",
            "spark-3.0.3-bin-hadoop2.7/python/pyspark/sql/tests/test_pandas_udf_window.py\n",
            "spark-3.0.3-bin-hadoop2.7/python/pyspark/sql/tests/test_group.py\n",
            "spark-3.0.3-bin-hadoop2.7/python/pyspark/sql/tests/test_pandas_udf.py\n",
            "spark-3.0.3-bin-hadoop2.7/python/pyspark/sql/tests/test_pandas_cogrouped_map.py\n",
            "spark-3.0.3-bin-hadoop2.7/python/pyspark/sql/tests/test_pandas_udf_grouped_agg.py\n",
            "spark-3.0.3-bin-hadoop2.7/python/pyspark/sql/tests/test_pandas_udf_scalar.py\n",
            "spark-3.0.3-bin-hadoop2.7/python/pyspark/sql/tests/test_catalog.py\n",
            "spark-3.0.3-bin-hadoop2.7/python/pyspark/sql/tests/test_datasources.py\n",
            "spark-3.0.3-bin-hadoop2.7/python/pyspark/sql/tests/test_pandas_udf_typehints.py\n",
            "spark-3.0.3-bin-hadoop2.7/python/pyspark/sql/tests/test_types.py\n",
            "spark-3.0.3-bin-hadoop2.7/python/pyspark/sql/tests/test_column.py\n",
            "spark-3.0.3-bin-hadoop2.7/python/pyspark/sql/tests/test_context.py\n",
            "spark-3.0.3-bin-hadoop2.7/python/pyspark/sql/tests/test_conf.py\n",
            "spark-3.0.3-bin-hadoop2.7/python/pyspark/sql/tests/test_arrow.py\n",
            "spark-3.0.3-bin-hadoop2.7/python/pyspark/sql/tests/test_session.py\n",
            "spark-3.0.3-bin-hadoop2.7/python/pyspark/sql/pandas/\n",
            "spark-3.0.3-bin-hadoop2.7/python/pyspark/sql/pandas/functions.py\n",
            "spark-3.0.3-bin-hadoop2.7/python/pyspark/sql/pandas/serializers.py\n",
            "spark-3.0.3-bin-hadoop2.7/python/pyspark/sql/pandas/__init__.py\n",
            "spark-3.0.3-bin-hadoop2.7/python/pyspark/sql/pandas/typehints.py\n",
            "spark-3.0.3-bin-hadoop2.7/python/pyspark/sql/pandas/map_ops.py\n",
            "spark-3.0.3-bin-hadoop2.7/python/pyspark/sql/pandas/types.py\n",
            "spark-3.0.3-bin-hadoop2.7/python/pyspark/sql/pandas/group_ops.py\n",
            "spark-3.0.3-bin-hadoop2.7/python/pyspark/sql/pandas/utils.py\n",
            "spark-3.0.3-bin-hadoop2.7/python/pyspark/sql/pandas/conversion.py\n",
            "spark-3.0.3-bin-hadoop2.7/python/pyspark/sql/functions.py\n",
            "spark-3.0.3-bin-hadoop2.7/python/pyspark/sql/readwriter.py\n",
            "spark-3.0.3-bin-hadoop2.7/python/pyspark/sql/catalog.py\n",
            "spark-3.0.3-bin-hadoop2.7/python/pyspark/sql/window.py\n",
            "spark-3.0.3-bin-hadoop2.7/python/pyspark/sql/udf.py\n",
            "spark-3.0.3-bin-hadoop2.7/python/pyspark/sql/conf.py\n",
            "spark-3.0.3-bin-hadoop2.7/python/pyspark/sql/__init__.py\n",
            "spark-3.0.3-bin-hadoop2.7/python/pyspark/sql/session.py\n",
            "spark-3.0.3-bin-hadoop2.7/python/pyspark/sql/column.py\n",
            "spark-3.0.3-bin-hadoop2.7/python/pyspark/sql/group.py\n",
            "spark-3.0.3-bin-hadoop2.7/python/pyspark/sql/context.py\n",
            "spark-3.0.3-bin-hadoop2.7/python/pyspark/sql/types.py\n",
            "spark-3.0.3-bin-hadoop2.7/python/pyspark/sql/dataframe.py\n",
            "spark-3.0.3-bin-hadoop2.7/python/pyspark/sql/avro/\n",
            "spark-3.0.3-bin-hadoop2.7/python/pyspark/sql/avro/functions.py\n",
            "spark-3.0.3-bin-hadoop2.7/python/pyspark/sql/avro/__init__.py\n",
            "spark-3.0.3-bin-hadoop2.7/python/pyspark/sql/utils.py\n",
            "spark-3.0.3-bin-hadoop2.7/python/pyspark/sql/streaming.py\n",
            "spark-3.0.3-bin-hadoop2.7/python/pyspark/shuffle.py\n",
            "spark-3.0.3-bin-hadoop2.7/python/pyspark/taskcontext.py\n",
            "spark-3.0.3-bin-hadoop2.7/python/pyspark/_globals.py\n",
            "spark-3.0.3-bin-hadoop2.7/python/pyspark/broadcast.py\n",
            "spark-3.0.3-bin-hadoop2.7/python/pyspark/util.py\n",
            "spark-3.0.3-bin-hadoop2.7/python/pyspark/storagelevel.py\n",
            "spark-3.0.3-bin-hadoop2.7/python/.coveragerc\n",
            "spark-3.0.3-bin-hadoop2.7/python/docs/\n",
            "spark-3.0.3-bin-hadoop2.7/python/docs/index.rst\n",
            "spark-3.0.3-bin-hadoop2.7/python/docs/conf.py\n",
            "spark-3.0.3-bin-hadoop2.7/python/docs/pyspark.ml.rst\n",
            "spark-3.0.3-bin-hadoop2.7/python/docs/pyspark.rst\n",
            "spark-3.0.3-bin-hadoop2.7/python/docs/_templates/\n",
            "spark-3.0.3-bin-hadoop2.7/python/docs/_templates/layout.html\n",
            "spark-3.0.3-bin-hadoop2.7/python/docs/_static/\n",
            "spark-3.0.3-bin-hadoop2.7/python/docs/_static/pyspark.css\n",
            "spark-3.0.3-bin-hadoop2.7/python/docs/_static/copybutton.js\n",
            "spark-3.0.3-bin-hadoop2.7/python/docs/_static/pyspark.js\n",
            "spark-3.0.3-bin-hadoop2.7/python/docs/pyspark.mllib.rst\n",
            "spark-3.0.3-bin-hadoop2.7/python/docs/make2.bat\n",
            "spark-3.0.3-bin-hadoop2.7/python/docs/pyspark.streaming.rst\n",
            "spark-3.0.3-bin-hadoop2.7/python/docs/pyspark.sql.rst\n",
            "spark-3.0.3-bin-hadoop2.7/python/docs/make.bat\n",
            "spark-3.0.3-bin-hadoop2.7/python/docs/Makefile\n",
            "spark-3.0.3-bin-hadoop2.7/python/docs/pyspark.resource.rst\n",
            "spark-3.0.3-bin-hadoop2.7/python/lib/\n",
            "spark-3.0.3-bin-hadoop2.7/python/lib/PY4J_LICENSE.txt\n",
            "spark-3.0.3-bin-hadoop2.7/python/lib/py4j-0.10.9-src.zip\n",
            "spark-3.0.3-bin-hadoop2.7/python/lib/pyspark.zip\n",
            "spark-3.0.3-bin-hadoop2.7/python/run-tests\n",
            "spark-3.0.3-bin-hadoop2.7/python/setup.cfg\n",
            "spark-3.0.3-bin-hadoop2.7/licenses/\n",
            "spark-3.0.3-bin-hadoop2.7/licenses/LICENSE-respond.txt\n",
            "spark-3.0.3-bin-hadoop2.7/licenses/LICENSE-sbt-launch-lib.txt\n",
            "spark-3.0.3-bin-hadoop2.7/licenses/LICENSE-antlr.txt\n",
            "spark-3.0.3-bin-hadoop2.7/licenses/LICENSE-dagre-d3.txt\n",
            "spark-3.0.3-bin-hadoop2.7/licenses/LICENSE-pyrolite.txt\n",
            "spark-3.0.3-bin-hadoop2.7/licenses/LICENSE-sorttable.js.txt\n",
            "spark-3.0.3-bin-hadoop2.7/licenses/LICENSE-janino.txt\n",
            "spark-3.0.3-bin-hadoop2.7/licenses/LICENSE-protobuf.txt\n",
            "spark-3.0.3-bin-hadoop2.7/licenses/LICENSE-jquery.txt\n",
            "spark-3.0.3-bin-hadoop2.7/licenses/LICENSE-scopt.txt\n",
            "spark-3.0.3-bin-hadoop2.7/licenses/LICENSE-netlib.txt\n",
            "spark-3.0.3-bin-hadoop2.7/licenses/LICENSE-d3.min.js.txt\n",
            "spark-3.0.3-bin-hadoop2.7/licenses/LICENSE-graphlib-dot.txt\n",
            "spark-3.0.3-bin-hadoop2.7/licenses/LICENSE-AnchorJS.txt\n",
            "spark-3.0.3-bin-hadoop2.7/licenses/LICENSE-datatables.txt\n",
            "spark-3.0.3-bin-hadoop2.7/licenses/LICENSE-pmml-model.txt\n",
            "spark-3.0.3-bin-hadoop2.7/licenses/LICENSE-paranamer.txt\n",
            "spark-3.0.3-bin-hadoop2.7/licenses/LICENSE-jakarta-ws-rs-api\n",
            "spark-3.0.3-bin-hadoop2.7/licenses/LICENSE-dnsjava.txt\n",
            "spark-3.0.3-bin-hadoop2.7/licenses/LICENSE-jakarta.xml.bind-api.txt\n",
            "spark-3.0.3-bin-hadoop2.7/licenses/LICENSE-jakarta-annotation-api\n",
            "spark-3.0.3-bin-hadoop2.7/licenses/LICENSE-CC0.txt\n",
            "spark-3.0.3-bin-hadoop2.7/licenses/LICENSE-jodd.txt\n",
            "spark-3.0.3-bin-hadoop2.7/licenses/LICENSE-f2j.txt\n",
            "spark-3.0.3-bin-hadoop2.7/licenses/LICENSE-heapq.txt\n",
            "spark-3.0.3-bin-hadoop2.7/licenses/LICENSE-machinist.txt\n",
            "spark-3.0.3-bin-hadoop2.7/licenses/LICENSE-javolution.txt\n",
            "spark-3.0.3-bin-hadoop2.7/licenses/LICENSE-modernizr.txt\n",
            "spark-3.0.3-bin-hadoop2.7/licenses/LICENSE-spire.txt\n",
            "spark-3.0.3-bin-hadoop2.7/licenses/LICENSE-leveldbjni.txt\n",
            "spark-3.0.3-bin-hadoop2.7/licenses/LICENSE-join.txt\n",
            "spark-3.0.3-bin-hadoop2.7/licenses/LICENSE-zstd-jni.txt\n",
            "spark-3.0.3-bin-hadoop2.7/licenses/LICENSE-slf4j.txt\n",
            "spark-3.0.3-bin-hadoop2.7/licenses/LICENSE-arpack.txt\n",
            "spark-3.0.3-bin-hadoop2.7/licenses/LICENSE-jsp-api.txt\n",
            "spark-3.0.3-bin-hadoop2.7/licenses/LICENSE-JTransforms.txt\n",
            "spark-3.0.3-bin-hadoop2.7/licenses/LICENSE-JLargeArrays.txt\n",
            "spark-3.0.3-bin-hadoop2.7/licenses/LICENSE-bootstrap.txt\n",
            "spark-3.0.3-bin-hadoop2.7/licenses/LICENSE-reflectasm.txt\n",
            "spark-3.0.3-bin-hadoop2.7/licenses/LICENSE-javassist.html\n",
            "spark-3.0.3-bin-hadoop2.7/licenses/LICENSE-zstd.txt\n",
            "spark-3.0.3-bin-hadoop2.7/licenses/LICENSE-json-formatter.txt\n",
            "spark-3.0.3-bin-hadoop2.7/licenses/LICENSE-matchMedia-polyfill.txt\n",
            "spark-3.0.3-bin-hadoop2.7/licenses/LICENSE-scala.txt\n",
            "spark-3.0.3-bin-hadoop2.7/licenses/LICENSE-jakarta.activation-api.txt\n",
            "spark-3.0.3-bin-hadoop2.7/licenses/LICENSE-automaton.txt\n",
            "spark-3.0.3-bin-hadoop2.7/licenses/LICENSE-javax-transaction-transaction-api.txt\n",
            "spark-3.0.3-bin-hadoop2.7/licenses/LICENSE-jaxb-runtime.txt\n",
            "spark-3.0.3-bin-hadoop2.7/licenses/LICENSE-minlog.txt\n",
            "spark-3.0.3-bin-hadoop2.7/licenses/LICENSE-mustache.txt\n",
            "spark-3.0.3-bin-hadoop2.7/licenses/LICENSE-xmlenc.txt\n",
            "spark-3.0.3-bin-hadoop2.7/licenses/LICENSE-jline.txt\n",
            "spark-3.0.3-bin-hadoop2.7/licenses/LICENSE-istack-commons-runtime.txt\n",
            "spark-3.0.3-bin-hadoop2.7/licenses/LICENSE-py4j.txt\n",
            "spark-3.0.3-bin-hadoop2.7/licenses/LICENSE-vis-timeline.txt\n",
            "spark-3.0.3-bin-hadoop2.7/licenses/LICENSE-re2j.txt\n",
            "spark-3.0.3-bin-hadoop2.7/licenses/LICENSE-kryo.txt\n",
            "spark-3.0.3-bin-hadoop2.7/licenses/LICENSE-cloudpickle.txt\n",
            "環境初始化完畢\n"
          ]
        }
      ],
      "source": [
        "# 環境初始化 (大約三至五分鐘)\n",
        "! wget -O init_env.sh https://www.dropbox.com/s/4jvf5hg8paip699/init_env%20spark%203.1.1.sh?dl=0 && \\\n",
        "bash init_env.sh"
      ]
    },
    {
      "cell_type": "markdown",
      "metadata": {
        "id": "2oBsLO2DHb2g"
      },
      "source": []
    },
    {
      "cell_type": "code",
      "execution_count": 2,
      "metadata": {
        "colab": {
          "base_uri": "https://localhost:8080/"
        },
        "id": "WDrjL-AdO0ba",
        "outputId": "395065e4-c66e-40d2-c059-623f19f7a892"
      },
      "outputs": [
        {
          "output_type": "stream",
          "name": "stdout",
          "text": [
            "/usr/local/bin/python\n"
          ]
        }
      ],
      "source": [
        "!which python"
      ]
    },
    {
      "cell_type": "code",
      "execution_count": 3,
      "metadata": {
        "colab": {
          "base_uri": "https://localhost:8080/"
        },
        "id": "5e-bX8_hN1yT",
        "outputId": "325f9537-b983-4964-fb1f-a4c603dec81c"
      },
      "outputs": [
        {
          "output_type": "stream",
          "name": "stdout",
          "text": [
            "Python 3.8.16\n"
          ]
        }
      ],
      "source": [
        "!/usr/local/bin/python -V"
      ]
    },
    {
      "cell_type": "code",
      "execution_count": 4,
      "metadata": {
        "id": "f1m9p6bAuwgY"
      },
      "outputs": [],
      "source": [
        "import os, sys\n",
        "os.environ['SPARK_HOME'] = \"/usr/local/spark\"\n",
        "# os.environ['PYSPARK_PYTHON'] = \"/usr/bin/python\"\n",
        "os.environ['PYSPARK_PYTHON'] = \"/usr/local/bin/python\"\n",
        "sys.path.append(\"/usr/local/spark/python/\")\n",
        "sys.path.append(\"/usr/local/spark/python/lib/pyspark.zip\")\n",
        "sys.path.append(\"/usr/local/spark/python/lib/py4j-0.10.9-src.zip\")"
      ]
    },
    {
      "cell_type": "code",
      "execution_count": 5,
      "metadata": {
        "id": "Siw9OMRLu0uA"
      },
      "outputs": [],
      "source": [
        "from pyspark import SparkContext\n",
        "from pyspark import SparkConf\n",
        "sc = SparkContext()"
      ]
    },
    {
      "cell_type": "markdown",
      "metadata": {
        "id": "RtUgrtwrt1Qa"
      },
      "source": [
        "# Apache Spark 基本練習：\n",
        "\n",
        "是一個開源叢集運算框架，最初是由加州大學柏克萊分校AMPLab所開發。相對於Hadoop的MapReduce會在執行完工作後將中介資料存放到磁碟中，Spark使用了記憶體內運算技術，能在資料尚未寫入硬碟時即在記憶體內分析運算。Spark在記憶體內執行程式的運算速度能做到比Hadoop MapReduce的運算速度快上100倍。\n",
        "\n",
        "Some References :\n",
        "\n",
        "1. [http://www.mccarroll.net/blog/pyspark/index.html]\n",
        "2. [https://www.codementor.io/spark/tutorial/spark-python-rdd-basics]\n",
        "3. [http://backtobazics.com/big-data/spark/apache-spark-map-example/]\n",
        "4. [http://datascience-enthusiast.com/Python/Apache_Spark1.html]\n",
        "\n",
        "## RDD 基本操作練習：\n",
        "\n",
        "\n",
        "\n",
        "### 產生一個整數隨機陣列： python語法："
      ]
    },
    {
      "cell_type": "code",
      "execution_count": 6,
      "metadata": {
        "colab": {
          "base_uri": "https://localhost:8080/"
        },
        "id": "I--b66Kzt1Qc",
        "outputId": "b169951b-f300-4b4f-cf14-cc63da135c5e"
      },
      "outputs": [
        {
          "output_type": "stream",
          "name": "stdout",
          "text": [
            "[795 685 793 455 741 423 652 659 683 847 618 746 732 619 432 312 861 793\n",
            "  61 837 811 932 715 204 591 186 434 778 386 311 940 320  10 255  26  35\n",
            " 273 626  63 537 338 166 675 369 827 466  81 562  38  45 874 342 255 803\n",
            " 412 767 577 570 792 380 579 454 369 608 109 432 244 488 271 397 340  94\n",
            " 150 634  89 268 680   4 544 642 443 535 755   4 444 789 913 270 994 883\n",
            " 352 679 204 378  43 451 982 857 315 966 295 788 858 126 198 472 102 189\n",
            " 934 795 731 445 869 209 653 659 465 551 956 453 478 360 347 322 308 799\n",
            " 571 883 717 576 105 468 702 740 944 181 147 307 772 981 589 473 344 921\n",
            " 611 864  66  77  29 709 558 722 714 219 831 131 789 383  32 787 469 616\n",
            " 467 977 522  97 778 723 644 102 955 499 339 457 738  94  49 306 343 378\n",
            " 183 186 569 135  31 349 626 365 211 850 112 223  62 457 774 642 722 138\n",
            " 580 810 174 349 923 246 311 324 768  47 812 991 574 829 710  80 847 933\n",
            " 135 390 831 509 308 564 972 705 322 443 501 394 657 725 306 455 197  69\n",
            "  58 902 495 134 108 245 579 353 164 323 926 587 175 855 857 736 769 355\n",
            " 946  47 711 899 687 819 705 962 203 894 726  60 490 964 732   3 614 722\n",
            " 314 336 373 240 127 944 731 259 770 282 217 235 397 156 696 688 620 692\n",
            " 650 384 701 207 831 998 326 878 318 788 568 211 488 165 789 664 897  25\n",
            "  10 943 427 296 719 484 612  57 906 105 663  28   6 868 569 231  72 250\n",
            " 541 694 814 509 627 954 431 679  11 279 489 299 643 507 981 527 938 111\n",
            " 525 583  71 256 932 105 622  88 621 648 179 121 956 371 638 443 389 946\n",
            " 395 816 932 860 787 321  11 796 399 610 693 179 453 380 902 862 777 910\n",
            " 540 629  83 347  87  49 136 683 873  96 586  29 700 159 995 611 898 706\n",
            " 666 391 630 965 480 759 500 875 323  23  36 876  59 397 710 482  19 851\n",
            " 364 118 787 567 825   3 729 286 288 358 681 166 725 924 892 451 309 585\n",
            " 891 871  17 706 784 876 812 837 900  72 994  44 518 488 633 825 686 664\n",
            " 740 471 679 616 337 237 346 312 512 245 691 129 671 845 869 737 927 842\n",
            " 218 432 978 855 374 101 931 890 696 369 299 567 747 586 186 504 317 912\n",
            " 420 276 443 338 815  98 828 788 398 862 841 177 485 102 645 230 500 911\n",
            " 111  50 500 426 466 488 141 195  66 675 571 789  50 961 658 753 657 141\n",
            " 356 656 777 514 594 250 984 394 278 937 171 694 484  98 494 780 903 467\n",
            " 458 604 735 950 322 426 238 659 924  16 917 736 189 859 741 753 269 932\n",
            " 885 700  78 220 302 717 148 988 502  57 553 823 303 408  34 287 998 696\n",
            " 272 705 327 796 994 400 910  68 828 244 863 754 780 717 994 242 995 620\n",
            " 564 164 627 400 238   7 202 868 294 501 616 309 513 288 949 732 992 433\n",
            " 188  37 783  97 907 771 325 419 656 328 497  77 773 266 121 912 781 467\n",
            " 909 259 550 905 283  13 919 695  13 554 726 756 453 732 684 254 912 648\n",
            " 668 944 407 163 142 617 822 392  39 878 620 523 402 122 796 458 845 331\n",
            " 887 703 278 172  54 135 659 747 721 789 383 497  96 921 996 627 451 937\n",
            "  94 213 350 252 436 228 140 679 508 343 875 514 750 804 591 930 121 230\n",
            " 528 495 272 680 891 312 867 454 930 929   3  76 559 144 397 721 389 728\n",
            " 682 533 673 789 242 425 522 928 784 807 319 979 624  26 756 756 301 800\n",
            " 658 608 399  75 880 177 510 359 936 300 136 992 646 761 693 781 946 543\n",
            " 259 489 258 322 912 436 847 133 812 490 752 888 632 923 853 422 698 714\n",
            " 712 669 187 236   5 158 173 410 962 327 870 744   6 569 897 369 505 559\n",
            " 648 560 666 425 967 462 451 768 915  95 449  34 635 157 365  10 575 738\n",
            " 282 579 923 260 832 717 574 292  59 548 882 412 840 889 159 494 168 207\n",
            " 875 138 790 109 496 928 529 457 356 469  84 814 327 767 451 526 920 638\n",
            "  39  39 778 819 366  91 623 633 817   3 531 149 666 560  57 126 733   9\n",
            "  41 536 683 686 399 892 524 109 782 374 272 472 272 767 190  38 593 616\n",
            " 897 169 223 508 120   8 745 737 568 591 183 428 674 317 103  98 780 168\n",
            " 216 920 285 316 569 575 298 902 542 872 713 615 983 128 124 479 189 225\n",
            " 766 191 696 879  46 720 493 972 693 930 648 202 182 114 934 716 343 931\n",
            "  62 267 423 470   7 809 490 553  20 803 679 159  34 751   4 114 869 627\n",
            " 178 712 219 719 312 324 799 209 317 449 186 769 436 281 444 851 166 226\n",
            " 641  47 718  34 579 336 123 521 840  11   8 631   8 840 450 867 133 831\n",
            " 726   7 414 955 266 654 635 315 803 335]\n"
          ]
        }
      ],
      "source": [
        "import numpy as np\n",
        "random_array = np.random.randint(1000, size=1000)\n",
        "print (random_array)"
      ]
    },
    {
      "cell_type": "markdown",
      "metadata": {
        "id": "l6qyKmz4t1Qg"
      },
      "source": [
        "# 將資料轉成RDD，分別擺放於各spark executors上\n",
        "\n",
        "<img src=\"https://www.dropbox.com/s/br94ete5q3rj9w3/spark%20data%20model.png?dl=1\" width=\"500\" align=\"left\">\n",
        "\n",
        "\n",
        "\n",
        "\n",
        "___\n",
        "<img src=\"https://www.dropbox.com/s/l2gohpmn53jkv1b/%20spark%20system%20overview.png?dl=1\" width=\"500\" align=\"left\">"
      ]
    },
    {
      "cell_type": "code",
      "execution_count": 7,
      "metadata": {
        "id": "MeFSq7rbt1Qg"
      },
      "outputs": [],
      "source": [
        "rdd = sc.parallelize(random_array) # 將資料平均切割"
      ]
    },
    {
      "cell_type": "code",
      "execution_count": 8,
      "metadata": {
        "colab": {
          "base_uri": "https://localhost:8080/"
        },
        "id": "GiQqw6x0t1Qi",
        "outputId": "e4c49579-d94e-4e03-9ed1-d6b3302a7444"
      },
      "outputs": [
        {
          "output_type": "stream",
          "name": "stdout",
          "text": [
            "<class 'numpy.ndarray'>\n",
            "<class 'pyspark.rdd.RDD'>\n"
          ]
        }
      ],
      "source": [
        "print(type(random_array))\n",
        "print(type(rdd))"
      ]
    },
    {
      "cell_type": "markdown",
      "metadata": {
        "id": "IMGznHMkt1Qk"
      },
      "source": [
        "### RDD為Apache Spark最核心之概念，有別於MapRduce，僅提供Map()與Reduce()兩項操作。 RDD提供兩大類別Transformation與Action\n",
        "\n"
      ]
    },
    {
      "cell_type": "markdown",
      "metadata": {
        "id": "mJUQZL9lt1Qm"
      },
      "source": [
        "> <img src=\"https://www.dropbox.com/s/omfoi3uzcgapcm4/rdd%20transformation%20concept.png?dl=1\" width=\"500\" align=\"left\">  "
      ]
    },
    {
      "cell_type": "markdown",
      "metadata": {
        "id": "kC-QgXwjt1Qm"
      },
      "source": [
        "> <img src=\"https://www.dropbox.com/s/3u8gt5376qq5vjy/spark%20core.png?dl=1\" width=\"500\" align=\"left\">"
      ]
    },
    {
      "cell_type": "markdown",
      "metadata": {
        "id": "TQtTc14Wt1Qm"
      },
      "source": [
        "## 最基本之Action操作  \n",
        "### 使用 collect( ) 將分散於各機器之資料，收集成為單機資料集\n",
        "<img src=\"https://www.dropbox.com/s/pjv20pl5wkevjf6/collect.png?dl=1\" width=\"500\" align=\"left\">\n"
      ]
    },
    {
      "cell_type": "code",
      "execution_count": null,
      "metadata": {
        "id": "11KfV3fPL6EG"
      },
      "outputs": [],
      "source": [
        "rdd.collect() "
      ]
    },
    {
      "cell_type": "code",
      "execution_count": 11,
      "metadata": {
        "id": "RnSzxgq9Nn0w",
        "outputId": "bf4af2bc-6cc0-470a-f4ee-bde5a4260cc6",
        "colab": {
          "base_uri": "https://localhost:8080/"
        }
      },
      "outputs": [
        {
          "output_type": "execute_result",
          "data": {
            "text/plain": [
              "[795, 685, 793]"
            ]
          },
          "metadata": {},
          "execution_count": 11
        }
      ],
      "source": [
        "rdd.take(3) # 可以取出前三筆資料"
      ]
    },
    {
      "cell_type": "code",
      "execution_count": 10,
      "metadata": {
        "colab": {
          "base_uri": "https://localhost:8080/"
        },
        "id": "mN3hI6UAt1Qn",
        "outputId": "622e49e2-737f-44d7-a2c2-052392c0144a"
      },
      "outputs": [
        {
          "output_type": "execute_result",
          "data": {
            "text/plain": [
              "795"
            ]
          },
          "metadata": {},
          "execution_count": 10
        }
      ],
      "source": [
        "rdd.first()"
      ]
    },
    {
      "cell_type": "markdown",
      "metadata": {
        "id": "fa8Z0Zwht1Qp"
      },
      "source": [
        "## Transformation 觀念介紹"
      ]
    },
    {
      "cell_type": "code",
      "execution_count": 12,
      "metadata": {
        "colab": {
          "base_uri": "https://localhost:8080/"
        },
        "id": "XFThLRfCt1Qq",
        "outputId": "0a255104-2977-47a0-b4aa-3ecc672e2a00"
      },
      "outputs": [
        {
          "output_type": "stream",
          "name": "stdout",
          "text": [
            "20\n"
          ]
        }
      ],
      "source": [
        "def doubling(x):\n",
        "    return x*2\n",
        "\n",
        "print(doubling(10))"
      ]
    },
    {
      "cell_type": "code",
      "execution_count": 13,
      "metadata": {
        "colab": {
          "base_uri": "https://localhost:8080/"
        },
        "id": "cVLdPhDNt1Qs",
        "outputId": "26c723c0-cfd0-46aa-a9df-a4f1f593d204"
      },
      "outputs": [
        {
          "output_type": "execute_result",
          "data": {
            "text/plain": [
              "[795, 685, 793, 455, 741]"
            ]
          },
          "metadata": {},
          "execution_count": 13
        }
      ],
      "source": [
        "rdd.take(5)"
      ]
    },
    {
      "cell_type": "markdown",
      "source": [
        "map()裡面是一個字定義的function\\\n",
        "rdd.map(doubling)將rdd裡面的值都丟到這個function\\\n",
        "but可讀性不高，解決:匿名函式\n",
        "\n",
        "note: reduce不保證資料處理的順序是inorder"
      ],
      "metadata": {
        "id": "cWzb8rcMZYHz"
      }
    },
    {
      "cell_type": "code",
      "execution_count": 14,
      "metadata": {
        "colab": {
          "base_uri": "https://localhost:8080/"
        },
        "id": "FqAxyXPqt1Qu",
        "outputId": "c1bd4238-8b1e-430f-ef4a-545dd644765a"
      },
      "outputs": [
        {
          "output_type": "execute_result",
          "data": {
            "text/plain": [
              "[1590, 1370, 1586, 910, 1482]"
            ]
          },
          "metadata": {},
          "execution_count": 14
        }
      ],
      "source": [
        "rdd.map(doubling).take(5) "
      ]
    },
    {
      "cell_type": "code",
      "execution_count": 15,
      "metadata": {
        "id": "0FQiZbX3wFvf"
      },
      "outputs": [],
      "source": [
        "def minusone(y):\n",
        "  return y-1"
      ]
    },
    {
      "cell_type": "code",
      "execution_count": 16,
      "metadata": {
        "colab": {
          "base_uri": "https://localhost:8080/"
        },
        "id": "tGwRUarGwVio",
        "outputId": "a724873b-6121-43bc-c437-33ee90380d29"
      },
      "outputs": [
        {
          "output_type": "execute_result",
          "data": {
            "text/plain": [
              "[794, 684, 792, 454, 740]"
            ]
          },
          "metadata": {},
          "execution_count": 16
        }
      ],
      "source": [
        "rdd.map(minusone).take(5)"
      ]
    },
    {
      "cell_type": "markdown",
      "metadata": {
        "id": "PCP1XQ-mt1Qx"
      },
      "source": [
        "#### 注意：匿名函式的使用  \n",
        "    rdd.map(doubling) = rdd.map(lambda x: x*2)\n",
        "                     會把x變成x*2\n",
        "    (x只是變數名稱)"
      ]
    },
    {
      "cell_type": "code",
      "execution_count": 17,
      "metadata": {
        "colab": {
          "base_uri": "https://localhost:8080/"
        },
        "id": "F00w0ISRhPck",
        "outputId": "624acdb1-78bc-4955-c1ff-783eb535be85"
      },
      "outputs": [
        {
          "output_type": "execute_result",
          "data": {
            "text/plain": [
              "[794, 684, 792, 454, 740]"
            ]
          },
          "metadata": {},
          "execution_count": 17
        }
      ],
      "source": [
        "rdd.map(lambda x: x-1).take(5)"
      ]
    },
    {
      "cell_type": "code",
      "execution_count": 18,
      "metadata": {
        "colab": {
          "base_uri": "https://localhost:8080/"
        },
        "id": "paFPu3J9yUng",
        "outputId": "9bffa3a5-1003-4711-f7a3-595b14b374a9"
      },
      "outputs": [
        {
          "output_type": "execute_result",
          "data": {
            "text/plain": [
              "[0, 0]"
            ]
          },
          "metadata": {},
          "execution_count": 18
        }
      ],
      "source": [
        "rdd.map(lambda yy:0).take(2)"
      ]
    },
    {
      "cell_type": "code",
      "execution_count": 20,
      "metadata": {
        "colab": {
          "base_uri": "https://localhost:8080/"
        },
        "id": "4Anc1mSLzEmp",
        "outputId": "f3777a7e-5d18-4db2-a301-d4eabe8c851f"
      },
      "outputs": [
        {
          "output_type": "execute_result",
          "data": {
            "text/plain": [
              "[789, 679]"
            ]
          },
          "metadata": {},
          "execution_count": 20
        }
      ],
      "source": [
        "rdd.map(lambda x: x-1).map(lambda x:x-2).map(lambda x:x-3).take(2) # 可以連續map"
      ]
    },
    {
      "cell_type": "markdown",
      "metadata": {
        "id": "3rfUg7nrt1Q0"
      },
      "source": [
        "#### 練習：使用map()，將所有數字開平方根 \n",
        "    import math\n",
        "    print math.sqrt(5)"
      ]
    },
    {
      "cell_type": "code",
      "execution_count": 21,
      "metadata": {
        "colab": {
          "base_uri": "https://localhost:8080/"
        },
        "id": "injnEU2Lt1Q1",
        "outputId": "ce008653-ea09-45c0-d329-f0031b1f9fed"
      },
      "outputs": [
        {
          "output_type": "execute_result",
          "data": {
            "text/plain": [
              "[28.19574435974337, 26.1725046566048]"
            ]
          },
          "metadata": {},
          "execution_count": 21
        }
      ],
      "source": [
        "import math\n",
        "rdd.map(lambda x: math.sqrt(x)).take(2)"
      ]
    },
    {
      "cell_type": "markdown",
      "metadata": {
        "id": "n7PtJhL1t1Q4"
      },
      "source": [
        "#### 匿名函式的差異"
      ]
    },
    {
      "cell_type": "code",
      "execution_count": null,
      "metadata": {
        "id": "LTFiSaMdt1Q5"
      },
      "outputs": [],
      "source": [
        "import math\n",
        "def sqrt(x):\n",
        "    return math.sqrt(x)"
      ]
    },
    {
      "cell_type": "code",
      "execution_count": 22,
      "metadata": {
        "colab": {
          "base_uri": "https://localhost:8080/"
        },
        "id": "2Cz3ZPi1iL06",
        "outputId": "4a851068-a508-41d9-c777-84bb6a707e4c"
      },
      "outputs": [
        {
          "output_type": "execute_result",
          "data": {
            "text/plain": [
              "[28.19574435974337, 26.1725046566048]"
            ]
          },
          "metadata": {},
          "execution_count": 22
        }
      ],
      "source": [
        "rdd.map(lambda y: math.sqrt(y)).take(2)"
      ]
    },
    {
      "cell_type": "code",
      "source": [
        "rdd.map(lambda x: x*x).reduce(lambda a,b: a+b) # 平方和"
      ],
      "metadata": {
        "id": "B3HpV6JucVpM",
        "outputId": "77fba6b7-10d8-4c1e-a535-02c5b0af505b",
        "colab": {
          "base_uri": "https://localhost:8080/"
        }
      },
      "execution_count": 25,
      "outputs": [
        {
          "output_type": "execute_result",
          "data": {
            "text/plain": [
              "341213957"
            ]
          },
          "metadata": {},
          "execution_count": 25
        }
      ]
    },
    {
      "cell_type": "code",
      "source": [
        "rdd.reduce(lambda a,b: max(a,b)) # 取max"
      ],
      "metadata": {
        "id": "CgbkO3ffe8U1",
        "outputId": "56076be8-e168-45c8-ec55-c672e2fef1e0",
        "colab": {
          "base_uri": "https://localhost:8080/"
        }
      },
      "execution_count": 27,
      "outputs": [
        {
          "output_type": "execute_result",
          "data": {
            "text/plain": [
              "998"
            ]
          },
          "metadata": {},
          "execution_count": 27
        }
      ]
    },
    {
      "cell_type": "code",
      "source": [
        "rdd.map(lambda x: 1 if x%2==0 else 0).reduce(lambda a,b: a+b)\n",
        "\n",
        "rdd.filter(lambda x: x%2==0).map(lambda x: 1).reduce(lambda x,y: x+y) # 兩個一樣的意思，取奇數和"
      ],
      "metadata": {
        "id": "Xz2SI3WLgwEG",
        "outputId": "b8f90015-6f32-45b2-8cd4-85bb2a58edfc",
        "colab": {
          "base_uri": "https://localhost:8080/"
        }
      },
      "execution_count": 35,
      "outputs": [
        {
          "output_type": "execute_result",
          "data": {
            "text/plain": [
              "503"
            ]
          },
          "metadata": {},
          "execution_count": 35
        }
      ]
    },
    {
      "cell_type": "code",
      "source": [
        "# reduceByKey才是像hadoop那樣的，想童的key做reduce\n",
        "rdd.map(lambda x: (x,1)).reduceByKey(lambda a,b: a+b).take(10) # 每個key出現次數"
      ],
      "metadata": {
        "id": "Vhlz42ARkvaY",
        "outputId": "3a49fedc-f62e-42fc-dbab-93195357ee0b",
        "colab": {
          "base_uri": "https://localhost:8080/"
        }
      },
      "execution_count": 44,
      "outputs": [
        {
          "output_type": "execute_result",
          "data": {
            "text/plain": [
              "[(652, 1),\n",
              " (618, 1),\n",
              " (746, 1),\n",
              " (732, 4),\n",
              " (432, 3),\n",
              " (312, 4),\n",
              " (932, 4),\n",
              " (204, 2),\n",
              " (186, 4),\n",
              " (434, 1)]"
            ]
          },
          "metadata": {},
          "execution_count": 44
        }
      ]
    },
    {
      "cell_type": "code",
      "source": [
        "rdd.map(lambda x: (\"even\",1) if x%2==0 else (\"odd\",1))\\\n",
        "  .reduceByKey(lambda a,b: a+b)\\\n",
        "  .take(2) # 偶數、奇數個數"
      ],
      "metadata": {
        "id": "Mn6CZTJ_lOE4",
        "outputId": "5e583161-262e-4a52-8dd4-80adc3e552b3",
        "colab": {
          "base_uri": "https://localhost:8080/"
        }
      },
      "execution_count": 47,
      "outputs": [
        {
          "output_type": "execute_result",
          "data": {
            "text/plain": [
              "[('even', 503), ('odd', 497)]"
            ]
          },
          "metadata": {},
          "execution_count": 47
        }
      ]
    },
    {
      "cell_type": "markdown",
      "metadata": {
        "id": "olf5dYNO1JP8"
      },
      "source": [
        "# Transformation Operators: map(), filter(), sample(), groupBy(), etc \n",
        "## (完整Transformation Operator請參考下列網址) http://spark.apache.org/docs/2.1.0/api/python/pyspark.html#pyspark.RDD "
      ]
    },
    {
      "cell_type": "markdown",
      "metadata": {
        "id": "m-dnb6Vb-RnK"
      },
      "source": [
        "rdd資料中有多少筆?"
      ]
    },
    {
      "cell_type": "code",
      "execution_count": null,
      "metadata": {
        "colab": {
          "base_uri": "https://localhost:8080/",
          "height": 35
        },
        "id": "qBhcOOPJ9sUa",
        "outputId": "1e2aa983-0af0-4568-d29d-c904e1452fd2"
      },
      "outputs": [
        {
          "data": {
            "text/plain": [
              "1000"
            ]
          },
          "execution_count": 51,
          "metadata": {
            "tags": []
          },
          "output_type": "execute_result"
        }
      ],
      "source": [
        "rdd.map(lambda x:1).reduce(lambda x,y:x+y) "
      ]
    },
    {
      "cell_type": "code",
      "execution_count": null,
      "metadata": {
        "colab": {
          "base_uri": "https://localhost:8080/",
          "height": 35
        },
        "id": "952iKzm8-QqL",
        "outputId": "930b1f44-3140-40e4-89d6-07d678240891"
      },
      "outputs": [
        {
          "data": {
            "text/plain": [
              "1000"
            ]
          },
          "execution_count": 52,
          "metadata": {
            "tags": []
          },
          "output_type": "execute_result"
        }
      ],
      "source": [
        "rdd.count()"
      ]
    },
    {
      "cell_type": "code",
      "execution_count": null,
      "metadata": {
        "colab": {
          "base_uri": "https://localhost:8080/",
          "height": 35
        },
        "id": "HMYWs-X-1Usl",
        "outputId": "a0fd6dcc-8693-48ca-eed9-090284545f83"
      },
      "outputs": [
        {
          "data": {
            "text/plain": [
              "272842"
            ]
          },
          "execution_count": 53,
          "metadata": {
            "tags": []
          },
          "output_type": "execute_result"
        }
      ],
      "source": [
        "rdd.map(lambda x: x if x%2==0 else 0).reduce(lambda x,y:x+y)"
      ]
    },
    {
      "cell_type": "markdown",
      "metadata": {
        "id": "elsAvKXNt1Q-"
      },
      "source": [
        "#### Transformation Operator 使用filter()，將所有偶數留下，奇數刪除。"
      ]
    },
    {
      "cell_type": "code",
      "execution_count": null,
      "metadata": {
        "colab": {
          "base_uri": "https://localhost:8080/",
          "height": 35
        },
        "id": "raH2ldfBt1Q-",
        "outputId": "918d7bdf-456b-4203-9f41-d7784691a6e5"
      },
      "outputs": [
        {
          "data": {
            "text/plain": [
              "272842"
            ]
          },
          "execution_count": 54,
          "metadata": {
            "tags": []
          },
          "output_type": "execute_result"
        }
      ],
      "source": [
        "rdd.filter(lambda x: x%2==0).reduce(lambda x,y:x+y)"
      ]
    },
    {
      "cell_type": "markdown",
      "metadata": {
        "id": "uTLr4oJEt1RB"
      },
      "source": [
        "#### Transformation Operator 使用sample( ) 抽樣給定比例之RDD子集合"
      ]
    },
    {
      "cell_type": "code",
      "execution_count": null,
      "metadata": {
        "colab": {
          "base_uri": "https://localhost:8080/",
          "height": 35
        },
        "id": "n7U8Q8G-t1RB",
        "outputId": "a8e37afc-828b-47f1-b872-1686ae16e771"
      },
      "outputs": [
        {
          "data": {
            "text/plain": [
              "[660, 896, 806, 30, 856, 208, 17, 680, 602]"
            ]
          },
          "execution_count": 55,
          "metadata": {
            "tags": []
          },
          "output_type": "execute_result"
        }
      ],
      "source": [
        "subsetrdd = rdd.sample(False, 0.01)\n",
        "subsetrdd.collect()"
      ]
    },
    {
      "cell_type": "markdown",
      "metadata": {
        "id": "8jpIFRx3t1RE"
      },
      "source": [
        "#### Transformation Operator: 使用 groupBy( ) 將資料分組"
      ]
    },
    {
      "cell_type": "code",
      "execution_count": null,
      "metadata": {
        "colab": {
          "base_uri": "https://localhost:8080/",
          "height": 72
        },
        "id": "jffxeQevt1RE",
        "outputId": "e626e815-ad1f-4dd9-b050-9d4f6323f2fd"
      },
      "outputs": [
        {
          "name": "stdout",
          "output_type": "stream",
          "text": [
            "[(False, <pyspark.resultiterable.ResultIterable object at 0x7f975866a128>), (True, <pyspark.resultiterable.ResultIterable object at 0x7f9758d19898>)]\n",
            "[(False, [17]), (True, [660, 896, 806, 30, 856, 208, 680, 602])]\n"
          ]
        }
      ],
      "source": [
        "result = subsetrdd.groupBy(lambda x: x%2==0).collect()\n",
        "print(result)\n",
        "print([(x, list(y)) for (x, y) in result])"
      ]
    },
    {
      "cell_type": "code",
      "execution_count": null,
      "metadata": {
        "id": "fmcD3Rb41HDj"
      },
      "outputs": [],
      "source": []
    },
    {
      "cell_type": "markdown",
      "metadata": {
        "id": "dhVPws5qt1RG"
      },
      "source": [
        "#### Transformation Operator 使用map ( ) 產生 key value pair"
      ]
    },
    {
      "cell_type": "code",
      "execution_count": null,
      "metadata": {
        "id": "-eo0RYkqt1RH"
      },
      "outputs": [],
      "source": [
        "keyValueRdd = rdd.map(lambda x: ('even', x) if x%2==0 else ('odd',x))\n"
      ]
    },
    {
      "cell_type": "code",
      "execution_count": null,
      "metadata": {
        "colab": {
          "base_uri": "https://localhost:8080/",
          "height": 35
        },
        "id": "v7s_mWe6_-ab",
        "outputId": "6b3ee21a-cf5d-4696-8b50-63a713d71e49"
      },
      "outputs": [
        {
          "data": {
            "text/plain": [
              "[('even', 272842), ('odd', 239159)]"
            ]
          },
          "execution_count": 58,
          "metadata": {
            "tags": []
          },
          "output_type": "execute_result"
        }
      ],
      "source": [
        "rdd.map(lambda x: ('even', x) if x%2==0 else ('odd',x))\\\n",
        "   .reduceByKey(lambda x,y: x+y)\\\n",
        "   .take(2)"
      ]
    },
    {
      "cell_type": "code",
      "execution_count": null,
      "metadata": {
        "id": "KjpBTvuY6kJr"
      },
      "outputs": [],
      "source": [
        "def evennumber(x):\n",
        "  if x%2==0:\n",
        "    return x\n",
        "  else:\n",
        "    return 0"
      ]
    },
    {
      "cell_type": "code",
      "execution_count": null,
      "metadata": {
        "colab": {
          "base_uri": "https://localhost:8080/",
          "height": 35
        },
        "id": "WP-RPBA36wYD",
        "outputId": "cb130066-7e6f-4f03-8fad-63dbc51bad89"
      },
      "outputs": [
        {
          "data": {
            "text/plain": [
              "0"
            ]
          },
          "execution_count": 60,
          "metadata": {
            "tags": []
          },
          "output_type": "execute_result"
        }
      ],
      "source": [
        "evennumber(101)"
      ]
    },
    {
      "cell_type": "code",
      "execution_count": null,
      "metadata": {
        "colab": {
          "base_uri": "https://localhost:8080/",
          "height": 89
        },
        "id": "w5hM0Gow7WOl",
        "outputId": "09c12f9e-d074-4737-f462-7e29dd8fe5de"
      },
      "outputs": [
        {
          "name": "stderr",
          "output_type": "stream",
          "text": [
            "/usr/local/lib/python3.6/dist-packages/ipykernel_launcher.py:1: RuntimeWarning: overflow encountered in long_scalars\n",
            "  \"\"\"Entry point for launching an IPython kernel.\n"
          ]
        },
        {
          "data": {
            "text/plain": [
              "4026203332964938841"
            ]
          },
          "execution_count": 61,
          "metadata": {
            "tags": []
          },
          "output_type": "execute_result"
        }
      ],
      "source": [
        "rdd.reduce(lambda x,y: x*x+y*y)"
      ]
    },
    {
      "cell_type": "code",
      "execution_count": null,
      "metadata": {
        "colab": {
          "base_uri": "https://localhost:8080/",
          "height": 35
        },
        "id": "TBWfbG8S60vF",
        "outputId": "96b99836-2998-4d1a-830b-c5e99de68a37"
      },
      "outputs": [
        {
          "data": {
            "text/plain": [
              "272842"
            ]
          },
          "execution_count": 62,
          "metadata": {
            "tags": []
          },
          "output_type": "execute_result"
        }
      ],
      "source": [
        "rdd.map(evennumber).reduce(lambda x,y:x+y)"
      ]
    },
    {
      "cell_type": "code",
      "execution_count": null,
      "metadata": {
        "colab": {
          "base_uri": "https://localhost:8080/",
          "height": 35
        },
        "id": "ipn1B9MJ3xND",
        "outputId": "760b12c4-da90-4f80-f21a-7843f4a16220"
      },
      "outputs": [
        {
          "data": {
            "text/plain": [
              "272842"
            ]
          },
          "execution_count": 63,
          "metadata": {
            "tags": []
          },
          "output_type": "execute_result"
        }
      ],
      "source": [
        "rdd.map(lambda x: x if x%2==0 else 0).reduce(lambda x,y:x+y)\n"
      ]
    },
    {
      "cell_type": "markdown",
      "metadata": {
        "id": "ergjRAqbt1RI"
      },
      "source": [
        "#### Transformation Operator: 使用 groupbyKey ( ) 根據key將資料分組"
      ]
    },
    {
      "cell_type": "code",
      "execution_count": 48,
      "metadata": {
        "colab": {
          "base_uri": "https://localhost:8080/"
        },
        "id": "0lU_2LrIt1RJ",
        "outputId": "f71df8a4-0c30-463b-d5dc-5800177252ca"
      },
      "outputs": [
        {
          "output_type": "stream",
          "name": "stdout",
          "text": [
            "even [652, 618, 746, 732, 432, 312, 932, 204, 186, 434, 778, 386, 940, 320, 10, 26, 626, 338, 166, 466, 562, 38, 874, 342, 412, 570, 792, 380, 454, 608, 432, 244, 488, 340, 94, 150, 634, 268, 680, 4, 544, 642, 4, 444, 270, 994, 352, 204, 378, 982, 966, 788, 858, 126, 198, 472, 102, 934, 956, 478, 360, 322, 308, 576, 468, 702, 740, 944, 772, 344, 864, 66, 558, 722, 714, 32, 616, 522, 778, 644, 102, 738, 94, 306, 378, 186, 626, 850, 112, 62, 774, 642, 722, 138, 580, 810, 174, 246, 324, 768, 812, 574, 710, 80, 390, 308, 564, 972, 322, 394, 306, 58, 902, 134, 108, 164, 926, 736, 946, 962, 894, 726, 60, 490, 964, 732, 614, 722, 314, 336, 240, 944, 770, 282, 156, 696, 688, 620, 692, 650, 384, 998, 326, 878, 318, 788, 568, 488, 664, 10, 296, 484, 612, 906, 28, 6, 868, 72, 250, 694, 814, 954, 938, 256, 932, 622, 88, 648, 956, 638, 946, 816, 932, 860, 796, 610, 380, 902, 862, 910, 540, 136, 96, 586, 700, 898, 706, 666, 630, 480, 500, 36, 876, 710, 482, 364, 118, 286, 288, 358, 166, 924, 892, 706, 784, 876, 812, 900, 72, 994, 44, 518, 488, 686, 664, 740, 616, 346, 312, 512, 842, 218, 432, 978, 374, 890, 696, 586, 186, 504, 912, 420, 276, 338, 98, 828, 788, 398, 862, 102, 230, 500, 50, 500, 426, 466, 488, 66, 50, 658, 356, 656, 514, 594, 250, 984, 394, 278, 694, 484, 98, 494, 780, 458, 604, 950, 322, 426, 238, 924, 16, 736, 932, 700, 78, 220, 302, 148, 988, 502, 408, 34, 998, 696, 272, 796, 994, 400, 910, 68, 828, 244, 754, 780, 994, 242, 620, 564, 164, 400, 238, 202, 868, 294, 616, 288, 732, 992, 188, 656, 328, 266, 912, 550, 554, 726, 756, 732, 684, 254, 912, 648, 668, 944, 142, 822, 392, 878, 620, 402, 122, 796, 458, 278, 172, 54, 96, 996, 94, 350, 252, 436, 228, 140, 508, 514, 750, 804, 930, 230, 528, 272, 680, 312, 454, 930, 76, 144, 728, 682, 242, 522, 928, 784, 624, 26, 756, 756, 800, 658, 608, 880, 510, 936, 300, 136, 992, 646, 946, 258, 322, 912, 436, 812, 490, 752, 888, 632, 422, 698, 714, 712, 236, 158, 410, 962, 870, 744, 6, 648, 560, 666, 462, 768, 34, 10, 738, 282, 260, 832, 574, 292, 548, 882, 412, 840, 494, 168, 138, 790, 496, 928, 356, 84, 814, 526, 920, 638, 778, 366, 666, 560, 126, 536, 686, 892, 524, 782, 374, 272, 472, 272, 190, 38, 616, 508, 120, 8, 568, 428, 674, 98, 780, 168, 216, 920, 316, 298, 902, 542, 872, 128, 124, 766, 696, 46, 720, 972, 930, 648, 202, 182, 114, 934, 716, 62, 470, 490, 20, 34, 4, 114, 178, 712, 312, 324, 186, 436, 444, 166, 226, 718, 34, 336, 840, 8, 8, 840, 450, 726, 414, 266, 654]\n",
            "odd [795, 685, 793, 455, 741, 423, 659, 683, 847, 619, 861, 793, 61, 837, 811, 715, 591, 311, 255, 35, 273, 63, 537, 675, 369, 827, 81, 45, 255, 803, 767, 577, 579, 369, 109, 271, 397, 89, 443, 535, 755, 789, 913, 883, 679, 43, 451, 857, 315, 295, 189, 795, 731, 445, 869, 209, 653, 659, 465, 551, 453, 347, 799, 571, 883, 717, 105, 181, 147, 307, 981, 589, 473, 921, 611, 77, 29, 709, 219, 831, 131, 789, 383, 787, 469, 467, 977, 97, 723, 955, 499, 339, 457, 49, 343, 183, 569, 135, 31, 349, 365, 211, 223, 457, 349, 923, 311, 47, 991, 829, 847, 933, 135, 831, 509, 705, 443, 501, 657, 725, 455, 197, 69, 495, 245, 579, 353, 323, 587, 175, 855, 857, 769, 355, 47, 711, 899, 687, 819, 705, 203, 3, 373, 127, 731, 259, 217, 235, 397, 701, 207, 831, 211, 165, 789, 897, 25, 943, 427, 719, 57, 105, 663, 569, 231, 541, 509, 627, 431, 679, 11, 279, 489, 299, 643, 507, 981, 527, 111, 525, 583, 71, 105, 621, 179, 121, 371, 443, 389, 395, 787, 321, 11, 399, 693, 179, 453, 777, 629, 83, 347, 87, 49, 683, 873, 29, 159, 995, 611, 391, 965, 759, 875, 323, 23, 59, 397, 19, 851, 787, 567, 825, 3, 729, 681, 725, 451, 309, 585, 891, 871, 17, 837, 633, 825, 471, 679, 337, 237, 245, 691, 129, 671, 845, 869, 737, 927, 855, 101, 931, 369, 299, 567, 747, 317, 443, 815, 841, 177, 485, 645, 911, 111, 141, 195, 675, 571, 789, 961, 753, 657, 141, 777, 937, 171, 903, 467, 735, 659, 917, 189, 859, 741, 753, 269, 885, 717, 57, 553, 823, 303, 287, 705, 327, 863, 717, 995, 627, 7, 501, 309, 513, 949, 433, 37, 783, 97, 907, 771, 325, 419, 497, 77, 773, 121, 781, 467, 909, 259, 905, 283, 13, 919, 695, 13, 453, 407, 163, 617, 39, 523, 845, 331, 887, 703, 135, 659, 747, 721, 789, 383, 497, 921, 627, 451, 937, 213, 679, 343, 875, 591, 121, 495, 891, 867, 929, 3, 559, 397, 721, 389, 533, 673, 789, 425, 807, 319, 979, 301, 399, 75, 177, 359, 761, 693, 781, 543, 259, 489, 847, 133, 923, 853, 669, 187, 5, 173, 327, 569, 897, 369, 505, 559, 425, 967, 451, 915, 95, 449, 635, 157, 365, 575, 579, 923, 717, 59, 889, 159, 207, 875, 109, 529, 457, 469, 327, 767, 451, 39, 39, 819, 91, 623, 633, 817, 3, 531, 149, 57, 733, 9, 41, 683, 399, 109, 767, 593, 897, 169, 223, 745, 737, 591, 183, 317, 103, 285, 569, 575, 713, 615, 983, 479, 189, 225, 191, 879, 493, 693, 343, 931, 267, 423, 7, 809, 553, 803, 679, 159, 751, 869, 627, 219, 719, 799, 209, 317, 449, 769, 281, 851, 641, 47, 579, 123, 521, 11, 631, 867, 133, 831, 7, 955, 635, 315, 803, 335]\n"
          ]
        }
      ],
      "source": [
        "\n",
        "keyValueRdd = rdd.map(lambda x: ('even', x) if x%2==0 else ('odd',x))\n",
        "\n",
        "for x in keyValueRdd.groupByKey().collect():\n",
        "    print (x[0], list(x[1]))"
      ]
    },
    {
      "cell_type": "markdown",
      "metadata": {
        "id": "2cF4eO2ht1RL"
      },
      "source": [
        "\n",
        "###練習 計算奇數加總值與偶數加總值\n",
        "#### groupbyKey(), reduceByKey()"
      ]
    },
    {
      "cell_type": "code",
      "execution_count": 49,
      "metadata": {
        "colab": {
          "base_uri": "https://localhost:8080/"
        },
        "id": "JvI54vHQt1RL",
        "outputId": "a8715576-59a9-4e26-967a-fdb0d8fdfc11"
      },
      "outputs": [
        {
          "output_type": "execute_result",
          "data": {
            "text/plain": [
              "[('even', 257598), ('odd', 249949)]"
            ]
          },
          "metadata": {},
          "execution_count": 49
        }
      ],
      "source": [
        "keyValueRdd.reduceByKey(lambda x,y: x+y).take(2)"
      ]
    },
    {
      "cell_type": "code",
      "execution_count": 50,
      "metadata": {
        "colab": {
          "base_uri": "https://localhost:8080/"
        },
        "id": "2zt-atriGcY1",
        "outputId": "bcc59d6e-5b8b-4ec3-b930-6d9c8938a2e3"
      },
      "outputs": [
        {
          "output_type": "execute_result",
          "data": {
            "text/plain": [
              "[(652, 1), (618, 1), (746, 1), (732, 4), (432, 3)]"
            ]
          },
          "metadata": {},
          "execution_count": 50
        }
      ],
      "source": [
        "rdd.map(lambda x: (x,1)).reduceByKey(lambda a,b:a+b).take(5)"
      ]
    },
    {
      "cell_type": "markdown",
      "metadata": {
        "id": "GeI84meUt1Re"
      },
      "source": [
        "___\n",
        "___\n",
        "___\n",
        "\n",
        "\n",
        "# RDD Action Action Operation\n",
        "#### 使用reduce()，計算所有數之加總值。"
      ]
    },
    {
      "cell_type": "code",
      "execution_count": 51,
      "metadata": {
        "colab": {
          "base_uri": "https://localhost:8080/"
        },
        "id": "YML9Ihvet1Re",
        "outputId": "bfe9a047-049e-46e6-98ae-995027cf16dd"
      },
      "outputs": [
        {
          "output_type": "execute_result",
          "data": {
            "text/plain": [
              "507547"
            ]
          },
          "metadata": {},
          "execution_count": 51
        }
      ],
      "source": [
        "rdd.reduce(lambda x,y: x+y )"
      ]
    },
    {
      "cell_type": "code",
      "execution_count": 52,
      "metadata": {
        "colab": {
          "base_uri": "https://localhost:8080/"
        },
        "id": "K7VhWlCUfIrn",
        "outputId": "ef110775-42de-4931-ee1d-06c2358e9f5c"
      },
      "outputs": [
        {
          "output_type": "stream",
          "name": "stderr",
          "text": [
            "<ipython-input-52-19916e165932>:1: RuntimeWarning: overflow encountered in long_scalars\n",
            "  rdd.reduce(lambda x,y: x*x+y*y)\n"
          ]
        },
        {
          "output_type": "execute_result",
          "data": {
            "text/plain": [
              "8638090732057615001"
            ]
          },
          "metadata": {},
          "execution_count": 52
        }
      ],
      "source": [
        "rdd.reduce(lambda x,y: x*x+y*y)"
      ]
    },
    {
      "cell_type": "code",
      "execution_count": 53,
      "metadata": {
        "colab": {
          "base_uri": "https://localhost:8080/"
        },
        "id": "GYMr5QHb0Isc",
        "outputId": "2231b919-1941-4f57-d73d-d53c3e0a2cbe"
      },
      "outputs": [
        {
          "output_type": "execute_result",
          "data": {
            "text/plain": [
              "1000"
            ]
          },
          "metadata": {},
          "execution_count": 53
        }
      ],
      "source": [
        "rdd.map(lambda x:1).reduce(lambda a,b:a+b)"
      ]
    },
    {
      "cell_type": "code",
      "execution_count": null,
      "metadata": {
        "id": "vjiNSGoD0p1r"
      },
      "outputs": [],
      "source": []
    },
    {
      "cell_type": "markdown",
      "metadata": {
        "id": "OQWCsi3Nt1Rq"
      },
      "source": [
        "______\n",
        "\n",
        "## 觀念\n",
        "### 練習：計算所有數字平方和。"
      ]
    },
    {
      "cell_type": "code",
      "execution_count": 54,
      "metadata": {
        "colab": {
          "base_uri": "https://localhost:8080/"
        },
        "id": "4cFvuXYX2iA7",
        "outputId": "967183ec-14af-4fd4-d0a4-e8a9ebcad7ca"
      },
      "outputs": [
        {
          "output_type": "execute_result",
          "data": {
            "text/plain": [
              "341213957"
            ]
          },
          "metadata": {},
          "execution_count": 54
        }
      ],
      "source": [
        "rdd.map(lambda x: x*x).reduce(lambda x,y: x+y)"
      ]
    },
    {
      "cell_type": "markdown",
      "metadata": {
        "id": "6rJDXbsZt1Rr"
      },
      "source": [
        "## 練習：使用map(), reduceByKey()，計算所有數字出現頻率。"
      ]
    },
    {
      "cell_type": "code",
      "execution_count": 55,
      "metadata": {
        "colab": {
          "base_uri": "https://localhost:8080/"
        },
        "id": "z13lFWqgt1Rr",
        "outputId": "8e4378d6-de22-4b0e-8f53-126ae5809bc8"
      },
      "outputs": [
        {
          "output_type": "execute_result",
          "data": {
            "text/plain": [
              "PythonRDD[116] at RDD at PythonRDD.scala:53"
            ]
          },
          "metadata": {},
          "execution_count": 55
        }
      ],
      "source": [
        "rdd.map(lambda x: (x,1)).reduceByKey(lambda a,b:a+b)"
      ]
    },
    {
      "cell_type": "markdown",
      "metadata": {
        "id": "0N__bRU5t1Rv"
      },
      "source": [
        "_____\n",
        "_____\n",
        "_____\n",
        "\n",
        "# WordCount"
      ]
    },
    {
      "cell_type": "code",
      "execution_count": 56,
      "metadata": {
        "colab": {
          "base_uri": "https://localhost:8080/"
        },
        "id": "R_cMDKMet1Rx",
        "outputId": "eaa18c93-164f-4057-aa51-79f959002d52"
      },
      "outputs": [
        {
          "output_type": "stream",
          "name": "stdout",
          "text": [
            "--2022-12-21 07:35:14--  https://www.dropbox.com/s/28ljfwb1aeuyi37/speech.txt?dl=1\n",
            "Resolving www.dropbox.com (www.dropbox.com)... 162.125.6.18, 2620:100:6019:18::a27d:412\n",
            "Connecting to www.dropbox.com (www.dropbox.com)|162.125.6.18|:443... connected.\n",
            "HTTP request sent, awaiting response... 302 Found\n",
            "Location: /s/dl/28ljfwb1aeuyi37/speech.txt [following]\n",
            "--2022-12-21 07:35:14--  https://www.dropbox.com/s/dl/28ljfwb1aeuyi37/speech.txt\n",
            "Reusing existing connection to www.dropbox.com:443.\n",
            "HTTP request sent, awaiting response... 302 Found\n",
            "Location: https://uc906c8b974ec26de6b277bfbc28.dl.dropboxusercontent.com/cd/0/get/BzCHP8Ey0mT5EUWPPMQ6Yj2T4IzO-N8f1vBOTolpZYKg-aWTogs2ie4x28cKibhNHfXd0vzAnbhpxi22o3HsgAqy64q9Kesf3YyKoz73P3dVDQp-keLe5uhQCkwTJ7nAIBOg_zoJHqnpNr9gQtucuqsoE-GhJGKqLiLzOb5oEhRTBg/file?dl=1# [following]\n",
            "--2022-12-21 07:35:14--  https://uc906c8b974ec26de6b277bfbc28.dl.dropboxusercontent.com/cd/0/get/BzCHP8Ey0mT5EUWPPMQ6Yj2T4IzO-N8f1vBOTolpZYKg-aWTogs2ie4x28cKibhNHfXd0vzAnbhpxi22o3HsgAqy64q9Kesf3YyKoz73P3dVDQp-keLe5uhQCkwTJ7nAIBOg_zoJHqnpNr9gQtucuqsoE-GhJGKqLiLzOb5oEhRTBg/file?dl=1\n",
            "Resolving uc906c8b974ec26de6b277bfbc28.dl.dropboxusercontent.com (uc906c8b974ec26de6b277bfbc28.dl.dropboxusercontent.com)... 162.125.6.15, 2620:100:601c:15::a27d:60f\n",
            "Connecting to uc906c8b974ec26de6b277bfbc28.dl.dropboxusercontent.com (uc906c8b974ec26de6b277bfbc28.dl.dropboxusercontent.com)|162.125.6.15|:443... connected.\n",
            "HTTP request sent, awaiting response... 200 OK\n",
            "Length: 21601 (21K) [application/binary]\n",
            "Saving to: ‘speech’\n",
            "\n",
            "speech              100%[===================>]  21.09K  --.-KB/s    in 0.001s  \n",
            "\n",
            "2022-12-21 07:35:14 (24.8 MB/s) - ‘speech’ saved [21601/21601]\n",
            "\n"
          ]
        }
      ],
      "source": [
        "!wget -O speech \"https://www.dropbox.com/s/28ljfwb1aeuyi37/speech.txt?dl=1\""
      ]
    },
    {
      "cell_type": "code",
      "execution_count": 57,
      "metadata": {
        "id": "xsHULr-xt1Ry"
      },
      "outputs": [],
      "source": [
        "data_file = \"./speech\""
      ]
    },
    {
      "cell_type": "code",
      "execution_count": 62,
      "metadata": {
        "id": "wmkX3FKlt1R0"
      },
      "outputs": [],
      "source": [
        "text_file = sc.textFile(data_file) # txt變成rdd"
      ]
    },
    {
      "cell_type": "code",
      "source": [
        "text_file.take(1) # txt一行就是rdd的基本單位"
      ],
      "metadata": {
        "id": "17KXGUoynIaY",
        "outputId": "0106e0e4-a0c8-46a3-98aa-889224b0685f",
        "colab": {
          "base_uri": "https://localhost:8080/"
        }
      },
      "execution_count": 61,
      "outputs": [
        {
          "output_type": "execute_result",
          "data": {
            "text/plain": [
              "['各位 友邦 的 元首 與 貴賓 、 各國 駐台 使節 及 代表 、 現場 的 好 朋友 ， 全體 國人 同胞 ， 大家 好 。   ']"
            ]
          },
          "metadata": {},
          "execution_count": 61
        }
      ]
    },
    {
      "cell_type": "code",
      "execution_count": 59,
      "metadata": {
        "colab": {
          "base_uri": "https://localhost:8080/"
        },
        "id": "SzhZOO8B54_d",
        "outputId": "bb715532-880a-48fc-941b-6d46baf7c352"
      },
      "outputs": [
        {
          "output_type": "stream",
          "name": "stdout",
          "text": [
            "<class 'pyspark.rdd.RDD'>\n"
          ]
        }
      ],
      "source": [
        "print(type(text_file))"
      ]
    },
    {
      "cell_type": "code",
      "execution_count": 71,
      "metadata": {
        "colab": {
          "base_uri": "https://localhost:8080/"
        },
        "id": "Ucnc2gbbdKuG",
        "outputId": "ac870f66-2e09-4b9d-e530-ec2ac68002e3"
      },
      "outputs": [
        {
          "output_type": "execute_result",
          "data": {
            "text/plain": [
              "89"
            ]
          },
          "metadata": {},
          "execution_count": 71
        }
      ],
      "source": [
        "text_file.map(lambda line: line.split(\" \")).count() "
      ]
    },
    {
      "cell_type": "markdown",
      "source": [
        "會錯! 因為line.split(\" \")完還是一個list，所以word(key)就會變成 ```[\"Hello\", \"World\"]```，而不是單獨```\"Hello\"``` \\\n",
        "解法: ```flatMap```\n",
        "\n",
        "\n",
        "```\n",
        "wordcountsRDD = text_file.map(lambda line: line.split(\" \")) \\\n",
        "             .map(lambda word: (word, 1)) \\\n",
        "             .reduceByKey(lambda a, b: a + b) \n",
        "```"
      ],
      "metadata": {
        "id": "stXWgG8CrKZq"
      }
    },
    {
      "cell_type": "code",
      "execution_count": 64,
      "metadata": {
        "colab": {
          "base_uri": "https://localhost:8080/"
        },
        "id": "JlZxjR_sda8D",
        "outputId": "8daf7f21-e4b6-4f7a-906c-3a7d2d8ba35e"
      },
      "outputs": [
        {
          "output_type": "execute_result",
          "data": {
            "text/plain": [
              "3776"
            ]
          },
          "metadata": {},
          "execution_count": 64
        }
      ],
      "source": [
        "text_file.flatMap(lambda line: line.split(\" \")).count()"
      ]
    },
    {
      "cell_type": "code",
      "execution_count": 65,
      "metadata": {
        "colab": {
          "base_uri": "https://localhost:8080/"
        },
        "id": "NAIpNQIFt1R2",
        "outputId": "be74b585-24d9-4576-f446-50afafc7ba48"
      },
      "outputs": [
        {
          "output_type": "execute_result",
          "data": {
            "text/plain": [
              "[('各位', 3),\n",
              " ('友邦', 2),\n",
              " ('的', 292),\n",
              " ('元首', 2),\n",
              " ('與', 37),\n",
              " ('各國', 3),\n",
              " ('駐台', 1),\n",
              " ('使節', 1),\n",
              " ('及', 14),\n",
              " ('現場', 2)]"
            ]
          },
          "metadata": {},
          "execution_count": 65
        }
      ],
      "source": [
        "wordcountsRDD = text_file.flatMap(lambda line: line.split(\" \")) \\\n",
        "             .map(lambda word: (word, 1)) \\\n",
        "             .reduceByKey(lambda a, b: a + b)\n",
        "wordcountsRDD.take(10)\n"
      ]
    },
    {
      "cell_type": "markdown",
      "metadata": {
        "id": "kLRha3Eet1R4"
      },
      "source": [
        "#### 根據字元符號順序做排序"
      ]
    },
    {
      "cell_type": "code",
      "execution_count": 73,
      "metadata": {
        "colab": {
          "base_uri": "https://localhost:8080/"
        },
        "id": "rngFUG_0t1R6",
        "outputId": "040000db-8ca4-466e-db19-cbf549f84598"
      },
      "outputs": [
        {
          "output_type": "execute_result",
          "data": {
            "text/plain": [
              "[('', 228), ('1992', 2), ('1996', 1), ('20', 4), ('2016', 1)]"
            ]
          },
          "metadata": {},
          "execution_count": 73
        }
      ],
      "source": [
        "text_file = sc.textFile(data_file)\n",
        "counts = text_file.flatMap(lambda line: line.split(\" \")) \\\n",
        "             .map(lambda word: (word, 1)) \\\n",
        "             .reduceByKey(lambda a, b: a + b).sortByKey()\n",
        "counts.take(5)"
      ]
    },
    {
      "cell_type": "markdown",
      "metadata": {
        "id": "62tc3XbHt1R7"
      },
      "source": [
        "#### 出現頻率做排序"
      ]
    },
    {
      "cell_type": "code",
      "execution_count": 75,
      "metadata": {
        "colab": {
          "base_uri": "https://localhost:8080/"
        },
        "id": "KeUmGmNJt1R8",
        "outputId": "ff7ba394-54fd-4951-aa30-fca29f1b5f46"
      },
      "outputs": [
        {
          "output_type": "execute_result",
          "data": {
            "text/plain": [
              "[('，', 336),\n",
              " ('的', 292),\n",
              " ('', 228),\n",
              " ('。', 159),\n",
              " ('我們', 86),\n",
              " ('、', 59),\n",
              " ('台灣', 39),\n",
              " ('與', 37),\n",
              " ('在', 33),\n",
              " ('國家', 32),\n",
              " ('和', 31),\n",
              " ('一個', 29),\n",
              " ('新政府', 27),\n",
              " ('是', 27),\n",
              " ('要', 25),\n",
              " ('經濟', 25),\n",
              " ('這個', 25),\n",
              " ('讓', 24),\n",
              " ('會', 24),\n",
              " ('也', 22)]"
            ]
          },
          "metadata": {},
          "execution_count": 75
        }
      ],
      "source": [
        "text_file = sc.textFile(data_file)\n",
        "\n",
        "# sortBy可以指定sort要based on list的哪個位置\n",
        "counts = text_file.flatMap(lambda line: line.split(\" \")) \\\n",
        "             .map(lambda word: (word, 1)) \\\n",
        "             .reduceByKey(lambda a, b: a + b)\\\n",
        "             .sortBy(lambda x: x[1], ascending=False)\n",
        "\n",
        "counts.take(20)\n",
        "\n"
      ]
    },
    {
      "cell_type": "markdown",
      "metadata": {
        "id": "sQasOGYAt1R_"
      },
      "source": [
        "#### map 與 flatMap的差異"
      ]
    },
    {
      "cell_type": "code",
      "execution_count": null,
      "metadata": {
        "colab": {
          "base_uri": "https://localhost:8080/",
          "height": 503
        },
        "id": "TKZtTRUXt1R_",
        "outputId": "977a119f-2711-4a05-d7e3-701687f37486"
      },
      "outputs": [
        {
          "data": {
            "text/plain": [
              "[['各位',\n",
              "  '友邦',\n",
              "  '的',\n",
              "  '元首',\n",
              "  '與',\n",
              "  '貴賓',\n",
              "  '、',\n",
              "  '各國',\n",
              "  '駐台',\n",
              "  '使節',\n",
              "  '及',\n",
              "  '代表',\n",
              "  '、',\n",
              "  '現場',\n",
              "  '的',\n",
              "  '好',\n",
              "  '朋友',\n",
              "  '，',\n",
              "  '全體',\n",
              "  '國人',\n",
              "  '同胞',\n",
              "  '，',\n",
              "  '大家',\n",
              "  '好',\n",
              "  '。',\n",
              "  '',\n",
              "  '',\n",
              "  '']]"
            ]
          },
          "execution_count": 88,
          "metadata": {
            "tags": []
          },
          "output_type": "execute_result"
        }
      ],
      "source": [
        "text_file = sc.textFile(data_file)\n",
        "counts = text_file.map(lambda line: line.split(\" \"))\n",
        "counts.take(1)\n"
      ]
    },
    {
      "cell_type": "code",
      "execution_count": null,
      "metadata": {
        "colab": {
          "base_uri": "https://localhost:8080/",
          "height": 35
        },
        "id": "tDvjL-8Tt1SC",
        "outputId": "ffdd2acf-22e7-4827-a2c4-b21880bd10dc"
      },
      "outputs": [
        {
          "data": {
            "text/plain": [
              "['各位']"
            ]
          },
          "execution_count": 89,
          "metadata": {
            "tags": []
          },
          "output_type": "execute_result"
        }
      ],
      "source": [
        "text_file = sc.textFile(data_file)\n",
        "counts = text_file.flatMap(lambda line: line.split(\" \"))\n",
        "counts.take(1)"
      ]
    },
    {
      "cell_type": "code",
      "execution_count": null,
      "metadata": {
        "colab": {
          "base_uri": "https://localhost:8080/",
          "height": 35
        },
        "id": "sKvDFz9rKk94",
        "outputId": "ce71a166-0df0-469c-e24d-db10fd633aa2"
      },
      "outputs": [
        {
          "data": {
            "text/plain": [
              "386045"
            ]
          },
          "execution_count": 90,
          "metadata": {
            "tags": []
          },
          "output_type": "execute_result"
        }
      ],
      "source": [
        "rdd.map(lambda x: x if x>500 else 0).reduce(lambda x,y:x+y)"
      ]
    },
    {
      "cell_type": "markdown",
      "metadata": {
        "id": "QVX1K9rvt1SE"
      },
      "source": [
        "\n",
        "____\n",
        "____\n",
        "____\n",
        "# pi-estimation "
      ]
    },
    {
      "cell_type": "code",
      "execution_count": null,
      "metadata": {
        "colab": {
          "base_uri": "https://localhost:8080/",
          "height": 35
        },
        "id": "7qJCgsskt1SE",
        "outputId": "5e2cc88c-290a-4e3a-e48f-02309b301e6d"
      },
      "outputs": [
        {
          "name": "stdout",
          "output_type": "stream",
          "text": [
            "Pi is roughly 3.141906\n"
          ]
        }
      ],
      "source": [
        "import random\n",
        "\n",
        "def sample(p):\n",
        "    x, y = random.random(), random.random()\n",
        "    return 1 if x*x + y*y < 1 else 0\n",
        "\n",
        "count = sc.parallelize(range(0, 10000000)).map(sample) \\\n",
        "             .reduce(lambda a, b: a + b)\n",
        "print (\"Pi is roughly %f\" % (4.0 * count / 10000000))"
      ]
    },
    {
      "cell_type": "code",
      "execution_count": null,
      "metadata": {
        "colab": {
          "base_uri": "https://localhost:8080/",
          "height": 35
        },
        "id": "OAQNfVent1SF",
        "outputId": "3e1f7b54-da1b-41f2-895d-d097bb7e4032"
      },
      "outputs": [
        {
          "name": "stdout",
          "output_type": "stream",
          "text": [
            "Pi is roughly 3.141936\n"
          ]
        }
      ],
      "source": [
        "count = sc.parallelize(range(0, 1000000))\\\n",
        "        .map(lambda p: 1 if (random.random()**2 + random.random()**2)<1 else 0) \\\n",
        "        .reduce(lambda a, b: a + b)\n",
        "print (\"Pi is roughly %f\" % (4.0 * count / 1000000))"
      ]
    },
    {
      "cell_type": "markdown",
      "metadata": {
        "id": "WXI8RPNEt1SH"
      },
      "source": [
        "___\n",
        "___\n",
        "___\n",
        "\n",
        "# Text Search Example"
      ]
    },
    {
      "cell_type": "code",
      "execution_count": null,
      "metadata": {
        "id": "ym_ec0yDt1SI"
      },
      "outputs": [],
      "source": [
        "import urllib\n",
        "f=urllib.urlretrieve(\"https://www.ccel.org/ccel/bible/kjv.txt\",\"bible\")\n",
        "text_file = sc.textFile(data_file)\n",
        "lines = text_file.map(lambda line: line) \n",
        "lines.take(20)"
      ]
    },
    {
      "cell_type": "markdown",
      "metadata": {
        "id": "W8dnzpSUt1SJ"
      },
      "source": [
        "\n",
        "___\n",
        "___\n",
        "___\n",
        "\n",
        "# Filter Example"
      ]
    },
    {
      "cell_type": "code",
      "execution_count": null,
      "metadata": {
        "id": "aVpHViqwt1SK"
      },
      "outputs": [],
      "source": [
        "import urllib\n",
        "urllib.urlretrieve(\"https://www.ccel.org/ccel/bible/kjv.txt\",\"bible\")\n",
        "data_file = \"./bible\"\n",
        "text_file = sc.textFile(data_file)\n",
        "lines = text_file.filter(lambda line: 'and' in line) \n",
        "lines.take(20)"
      ]
    },
    {
      "cell_type": "code",
      "execution_count": null,
      "metadata": {
        "id": "_fErZ1SNt1SO"
      },
      "outputs": [],
      "source": []
    },
    {
      "cell_type": "code",
      "execution_count": null,
      "metadata": {
        "id": "6VL_arA54uEZ"
      },
      "outputs": [],
      "source": [
        "\n"
      ]
    },
    {
      "cell_type": "code",
      "execution_count": null,
      "metadata": {
        "id": "qtJTOTZ644l-"
      },
      "outputs": [],
      "source": []
    },
    {
      "cell_type": "code",
      "execution_count": null,
      "metadata": {
        "id": "dz1EqZwB459t"
      },
      "outputs": [],
      "source": []
    },
    {
      "cell_type": "code",
      "execution_count": null,
      "metadata": {
        "id": "nAfeeKml5AVL"
      },
      "outputs": [],
      "source": []
    },
    {
      "cell_type": "code",
      "execution_count": null,
      "metadata": {
        "id": "Q9bY61jYJNZN"
      },
      "outputs": [],
      "source": []
    }
  ],
  "metadata": {
    "colab": {
      "provenance": [],
      "include_colab_link": true
    },
    "kernelspec": {
      "display_name": "Python 3",
      "name": "python3"
    }
  },
  "nbformat": 4,
  "nbformat_minor": 0
}