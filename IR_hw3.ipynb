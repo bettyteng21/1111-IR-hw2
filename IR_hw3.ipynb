{
  "nbformat": 4,
  "nbformat_minor": 0,
  "metadata": {
    "colab": {
      "provenance": [],
      "collapsed_sections": [],
      "mount_file_id": "1czS-48S3nxUPr0K_hTdxcOlzMfJaylPH",
      "authorship_tag": "ABX9TyPgg7W6ZWXs3qqciqyt9txW",
      "include_colab_link": true
    },
    "kernelspec": {
      "name": "python3",
      "display_name": "Python 3"
    },
    "language_info": {
      "name": "python"
    }
  },
  "cells": [
    {
      "cell_type": "markdown",
      "metadata": {
        "id": "view-in-github",
        "colab_type": "text"
      },
      "source": [
        "<a href=\"https://colab.research.google.com/github/bettyteng21/1111-IR-hw3/blob/main/IR_hw3.ipynb\" target=\"_parent\"><img src=\"https://colab.research.google.com/assets/colab-badge.svg\" alt=\"Open In Colab\"/></a>"
      ]
    },
    {
      "cell_type": "code",
      "source": [
        "!pip install pyserini"
      ],
      "metadata": {
        "colab": {
          "base_uri": "https://localhost:8080/"
        },
        "id": "2mexVlCSRSUW",
        "outputId": "37989382-fa39-4cb8-bbfa-42c890bf7a7b"
      },
      "execution_count": null,
      "outputs": [
        {
          "output_type": "stream",
          "name": "stdout",
          "text": [
            "Looking in indexes: https://pypi.org/simple, https://us-python.pkg.dev/colab-wheels/public/simple/\n",
            "Requirement already satisfied: pyserini in /usr/local/lib/python3.7/dist-packages (0.18.0)\n",
            "Requirement already satisfied: pandas>=1.1.5 in /usr/local/lib/python3.7/dist-packages (from pyserini) (1.3.5)\n",
            "Requirement already satisfied: scikit-learn>=0.22.1 in /usr/local/lib/python3.7/dist-packages (from pyserini) (1.0.2)\n",
            "Requirement already satisfied: onnxruntime>=1.8.1 in /usr/local/lib/python3.7/dist-packages (from pyserini) (1.12.1)\n",
            "Requirement already satisfied: Cython>=0.29.21 in /usr/local/lib/python3.7/dist-packages (from pyserini) (0.29.32)\n",
            "Requirement already satisfied: lightgbm>=3.3.2 in /usr/local/lib/python3.7/dist-packages (from pyserini) (3.3.3)\n",
            "Requirement already satisfied: pyjnius>=1.4.0 in /usr/local/lib/python3.7/dist-packages (from pyserini) (1.4.2)\n",
            "Requirement already satisfied: spacy>=3.2.1 in /usr/local/lib/python3.7/dist-packages (from pyserini) (3.4.1)\n",
            "Requirement already satisfied: nmslib>=2.1.1 in /usr/local/lib/python3.7/dist-packages (from pyserini) (2.1.1)\n",
            "Requirement already satisfied: tqdm in /usr/local/lib/python3.7/dist-packages (from pyserini) (4.64.1)\n",
            "Requirement already satisfied: transformers>=4.6.0 in /usr/local/lib/python3.7/dist-packages (from pyserini) (4.23.1)\n",
            "Requirement already satisfied: sentencepiece>=0.1.95 in /usr/local/lib/python3.7/dist-packages (from pyserini) (0.1.97)\n",
            "Requirement already satisfied: scipy>=1.4.1 in /usr/local/lib/python3.7/dist-packages (from pyserini) (1.7.3)\n",
            "Requirement already satisfied: numpy>=1.18.1 in /usr/local/lib/python3.7/dist-packages (from pyserini) (1.21.6)\n",
            "Requirement already satisfied: wheel in /usr/local/lib/python3.7/dist-packages (from lightgbm>=3.3.2->pyserini) (0.37.1)\n",
            "Requirement already satisfied: pybind11<2.6.2 in /usr/local/lib/python3.7/dist-packages (from nmslib>=2.1.1->pyserini) (2.6.1)\n",
            "Requirement already satisfied: psutil in /usr/local/lib/python3.7/dist-packages (from nmslib>=2.1.1->pyserini) (5.4.8)\n",
            "Requirement already satisfied: protobuf in /usr/local/lib/python3.7/dist-packages (from onnxruntime>=1.8.1->pyserini) (3.17.3)\n",
            "Requirement already satisfied: coloredlogs in /usr/local/lib/python3.7/dist-packages (from onnxruntime>=1.8.1->pyserini) (15.0.1)\n",
            "Requirement already satisfied: flatbuffers in /usr/local/lib/python3.7/dist-packages (from onnxruntime>=1.8.1->pyserini) (1.12)\n",
            "Requirement already satisfied: packaging in /usr/local/lib/python3.7/dist-packages (from onnxruntime>=1.8.1->pyserini) (21.3)\n",
            "Requirement already satisfied: sympy in /usr/local/lib/python3.7/dist-packages (from onnxruntime>=1.8.1->pyserini) (1.7.1)\n",
            "Requirement already satisfied: pytz>=2017.3 in /usr/local/lib/python3.7/dist-packages (from pandas>=1.1.5->pyserini) (2022.4)\n",
            "Requirement already satisfied: python-dateutil>=2.7.3 in /usr/local/lib/python3.7/dist-packages (from pandas>=1.1.5->pyserini) (2.8.2)\n",
            "Requirement already satisfied: six>=1.7.0 in /usr/local/lib/python3.7/dist-packages (from pyjnius>=1.4.0->pyserini) (1.15.0)\n",
            "Requirement already satisfied: joblib>=0.11 in /usr/local/lib/python3.7/dist-packages (from scikit-learn>=0.22.1->pyserini) (1.2.0)\n",
            "Requirement already satisfied: threadpoolctl>=2.0.0 in /usr/local/lib/python3.7/dist-packages (from scikit-learn>=0.22.1->pyserini) (3.1.0)\n",
            "Requirement already satisfied: typer<0.5.0,>=0.3.0 in /usr/local/lib/python3.7/dist-packages (from spacy>=3.2.1->pyserini) (0.4.2)\n",
            "Requirement already satisfied: jinja2 in /usr/local/lib/python3.7/dist-packages (from spacy>=3.2.1->pyserini) (2.11.3)\n",
            "Requirement already satisfied: cymem<2.1.0,>=2.0.2 in /usr/local/lib/python3.7/dist-packages (from spacy>=3.2.1->pyserini) (2.0.6)\n",
            "Requirement already satisfied: spacy-loggers<2.0.0,>=1.0.0 in /usr/local/lib/python3.7/dist-packages (from spacy>=3.2.1->pyserini) (1.0.3)\n",
            "Requirement already satisfied: spacy-legacy<3.1.0,>=3.0.9 in /usr/local/lib/python3.7/dist-packages (from spacy>=3.2.1->pyserini) (3.0.10)\n",
            "Requirement already satisfied: requests<3.0.0,>=2.13.0 in /usr/local/lib/python3.7/dist-packages (from spacy>=3.2.1->pyserini) (2.23.0)\n",
            "Requirement already satisfied: catalogue<2.1.0,>=2.0.6 in /usr/local/lib/python3.7/dist-packages (from spacy>=3.2.1->pyserini) (2.0.8)\n",
            "Requirement already satisfied: setuptools in /usr/local/lib/python3.7/dist-packages (from spacy>=3.2.1->pyserini) (57.4.0)\n",
            "Requirement already satisfied: wasabi<1.1.0,>=0.9.1 in /usr/local/lib/python3.7/dist-packages (from spacy>=3.2.1->pyserini) (0.10.1)\n",
            "Requirement already satisfied: typing-extensions<4.2.0,>=3.7.4 in /usr/local/lib/python3.7/dist-packages (from spacy>=3.2.1->pyserini) (4.1.1)\n",
            "Requirement already satisfied: pathy>=0.3.5 in /usr/local/lib/python3.7/dist-packages (from spacy>=3.2.1->pyserini) (0.6.2)\n",
            "Requirement already satisfied: preshed<3.1.0,>=3.0.2 in /usr/local/lib/python3.7/dist-packages (from spacy>=3.2.1->pyserini) (3.0.7)\n",
            "Requirement already satisfied: srsly<3.0.0,>=2.4.3 in /usr/local/lib/python3.7/dist-packages (from spacy>=3.2.1->pyserini) (2.4.4)\n",
            "Requirement already satisfied: pydantic!=1.8,!=1.8.1,<1.10.0,>=1.7.4 in /usr/local/lib/python3.7/dist-packages (from spacy>=3.2.1->pyserini) (1.9.2)\n",
            "Requirement already satisfied: thinc<8.2.0,>=8.1.0 in /usr/local/lib/python3.7/dist-packages (from spacy>=3.2.1->pyserini) (8.1.3)\n",
            "Requirement already satisfied: murmurhash<1.1.0,>=0.28.0 in /usr/local/lib/python3.7/dist-packages (from spacy>=3.2.1->pyserini) (1.0.8)\n",
            "Requirement already satisfied: langcodes<4.0.0,>=3.2.0 in /usr/local/lib/python3.7/dist-packages (from spacy>=3.2.1->pyserini) (3.3.0)\n",
            "Requirement already satisfied: zipp>=0.5 in /usr/local/lib/python3.7/dist-packages (from catalogue<2.1.0,>=2.0.6->spacy>=3.2.1->pyserini) (3.9.0)\n",
            "Requirement already satisfied: pyparsing!=3.0.5,>=2.0.2 in /usr/local/lib/python3.7/dist-packages (from packaging->onnxruntime>=1.8.1->pyserini) (3.0.9)\n",
            "Requirement already satisfied: smart-open<6.0.0,>=5.2.1 in /usr/local/lib/python3.7/dist-packages (from pathy>=0.3.5->spacy>=3.2.1->pyserini) (5.2.1)\n",
            "Requirement already satisfied: urllib3!=1.25.0,!=1.25.1,<1.26,>=1.21.1 in /usr/local/lib/python3.7/dist-packages (from requests<3.0.0,>=2.13.0->spacy>=3.2.1->pyserini) (1.24.3)\n",
            "Requirement already satisfied: chardet<4,>=3.0.2 in /usr/local/lib/python3.7/dist-packages (from requests<3.0.0,>=2.13.0->spacy>=3.2.1->pyserini) (3.0.4)\n",
            "Requirement already satisfied: certifi>=2017.4.17 in /usr/local/lib/python3.7/dist-packages (from requests<3.0.0,>=2.13.0->spacy>=3.2.1->pyserini) (2022.9.24)\n",
            "Requirement already satisfied: idna<3,>=2.5 in /usr/local/lib/python3.7/dist-packages (from requests<3.0.0,>=2.13.0->spacy>=3.2.1->pyserini) (2.10)\n",
            "Requirement already satisfied: confection<1.0.0,>=0.0.1 in /usr/local/lib/python3.7/dist-packages (from thinc<8.2.0,>=8.1.0->spacy>=3.2.1->pyserini) (0.0.3)\n",
            "Requirement already satisfied: blis<0.8.0,>=0.7.8 in /usr/local/lib/python3.7/dist-packages (from thinc<8.2.0,>=8.1.0->spacy>=3.2.1->pyserini) (0.7.8)\n",
            "Requirement already satisfied: tokenizers!=0.11.3,<0.14,>=0.11.1 in /usr/local/lib/python3.7/dist-packages (from transformers>=4.6.0->pyserini) (0.13.1)\n",
            "Requirement already satisfied: pyyaml>=5.1 in /usr/local/lib/python3.7/dist-packages (from transformers>=4.6.0->pyserini) (6.0)\n",
            "Requirement already satisfied: huggingface-hub<1.0,>=0.10.0 in /usr/local/lib/python3.7/dist-packages (from transformers>=4.6.0->pyserini) (0.10.1)\n",
            "Requirement already satisfied: regex!=2019.12.17 in /usr/local/lib/python3.7/dist-packages (from transformers>=4.6.0->pyserini) (2022.6.2)\n",
            "Requirement already satisfied: importlib-metadata in /usr/local/lib/python3.7/dist-packages (from transformers>=4.6.0->pyserini) (5.0.0)\n",
            "Requirement already satisfied: filelock in /usr/local/lib/python3.7/dist-packages (from transformers>=4.6.0->pyserini) (3.8.0)\n",
            "Requirement already satisfied: click<9.0.0,>=7.1.1 in /usr/local/lib/python3.7/dist-packages (from typer<0.5.0,>=0.3.0->spacy>=3.2.1->pyserini) (7.1.2)\n",
            "Requirement already satisfied: humanfriendly>=9.1 in /usr/local/lib/python3.7/dist-packages (from coloredlogs->onnxruntime>=1.8.1->pyserini) (10.0)\n",
            "Requirement already satisfied: MarkupSafe>=0.23 in /usr/local/lib/python3.7/dist-packages (from jinja2->spacy>=3.2.1->pyserini) (2.0.1)\n",
            "Requirement already satisfied: mpmath>=0.19 in /usr/local/lib/python3.7/dist-packages (from sympy->onnxruntime>=1.8.1->pyserini) (1.2.1)\n"
          ]
        }
      ]
    },
    {
      "cell_type": "code",
      "source": [
        "import json\n",
        "import numpy as np\n",
        "!pip install faiss-cpu --no-cache\n",
        "import faiss\n",
        "from google.colab import drive\n",
        "drive.mount('/content/drive/')"
      ],
      "metadata": {
        "colab": {
          "base_uri": "https://localhost:8080/"
        },
        "id": "XcDxNAWf0uxh",
        "outputId": "cbd06fc8-e3c5-4d6e-e24a-d3a5d8610473"
      },
      "execution_count": null,
      "outputs": [
        {
          "output_type": "stream",
          "name": "stdout",
          "text": [
            "Looking in indexes: https://pypi.org/simple, https://us-python.pkg.dev/colab-wheels/public/simple/\n",
            "Requirement already satisfied: faiss-cpu in /usr/local/lib/python3.7/dist-packages (1.7.2)\n",
            "Drive already mounted at /content/drive/; to attempt to forcibly remount, call drive.mount(\"/content/drive/\", force_remount=True).\n"
          ]
        }
      ]
    },
    {
      "cell_type": "code",
      "execution_count": null,
      "metadata": {
        "id": "dHgIHv4f0B4G"
      },
      "outputs": [],
      "source": [
        "f_origin = open('/content/drive/MyDrive/IR_data/pubmed 220 train.txt', 'r')\n",
        "# f_origin = open('/content/drive/MyDrive/IR_data/short_ver.txt', 'r')\n",
        "f_json = open('/content/IR_local_data/processed_data.json', 'w')\n",
        "\n",
        "full_data = []\n",
        "\n",
        "with f_origin as f:\n",
        "  content = f.readlines()\n",
        "  for i in str(content).split(\"###\"):\n",
        "    content = i.replace(\"\\\\n\", \"\")\\\n",
        "          .replace(\"BACKGROUND\\\\t\", \"\")\\\n",
        "          .replace(\"OBJECTIVE\\\\t\", \"\")\\\n",
        "          .replace(\"METHODS\\\\t\", \"\")\\\n",
        "          .replace(\"RESULTS\\\\t\", \"\")\\\n",
        "          .replace(\"CONCLUSIONS\\\\t\", \"\")\n",
        "    # print(content.split())\n",
        "    new_content = \" \".join(content.split())\n",
        "    id_doc = new_content.replace(\"',\", \"\").replace(\"'\", \"\")\n",
        "    real_id = id_doc.split()[0]\n",
        "    real_content = ' '.join(id_doc.split()[1:]).replace(\"]\", \"\").replace('\\\"', \"\")\n",
        "    # print(real_content)\n",
        "    \n",
        "    data = dict.fromkeys([\"id\", \"contents\"])\n",
        "    data.update({'id': real_id, 'contents': real_content})\n",
        "    \n",
        "    # print(data)\n",
        "\n",
        "    if(real_id !='['):\n",
        "      full_data.append(data)\n",
        "\n",
        "with f_json as jsonfile:\n",
        "  json.dump(full_data, jsonfile)\n",
        "\n",
        "f_origin.close()\n",
        "f_json.close()\n"
      ]
    },
    {
      "cell_type": "code",
      "source": [
        "!python -m pyserini.index.lucene \\\n",
        "  --collection JsonCollection \\\n",
        "  --input /content/IR_local_data \\\n",
        "  --index /content/indexes/sample_collection_json3 \\\n",
        "  --generator DefaultLuceneDocumentGenerator \\\n",
        "  --threads 1 \\\n",
        "  --storePositions --storeContents"
      ],
      "metadata": {
        "colab": {
          "base_uri": "https://localhost:8080/"
        },
        "id": "H-hC5m0KQA-5",
        "outputId": "3ee1c346-6863-4318-d6e0-47a51dc37e3b"
      },
      "execution_count": 212,
      "outputs": [
        {
          "output_type": "stream",
          "name": "stdout",
          "text": [
            "WARNING: sun.reflect.Reflection.getCallerClass is not supported. This will impact performance.\n",
            "2022-10-13 17:59:22,401 INFO  [main] index.IndexCollection (IndexCollection.java:248) - Setting log level to INFO\n",
            "2022-10-13 17:59:22,404 INFO  [main] index.IndexCollection (IndexCollection.java:251) - Starting indexer...\n",
            "2022-10-13 17:59:22,404 INFO  [main] index.IndexCollection (IndexCollection.java:252) - ============ Loading Parameters ============\n",
            "2022-10-13 17:59:22,405 INFO  [main] index.IndexCollection (IndexCollection.java:253) - DocumentCollection path: /content/IR_local_data\n",
            "2022-10-13 17:59:22,405 INFO  [main] index.IndexCollection (IndexCollection.java:254) - CollectionClass: JsonCollection\n",
            "2022-10-13 17:59:22,406 INFO  [main] index.IndexCollection (IndexCollection.java:255) - Generator: DefaultLuceneDocumentGenerator\n",
            "2022-10-13 17:59:22,406 INFO  [main] index.IndexCollection (IndexCollection.java:256) - Threads: 1\n",
            "2022-10-13 17:59:22,407 INFO  [main] index.IndexCollection (IndexCollection.java:257) - Language: en\n",
            "2022-10-13 17:59:22,407 INFO  [main] index.IndexCollection (IndexCollection.java:258) - Stemmer: porter\n",
            "2022-10-13 17:59:22,407 INFO  [main] index.IndexCollection (IndexCollection.java:259) - Keep stopwords? false\n",
            "2022-10-13 17:59:22,408 INFO  [main] index.IndexCollection (IndexCollection.java:260) - Stopwords: null\n",
            "2022-10-13 17:59:22,408 INFO  [main] index.IndexCollection (IndexCollection.java:261) - Store positions? true\n",
            "2022-10-13 17:59:22,409 INFO  [main] index.IndexCollection (IndexCollection.java:262) - Store docvectors? false\n",
            "2022-10-13 17:59:22,409 INFO  [main] index.IndexCollection (IndexCollection.java:263) - Store document \"contents\" field? true\n",
            "2022-10-13 17:59:22,410 INFO  [main] index.IndexCollection (IndexCollection.java:264) - Store document \"raw\" field? false\n",
            "2022-10-13 17:59:22,410 INFO  [main] index.IndexCollection (IndexCollection.java:265) - Additional fields to index: []\n",
            "2022-10-13 17:59:22,411 INFO  [main] index.IndexCollection (IndexCollection.java:266) - Optimize (merge segments)? false\n",
            "2022-10-13 17:59:22,411 INFO  [main] index.IndexCollection (IndexCollection.java:267) - Whitelist: null\n",
            "2022-10-13 17:59:22,412 INFO  [main] index.IndexCollection (IndexCollection.java:268) - Pretokenized?: false\n",
            "2022-10-13 17:59:22,412 INFO  [main] index.IndexCollection (IndexCollection.java:269) - Index path: /content/indexes/sample_collection_json3\n",
            "2022-10-13 17:59:22,415 INFO  [main] index.IndexCollection (IndexCollection.java:307) - ============ Indexing Collection ============\n",
            "2022-10-13 17:59:22,998 INFO  [main] index.IndexCollection (IndexCollection.java:417) - Thread pool with 1 threads initialized.\n",
            "2022-10-13 17:59:22,999 INFO  [main] index.IndexCollection (IndexCollection.java:419) - Initializing collection in /content/IR_local_data\n",
            "2022-10-13 17:59:23,004 INFO  [main] index.IndexCollection (IndexCollection.java:428) - 1 file found\n",
            "2022-10-13 17:59:23,005 INFO  [main] index.IndexCollection (IndexCollection.java:429) - Starting to index...\n",
            "2022-10-13 18:00:10,440 DEBUG [pool-2-thread-1] index.IndexCollection$LocalIndexerThread (IndexCollection.java:213) - IR_local_data/processed_data.json: 190657 docs added.\n",
            "2022-10-13 18:00:19,042 INFO  [main] index.IndexCollection (IndexCollection.java:485) - Indexing Complete! 190,657 documents indexed\n",
            "2022-10-13 18:00:19,043 INFO  [main] index.IndexCollection (IndexCollection.java:486) - ============ Final Counter Values ============\n",
            "2022-10-13 18:00:19,043 INFO  [main] index.IndexCollection (IndexCollection.java:487) - indexed:          190,657\n",
            "2022-10-13 18:00:19,044 INFO  [main] index.IndexCollection (IndexCollection.java:488) - unindexable:            0\n",
            "2022-10-13 18:00:19,044 INFO  [main] index.IndexCollection (IndexCollection.java:489) - empty:                  0\n",
            "2022-10-13 18:00:19,044 INFO  [main] index.IndexCollection (IndexCollection.java:490) - skipped:                0\n",
            "2022-10-13 18:00:19,044 INFO  [main] index.IndexCollection (IndexCollection.java:491) - errors:                 0\n",
            "2022-10-13 18:00:19,052 INFO  [main] index.IndexCollection (IndexCollection.java:494) - Total 190,657 documents indexed in 00:00:56\n"
          ]
        }
      ]
    },
    {
      "cell_type": "code",
      "source": [
        "from pyserini.search.lucene import LuceneSearcher\n",
        "\n",
        "searcher = LuceneSearcher('/content/indexes/sample_collection_json3')\n",
        "hits = searcher.search('Cortical')\n",
        "\n",
        "for i in range(len(hits)):\n",
        "    print(f'{i+1:2} {hits[i].docid:4} {hits[i].score:.5f}')\n",
        "    print(\"{\")\n",
        "    print('\\t\"id\" : \"' + hits[i].docid + '\",')\n",
        "    print('\\t\"contents\" : \"' + hits[i].contents + '\",')\n",
        "    print(\"}\")\n"
      ],
      "metadata": {
        "colab": {
          "base_uri": "https://localhost:8080/"
        },
        "id": "7v-2dLiWUBf5",
        "outputId": "112e3a59-78ad-40c3-ada4-dec1073f1fd7"
      },
      "execution_count": 218,
      "outputs": [
        {
          "output_type": "stream",
          "name": "stdout",
          "text": [
            " 1 23445918 5.14240\n",
            "{\n",
            "\t\"id\" : \"23445918\",\n",
            "\t\"contents\" : \"The purpose of this study was to determine variability in cortical volumetric bone density ( vBMD ) from a single slice tibia image over a range of vBMD readings and ages . Males and females ( N = 80 ; aged 6-80 ) were randomly selected from a previous study . Cortical vBMD at the anterior , posterior , medial , and lateral regions as well as the endocortical , mid-cortical , and pericortical regions of the cortical shell were determined using pQCT . Mean anterior ROI cortical vBMD ( 111111 mg/cm ( 3 ) ) was lower than the posterior and lateral ROIs ( 11697 mg/cm ( 3 ) and 11519 mg/cm ( 3 ) , respectively ) , ( p < 0.05 ) . Individuals with lower overall cortical vBMD and younger individuals had greater vBMD variability within the shell ( r = 0.37 , p = 0.004 ) . Difference between anterior and posterior regions was inversely associated with cortical vBMD and jump power ( r = 0.46 , p = 0.001 ) . Endocortical vBMD ( 10806 mg/cm ) was lower than the mid-cortical and pericortical regions ( 11525 mg/cm ( 3 ) and 11475 mg/cm , respectively ) . Variability in cortical vBMD was higher among young individuals and those with lower overall cortical vBMD , while lowest in older individuals and men . The anterior ROI had lower mean cortical vBMD than posterior or lateral regions , and endocortical vBMD was lower than the mid - and pericortical regions .\",\n",
            "}\n",
            " 2 20613470 5.07890\n",
            "{\n",
            "\t\"id\" : \"20613470\",\n",
            "\t\"contents\" : \"The purpose of this study was to evaluate a new , physiologically inspired method for the analysis of the electroencephalogram during propofol-remifentanil anesthesia . Based on fixed-order autoregressive moving-average modeling , this method was hypothesized to be capable of dissociating the effects that hypnotic and analgesic agents have on brain electrical activity . Raw electroencephalographic waves from a previously published study were reanalyzed . In this study , 45 American Society of Anesthesiologists status I patients were randomly allocated to one of three groups according to a specific target effect-site remifentanil concentration ( 0 , 2 , and 4 ng/ml ) . All patients received stepwise-increased targeted effect-site concentrations of propofol ( CePROP ) . At each step change in target CePROP , the Observer s Assessment of Alertness/Sedation score was evaluated ., Raw electroencephalograph was continuously acquired from frontal electrodes . Electroencephalography traces were analyzed using a fixed-order autoregressive moving average model to give derived measures of Cortical State and Cortical Input . Response surfaces were visualized and modeled using Hierarchical Linear Modeling . Cortical State ( a measure of cortical responsiveness ) and Cortical Input ( a measure of the magnitude of cortical input ) were shown to respond differently to CePROP and effect-site remifentanil concentration . Cortical Input decreased significantly with increasing effect-site remifentanil concentration , whereas Cortical State remained unchanged with increasing effect-site remifentanil concentration but decreased with increasing CePROP . Because Cortical State responds principally to variations in CePROP , it is a potential measure of hypnosis , whereas the dependence of Cortical Input on effect-site remifentanil concentration suggests that it may be useful as a measure of analgesic efficacy and the nociceptive-antinociceptive balance .\",\n",
            "}\n",
            " 3 16179209 5.06590\n",
            "{\n",
            "\t\"id\" : \"16179209\",\n",
            "\t\"contents\" : \"Quantitative evaluation of cortical bone architecture as a means to assess bone strength typically is accomplished on the basis of images obtained by means of dual-energy X-ray absorptiometry ( DXA ) or computed tomography . Magnetic resonance ( MR ) imaging has potential advantages for this task in that it allows imaging in arbitrary scan planes at high spatial resolution . However , several hurdles have to be overcome to make this approach practical , including resolution of issues related to nonlinear receive coil sensitivity , variations in marrow composition , and the presence of periosteal isointense tissues , which all complicate segmentation . The aim of this study is to develop MR acquisition and analysis methods optimized for the detection of cortical boundaries in such complex geometries as the femoral neck . Cortical boundary detection is achieved by radially tracing intensity profiles that intersect the periosteal and endosteal boundaries of bone . Profiles subsequently are normalized to the intensity of the marrow signal , processed with morphologic image operators , and binarized . The resulting boundaries are mapped back onto the spatial image , and erroneous boundary points are removed . From the detected cortical boundaries , cortical cross-sectional area and thickness are computed . The method was evaluated on cortical bone specimens and human volunteers on the basis of high-resolution images acquired at a 1.5-Tesla field strength . To assess whether the method is sensitive to detect the expected dependencies of cortical parameters in weight-bearing bone on overall habitus , 10 women aged 46-73 years ( mean age , 56 years ) underwent the cortical imaging protocol in the proximal femur , and results were compared with DXA bone mineral density parameters of the hip and spine . Reproducibility was approximately 2 % . Double oblique images of the femoral neck in the 10 women studied showed that cortical cross-sectional area correlated strongly with height ( r = 0.88 ; p = .0008 ) , whereas cortical diameter versus age approached significance ( r = 0.61 ; p = .06 ) . Measurements in specimens of some cortical parameters indicated resolution dependence . However , note that specimen ranking within each parameter remained constant across all resolutions studied . Data suggest the new method to be robust and applicable on standard clinical MR scanners at arbitrary anatomic locations to yield clinically meaningful quantitative results .\",\n",
            "}\n",
            " 4 24060767 5.03710\n",
            "{\n",
            "\t\"id\" : \"24060767\",\n",
            "\t\"contents\" : \"Newborns perceive pain , and several non-pharmacologic analgesic methods have been used during painful procedures . Activation of the neonatal somatosensory cortex , in association with a painful procedure without analgesia , has been demonstrated by two-channel near-infrared spectroscopy ( NIRS ) . To evaluate both cortical and behavioural responses of healthy term newborns to a painful procedure during two non-pharmacologic analgesic interventions , i.e. glucose solution and breastfeeding . The effects of glucose and breastfeeding on pain-associated neonatal cortical activity were studied in two groups ( n = 30 ) by multichannel NIRS during a heel prick . Cortical activation was identified by variations in oxygenated haemoglobin . Neonatal pain expression was assessed by a validated scale . No significant variations in cortical activity emerged using glucose solution , whereas breastfed newborns showed widespread cortical activation . Breastfed neonates showed significantly less behavioural pain expression . Glucose is associated with no significant cortical activation and may interfere with pain-associated response at the cortical level . Conversely , breastfeeding analgesia is associated with generalized cortical activation and may act by multisensory stimulation , possibly overwhelming pain perception .\",\n",
            "}\n",
            " 5 23322818 5.03360\n",
            "{\n",
            "\t\"id\" : \"23322818\",\n",
            "\t\"contents\" : \"In women , cortical bone mass decreases significantly at menopause . By contrast , loss of trabecular bone begins in the third decade and accelerates after menopause . The aim of the study was to investigate the effects of estrogen on cortical and trabecular bone . The Kronos Early Estrogen Prevention Study is a double-blind , randomized , placebo-controlled trial of menopausal hormone treatment ( MHT ) in women , enrolled within 6-36 months of their final menstrual period . The study was conducted at the Mayo Clinic , Rochester , Minnesota . Subjects were treated with placebo ( n = 31 ) , or .45 mg/d conjugated equine estrogens ( n = 20 ) , or transdermal 50 g/d 17-estradiol ( n = 25 ) with pulsed micronized progesterone . Cortical and trabecular microarchitecture at the distal radius was assessed by high-resolution peripheral quantitative computed tomography . At the distal radius , cortical volumetric bone mineral density ( vBMD ) decreased , and cortical porosity increased in the placebo group ; MHT prevented these changes . By contrast , MHT did not prevent decreases in trabecular microarchitecture at the radius . However , MHT prevented decreases in trabecular vBMD at the thoracic spine ( assessed in a subset of subjects ; n = 51 ) . These results indicate that MHT prevents deterioration in radial cortical vBMD and porosity in recently menopausal women . The maintenance of cortical bone in response to estrogen likely has important clinical implications because cortical bone morphology plays an important role in bone strength . However , effects of MHT on trabecular bone at the radius differ from those at the thoracic spine . Underlying mechanisms for these site-specific effects of MHT on cortical vs trabecular bone require further investigation .\",\n",
            "}\n",
            " 6 16919207 5.00350\n",
            "{\n",
            "\t\"id\" : \"16919207\",\n",
            "\t\"contents\" : \"Great variability exists in methods of stabilization for syndesmotic disruptions of the ankle . We hypothesized that syndesmotic screw fixation with 3.5-mm fully threaded cortical screws through either three or four cortices would have similar strength and rate of mechanical failure and that retention of screws after fracture healing would not result in adverse clinical symptoms . In a prospective , surgeon-randomized study at a Level-one trauma center , 127 patients with syndesmotic disruptions were treated surgically . Seven patients were lost to followup , leaving 120 for review . Syndesmotic disruptions were stabilized with 3.5-mm fully threaded cortical screws placed through three or four cortices . Screws were removed only if symptomatic . Outcome criteria were screw failure , loss of reduction , and need for hardware removal . Fifty-nine patients received fixation through three cortices and 61 patients received fixation through four cortices . Mean follow-up was 150 days . In the group with stabilization through three cortices , hardware failure occurred in five patients ( 8 % ) and three had a loss of reduction . In the group with stabilization through four cortices , hardware failure occurred in four patients ( 7 % ) ; all were asymptomatic and did not require screw removal . There was no loss of reduction in that group . Comparing the two groups using binary logistic analysis , there was no difference in loss of reduction ( p = 0.871 ) , screw breakage ( p = 0.689 ) , or need for hardware removal ( p = 0.731 ) . The data suggest that either three or four cortices of fixation can be used when stabilizing syndesmotic injuries of the ankle . There was a trend towards higher loss of reduction in the group with tricortical fixation when weightbearing restrictions were not followed . Retention of the syndesmotic screws , even with mechanical failure , does not pose a clinical problem . Weightbearing can be allowed at 6 to 10 weeks without routine removal of screws .\",\n",
            "}\n",
            " 7 11470690 4.99480\n",
            "{\n",
            "\t\"id\" : \"11470690\",\n",
            "\t\"contents\" : \"To investigate possible risk factors for age-related nuclear and cortical cataracts in participants in the Age-Related Eye Disease Study ( AREDS ) . Case-control study . Of the 4757 persons enrolled in AREDS , 4477 age 60 to 80 years are included in the study . Slit-lamp lens photographs were used to classify participants into one of three nuclear opacity groups ( moderate nuclear , mild nuclear , and controls ) , ignoring cortical opacities . Retroillumination lens photographs were used to classify participants into one of three cortical opacity groups ( moderate cortical , mild cortical , and controls ) , ignoring nuclear opacities . Persons with moderate nuclear opacities were more likely to be female , nonwhite , and smokers and to have large drusen . Moderate nuclear opacities were less common in persons with higher educational status , a history of diabetes , and among those taking nonsteroidal antiinflammatory drugs . Moderate cortical opacities were associated with dark iris color , large drusen , weight change , and , at a borderline level of significance , higher levels of sunlight exposure and use of thyroid hormones . Moderate cortical opacities were less common in persons with higher educational status . Consistent findings have now been reported across many studies for gender , educational status , sunlight exposure , and smoking . Our findings that use of nonsteroidal antiinflammatory drugs is inversely associated with nuclear cataract and that dark iris color and use of thyroid hormones may increase cortical cataract risk are less well substantiated and require further investigation .\",\n",
            "}\n",
            " 8 22037137 4.99480\n",
            "{\n",
            "\t\"id\" : \"22037137\",\n",
            "\t\"contents\" : \"Several lines of evidence suggest that cognitive behavioral therapy ( CBT ) is an effective treatment for depression and anxiety disorders . Evidence suggests that the therapeutic effects of CBT are related to neurophysiologic changes in the cortex , particularly - aminobutyric acid ( GABA ) potentiation . Transcranial magnetic stimulation ( TMS ) represents a noninvasive method of measuring cortical inhibition , which is a neurophysiologic mechanism associated with the pathophysiology of several psychiatric disorders . To demonstrate the effectiveness of a 12-week CBT intervention compared with a wait list control group measuring cortical inhibition in participants with pathologic perfectionism . Participants within the CBT group would demonstrate increases in cortical inhibition and improvements on clinical outcomes relative to the wait list control group . Twenty-four right-handed perfectionists were randomly assigned to a 12-week CBT intervention or a wait list control group . Cortical inhibition was measured at pre - and postintervention with TMS paradigms specifically short-interval cortical inhibition and the cortical silent period , which index GABAA and GABAB receptor-mediated inhibitory neurotransmission , respectively . The CBT group demonstrated a significant potentiation of the cortical silent period when compared with the wait list control group . The CBT group demonstrated a decrease in anxiety sensitivity and automatic thoughts relative to the control group . These findings demonstrate that CBT tailored for perfectionism is accompanied by an increase in cortical inhibition of the motor cortex and positive changes on clinical outcomes . These findings provide compelling evidence for an association between positive CBT effects and a potentiation of GABAergic inhibitory neurotransmission .\",\n",
            "}\n",
            " 9 25563642 4.97810\n",
            "{\n",
            "\t\"id\" : \"25563642\",\n",
            "\t\"contents\" : \"The relationships between cerebrovascular lesions visible on imaging and cognition are complex . We explored the possibility that the cerebral cortical volume mediated these relationships . Total of 1906 nondemented participants ( 59 % women ; 25 % African-American ; mean age , 76.6 years ) in the Atherosclerosis Risk in Communities ( ARIC ) study underwent cognitive assessments , risk factor assessments , and quantitative MRI for white matter hyperintensities ( WMH ) and infarcts . The Freesurfer imaging analysis pipeline was used to determine regional cerebral volumes . We examined the associations of cognitive domain outcomes with cerebral volumes ( hippocampus and separate groups of posterior and frontal cortical regions of interest ) and cerebrovascular imaging features ( presence of large or small cortical/subcortical infarcts and WMH volume ) . We performed mediation pathway analyses to assess the hypothesis that hippocampal and cortical volumes mediated the associations between cerebrovascular imaging features and cognition . In unmediated analyses , WMH and infarcts were both associated with worse psychomotor speed/executive function . In mediation analyses , WMH and infarct associations on psychomotor speed/executive function were significantly attenuated , but not abolished , by the inclusion of the posterior cortical regions of interest volume in the models , and the infarcts on psychomotor speed/executive function association were attenuated , but not abolished , by inclusion of the frontal cortical regions of interest volume . Both WMH and infarcts were associated with cortical volume , and both lesions were also associated with cognitive performance , implying shared pathophysiological mechanisms . Although cross-sectional , our findings suggest that WMH and infarcts could be proxies for clinically covert processes that directly damage cortical regions . Microinfarcts are 1 candidate for such a clinically covert process .\",\n",
            "}\n",
            "10 12553387 4.97370\n",
            "{\n",
            "\t\"id\" : \"12553387\",\n",
            "\t\"contents\" : \"Many anaesthesiologists still interpret haemodynamic responses as signs of insufficient cortical suppression . The aim was to illustrate how haemodynamics may only poorly reflect the level of cortical suppression and that electroencephalographic monitoring could indicate different relationships between cortical effects and haemodynamics . Anaesthesia was induced with thiopental ( 7 mg kg ( -1 ) ) , and fentanyl ( 2 microg kg ( -1 ) ) with succinylcholine ( 1.5 mg kg ( -1 ) ) for neuromuscular blockade in the 11 patients of Group 1 . In Group 2 ( n = 15 ) , thiopental ( 7 mg kg ( -1 ) ) and succinylcholine ( 1.5 mg kg ( -1 ) ) were given . In Group 3 , the patients ( n = 13 ) received thiopental ( 7 mg kg ( -1 ) ) , fentanyl ( 2 microg kg ( -1 ) ) and cisatracurium ( 0.1 mg kg ( -1 ) ) , and they were intubated 3 min later than the patients in Groups 1 and 2 . We determined conventional electroencephalographic ( EEG ) variables and classified 14 EEG stages in real-time ranging from A ( = 1 ) , indicating full wakefulness , to F1 ( = 14 ) , at profound cortical suppression . All groups had profound cortical suppression 45 s after thiopental administration , which rapidly decreased ( EEG stage , 11 ( 6-13 ) versus 7 ( 2-13 ) at 4 min , P < 0.0001 ) . Decreasing EEG stages were associated with increasing SEF 95 , relative alpha and beta power and decreasing relative delta power . During tracheal intubation , profound cortical suppression remained unchanged in Groups 1 and 2 . In Group 3 , cortical suppression had decreased before laryngoscopy ( P < 0.005 ) . In Group 2 , 11 patients had heart rate responses to tracheal intubation , whereas only two responded in Group 1 ( P = 0.015 ) and three in Group 3 ( P = 0.02 ) . Thirteen patients in Group 2 had arterial pressure responses , and five in Group 1 ( P = 0.038 ) . Circulatory responses did not differ between Groups 1 and 3 . Electroencephalographic monitoring was suitable to indicate in real-time that haemodynamics only poorly reflect rapidly changing levels of cortical suppression , and how haemodynamics and cortical activity depend on the applied combination of hypnotic and analgesic drugs during anaesthesia induction with thiopental .\",\n",
            "}\n"
          ]
        }
      ]
    }
  ]
}